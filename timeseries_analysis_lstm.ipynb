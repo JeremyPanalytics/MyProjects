{
  "nbformat": 4,
  "nbformat_minor": 0,
  "metadata": {
    "colab": {
      "provenance": [],
      "toc_visible": true
    },
    "kernelspec": {
      "name": "python3",
      "display_name": "Python 3"
    },
    "language_info": {
      "name": "python"
    },
    "accelerator": "GPU"
  },
  "cells": [
    {
      "cell_type": "markdown",
      "source": [
        "# Overview of Timeseries predictions (LSTM) Read this first\n"
      ],
      "metadata": {
        "id": "h-pWEvovvshQ"
      }
    },
    {
      "cell_type": "markdown",
      "source": [
        "Notes. \n",
        "\n",
        "I am combining LSTM (RNN) with multivariate for predictions"
      ],
      "metadata": {
        "id": "V5coYK6WFRoH"
      }
    },
    {
      "cell_type": "markdown",
      "source": [
        "Based on available runtime hardware and constraints, this layer will choose different implementations (cuDNN-based or pure-TensorFlow) to maximize the performance. If a GPU is available and all the arguments to the layer meet the requirement of the cuDNN kernel (see below for details), the layer will use a fast cuDNN implementation.\n",
        "\n",
        "The requirements to use the cuDNN implementation are:\n",
        "\n",
        "activation == tanh\n",
        "\n",
        "recurrent_activation == sigmoid\n",
        "\n",
        "recurrent_dropout == 0\n",
        "\n",
        "unroll is False\n",
        "\n",
        "use_bias is True\n",
        "\n",
        "Inputs, if use masking, are strictly right-padded.\n",
        "\n",
        "Eager execution is enabled in the outermost context."
      ],
      "metadata": {
        "id": "oOGirpWEFiIg"
      }
    },
    {
      "cell_type": "markdown",
      "source": [
        "hyperparameters used: \n",
        "- WINDOW = 7\n",
        "- HORIZON = 1"
      ],
      "metadata": {
        "id": "DDLj7DXwAsKw"
      }
    },
    {
      "cell_type": "code",
      "source": [
        "WINDOW_SIZE = 7\n",
        "HORIZON = 1"
      ],
      "metadata": {
        "id": "dB8bPYZNGSNA"
      },
      "execution_count": null,
      "outputs": []
    },
    {
      "cell_type": "markdown",
      "source": [
        "https://machinelearningmastery.com/multivariate-time-series-forecasting-lstms-keras/"
      ],
      "metadata": {
        "id": "PGVSitv0JmRz"
      }
    },
    {
      "cell_type": "markdown",
      "source": [
        "the inputs (X) are reshaped into the 3D format expected by LSTMs, namely\n",
        "\n",
        "[samples, timesteps, features]."
      ],
      "metadata": {
        "id": "xsPnP_ofJwWu"
      }
    },
    {
      "cell_type": "markdown",
      "source": [
        "# Part 0. Load in Functions"
      ],
      "metadata": {
        "id": "uP3AyXUaAuRi"
      }
    },
    {
      "cell_type": "code",
      "source": [
        "!pip install Historic-Crypto\n",
        "!pip install fastquant"
      ],
      "metadata": {
        "colab": {
          "base_uri": "https://localhost:8080/",
          "height": 1000
        },
        "id": "qZDGORDlA_kS",
        "outputId": "a3c4c73e-3f26-4773-cbdb-dde18a90b210"
      },
      "execution_count": null,
      "outputs": [
        {
          "output_type": "stream",
          "name": "stdout",
          "text": [
            "Collecting Historic-Crypto\n",
            "  Downloading Historic_Crypto-0.1.6-py3-none-any.whl (8.8 kB)\n",
            "Requirement already satisfied: numpy in /usr/local/lib/python3.7/dist-packages (from Historic-Crypto) (1.21.5)\n",
            "Requirement already satisfied: requests in /usr/local/lib/python3.7/dist-packages (from Historic-Crypto) (2.23.0)\n",
            "Requirement already satisfied: certifi>=2017.4.17 in /usr/local/lib/python3.7/dist-packages (from requests->Historic-Crypto) (2021.10.8)\n",
            "Requirement already satisfied: urllib3!=1.25.0,!=1.25.1,<1.26,>=1.21.1 in /usr/local/lib/python3.7/dist-packages (from requests->Historic-Crypto) (1.24.3)\n",
            "Requirement already satisfied: idna<3,>=2.5 in /usr/local/lib/python3.7/dist-packages (from requests->Historic-Crypto) (2.10)\n",
            "Requirement already satisfied: chardet<4,>=3.0.2 in /usr/local/lib/python3.7/dist-packages (from requests->Historic-Crypto) (3.0.4)\n",
            "Installing collected packages: Historic-Crypto\n",
            "Successfully installed Historic-Crypto-0.1.6\n",
            "Collecting fastquant\n",
            "  Downloading fastquant-0.1.8.0-py3-none-any.whl (5.9 MB)\n",
            "\u001b[K     |████████████████████████████████| 5.9 MB 5.9 MB/s \n",
            "\u001b[?25hRequirement already satisfied: oauthlib>=3.1.0 in /usr/local/lib/python3.7/dist-packages (from fastquant) (3.2.0)\n",
            "Requirement already satisfied: tqdm>=4.28.1 in /usr/local/lib/python3.7/dist-packages (from fastquant) (4.63.0)\n",
            "Collecting croniter>=0.3.35\n",
            "  Downloading croniter-1.3.4-py2.py3-none-any.whl (17 kB)\n",
            "Requirement already satisfied: networkx>=2.4 in /usr/local/lib/python3.7/dist-packages (from fastquant) (2.6.3)\n",
            "Requirement already satisfied: python-dateutil>=2.8.1 in /usr/local/lib/python3.7/dist-packages (from fastquant) (2.8.2)\n",
            "Requirement already satisfied: numpy>=1.18.0 in /usr/local/lib/python3.7/dist-packages (from fastquant) (1.21.5)\n",
            "Requirement already satisfied: bs4>=0.0.1 in /usr/local/lib/python3.7/dist-packages (from fastquant) (0.0.1)\n",
            "Requirement already satisfied: chardet>=3.0.4 in /usr/local/lib/python3.7/dist-packages (from fastquant) (3.0.4)\n",
            "Requirement already satisfied: PySocks>=1.7.1 in /usr/local/lib/python3.7/dist-packages (from fastquant) (1.7.1)\n",
            "Collecting black>=19.10b0\n",
            "  Downloading black-22.3.0-cp37-cp37m-manylinux_2_17_x86_64.manylinux2014_x86_64.whl (1.4 MB)\n",
            "\u001b[K     |████████████████████████████████| 1.4 MB 49.5 MB/s \n",
            "\u001b[?25hRequirement already satisfied: tweepy>=3.8.0 in /usr/local/lib/python3.7/dist-packages (from fastquant) (3.10.0)\n",
            "Requirement already satisfied: idna>=2.8 in /usr/local/lib/python3.7/dist-packages (from fastquant) (2.10)\n",
            "Collecting backtrader>=1.9.75.123\n",
            "  Downloading backtrader-1.9.76.123-py2.py3-none-any.whl (410 kB)\n",
            "\u001b[K     |████████████████████████████████| 410 kB 56.0 MB/s \n",
            "\u001b[?25hCollecting nltk>=3.5\n",
            "  Downloading nltk-3.7-py3-none-any.whl (1.5 MB)\n",
            "\u001b[K     |████████████████████████████████| 1.5 MB 43.5 MB/s \n",
            "\u001b[?25hCollecting pytz>=2019.3\n",
            "  Downloading pytz-2022.1-py2.py3-none-any.whl (503 kB)\n",
            "\u001b[K     |████████████████████████████████| 503 kB 56.9 MB/s \n",
            "\u001b[?25hCollecting pre-commit\n",
            "  Downloading pre_commit-2.18.1-py2.py3-none-any.whl (197 kB)\n",
            "\u001b[K     |████████████████████████████████| 197 kB 55.4 MB/s \n",
            "\u001b[?25hRequirement already satisfied: scipy in /usr/local/lib/python3.7/dist-packages (from fastquant) (1.4.1)\n",
            "Collecting ccxt>=1.31.1\n",
            "  Downloading ccxt-1.78.5-py2.py3-none-any.whl (2.5 MB)\n",
            "\u001b[K     |████████████████████████████████| 2.5 MB 36.7 MB/s \n",
            "\u001b[?25hRequirement already satisfied: six>=1.13.0 in /usr/local/lib/python3.7/dist-packages (from fastquant) (1.15.0)\n",
            "Requirement already satisfied: requests>=2.22.0 in /usr/local/lib/python3.7/dist-packages (from fastquant) (2.23.0)\n",
            "Collecting yfinance>=0.1.54\n",
            "  Downloading yfinance-0.1.70-py2.py3-none-any.whl (26 kB)\n",
            "Collecting lxml>=4.6.2\n",
            "  Downloading lxml-4.8.0-cp37-cp37m-manylinux_2_17_x86_64.manylinux2014_x86_64.manylinux_2_24_x86_64.whl (6.4 MB)\n",
            "\u001b[K     |████████████████████████████████| 6.4 MB 26.5 MB/s \n",
            "\u001b[?25hCollecting pandas==1.1.5\n",
            "  Downloading pandas-1.1.5-cp37-cp37m-manylinux1_x86_64.whl (9.5 MB)\n",
            "\u001b[K     |████████████████████████████████| 9.5 MB 18.1 MB/s \n",
            "\u001b[?25hCollecting beautifulsoup4>=4.8.2\n",
            "  Downloading beautifulsoup4-4.10.0-py3-none-any.whl (97 kB)\n",
            "\u001b[K     |████████████████████████████████| 97 kB 7.0 MB/s \n",
            "\u001b[?25hRequirement already satisfied: soupsieve>=1.9.5 in /usr/local/lib/python3.7/dist-packages (from fastquant) (2.3.1)\n",
            "Requirement already satisfied: requests-oauthlib>=1.3.0 in /usr/local/lib/python3.7/dist-packages (from fastquant) (1.3.1)\n",
            "Collecting urllib3>=1.25.7\n",
            "  Downloading urllib3-1.26.9-py2.py3-none-any.whl (138 kB)\n",
            "\u001b[K     |████████████████████████████████| 138 kB 46.1 MB/s \n",
            "\u001b[?25hRequirement already satisfied: matplotlib>=3.2.2 in /usr/local/lib/python3.7/dist-packages (from fastquant) (3.2.2)\n",
            "Requirement already satisfied: certifi>=2019.11.28 in /usr/local/lib/python3.7/dist-packages (from fastquant) (2021.10.8)\n",
            "Requirement already satisfied: typing-extensions>=3.10.0.0 in /usr/local/lib/python3.7/dist-packages (from black>=19.10b0->fastquant) (3.10.0.2)\n",
            "Collecting pathspec>=0.9.0\n",
            "  Downloading pathspec-0.9.0-py2.py3-none-any.whl (31 kB)\n",
            "Collecting typed-ast>=1.4.2\n",
            "  Downloading typed_ast-1.5.2-cp37-cp37m-manylinux_2_5_x86_64.manylinux1_x86_64.manylinux_2_12_x86_64.manylinux2010_x86_64.whl (843 kB)\n",
            "\u001b[K     |████████████████████████████████| 843 kB 46.9 MB/s \n",
            "\u001b[?25hCollecting click>=8.0.0\n",
            "  Downloading click-8.1.2-py3-none-any.whl (96 kB)\n",
            "\u001b[K     |████████████████████████████████| 96 kB 6.6 MB/s \n",
            "\u001b[?25hCollecting mypy-extensions>=0.4.3\n",
            "  Downloading mypy_extensions-0.4.3-py2.py3-none-any.whl (4.5 kB)\n",
            "Requirement already satisfied: tomli>=1.1.0 in /usr/local/lib/python3.7/dist-packages (from black>=19.10b0->fastquant) (2.0.1)\n",
            "Collecting platformdirs>=2\n",
            "  Downloading platformdirs-2.5.1-py3-none-any.whl (14 kB)\n",
            "Collecting aiodns>=1.1.1\n",
            "  Downloading aiodns-3.0.0-py3-none-any.whl (5.0 kB)\n",
            "Collecting aiohttp>=3.8\n",
            "  Downloading aiohttp-3.8.1-cp37-cp37m-manylinux_2_5_x86_64.manylinux1_x86_64.manylinux_2_12_x86_64.manylinux2010_x86_64.whl (1.1 MB)\n",
            "\u001b[K     |████████████████████████████████| 1.1 MB 39.2 MB/s \n",
            "\u001b[?25hCollecting yarl==1.7.2\n",
            "  Downloading yarl-1.7.2-cp37-cp37m-manylinux_2_5_x86_64.manylinux1_x86_64.manylinux_2_12_x86_64.manylinux2010_x86_64.whl (271 kB)\n",
            "\u001b[K     |████████████████████████████████| 271 kB 15.2 MB/s \n",
            "\u001b[?25hCollecting setuptools>=60.9.0\n",
            "  Downloading setuptools-62.0.0-py3-none-any.whl (1.1 MB)\n",
            "\u001b[K     |████████████████████████████████| 1.1 MB 45.6 MB/s \n",
            "\u001b[?25hCollecting cryptography>=2.6.1\n",
            "  Downloading cryptography-36.0.2-cp36-abi3-manylinux_2_24_x86_64.whl (3.6 MB)\n",
            "\u001b[K     |████████████████████████████████| 3.6 MB 35.4 MB/s \n",
            "\u001b[?25hCollecting multidict>=4.0\n",
            "  Downloading multidict-6.0.2-cp37-cp37m-manylinux_2_17_x86_64.manylinux2014_x86_64.whl (94 kB)\n",
            "\u001b[K     |████████████████████████████████| 94 kB 3.5 MB/s \n",
            "\u001b[?25hCollecting pycares>=4.0.0\n",
            "  Downloading pycares-4.1.2-cp37-cp37m-manylinux_2_5_x86_64.manylinux1_x86_64.manylinux_2_12_x86_64.manylinux2010_x86_64.whl (291 kB)\n",
            "\u001b[K     |████████████████████████████████| 291 kB 48.0 MB/s \n",
            "\u001b[?25hCollecting aiosignal>=1.1.2\n",
            "  Downloading aiosignal-1.2.0-py3-none-any.whl (8.2 kB)\n",
            "Requirement already satisfied: charset-normalizer<3.0,>=2.0 in /usr/local/lib/python3.7/dist-packages (from aiohttp>=3.8->ccxt>=1.31.1->fastquant) (2.0.12)\n",
            "Collecting asynctest==0.13.0\n",
            "  Downloading asynctest-0.13.0-py3-none-any.whl (26 kB)\n",
            "Collecting async-timeout<5.0,>=4.0.0a3\n",
            "  Downloading async_timeout-4.0.2-py3-none-any.whl (5.8 kB)\n",
            "Requirement already satisfied: attrs>=17.3.0 in /usr/local/lib/python3.7/dist-packages (from aiohttp>=3.8->ccxt>=1.31.1->fastquant) (21.4.0)\n",
            "Collecting frozenlist>=1.1.1\n",
            "  Downloading frozenlist-1.3.0-cp37-cp37m-manylinux_2_5_x86_64.manylinux1_x86_64.manylinux_2_17_x86_64.manylinux2014_x86_64.whl (144 kB)\n",
            "\u001b[K     |████████████████████████████████| 144 kB 43.1 MB/s \n",
            "\u001b[?25hRequirement already satisfied: importlib-metadata in /usr/local/lib/python3.7/dist-packages (from click>=8.0.0->black>=19.10b0->fastquant) (4.11.3)\n",
            "Requirement already satisfied: cffi>=1.12 in /usr/local/lib/python3.7/dist-packages (from cryptography>=2.6.1->ccxt>=1.31.1->fastquant) (1.15.0)\n",
            "Requirement already satisfied: pycparser in /usr/local/lib/python3.7/dist-packages (from cffi>=1.12->cryptography>=2.6.1->ccxt>=1.31.1->fastquant) (2.21)\n",
            "Requirement already satisfied: pyparsing!=2.0.4,!=2.1.2,!=2.1.6,>=2.0.1 in /usr/local/lib/python3.7/dist-packages (from matplotlib>=3.2.2->fastquant) (3.0.7)\n",
            "Requirement already satisfied: cycler>=0.10 in /usr/local/lib/python3.7/dist-packages (from matplotlib>=3.2.2->fastquant) (0.11.0)\n",
            "Requirement already satisfied: kiwisolver>=1.0.1 in /usr/local/lib/python3.7/dist-packages (from matplotlib>=3.2.2->fastquant) (1.4.0)\n",
            "Collecting regex>=2021.8.3\n",
            "  Downloading regex-2022.3.15-cp37-cp37m-manylinux_2_17_x86_64.manylinux2014_x86_64.whl (749 kB)\n",
            "\u001b[K     |████████████████████████████████| 749 kB 45.9 MB/s \n",
            "\u001b[?25hRequirement already satisfied: joblib in /usr/local/lib/python3.7/dist-packages (from nltk>=3.5->fastquant) (1.1.0)\n",
            "Collecting urllib3>=1.25.7\n",
            "  Downloading urllib3-1.25.11-py2.py3-none-any.whl (127 kB)\n",
            "\u001b[K     |████████████████████████████████| 127 kB 49.0 MB/s \n",
            "\u001b[?25hCollecting yfinance>=0.1.54\n",
            "  Downloading yfinance-0.1.69-py2.py3-none-any.whl (26 kB)\n",
            "  Downloading yfinance-0.1.68-py2.py3-none-any.whl (26 kB)\n",
            "  Downloading yfinance-0.1.67-py2.py3-none-any.whl (25 kB)\n",
            "Requirement already satisfied: multitasking>=0.0.7 in /usr/local/lib/python3.7/dist-packages (from yfinance>=0.1.54->fastquant) (0.0.10)\n",
            "Requirement already satisfied: zipp>=0.5 in /usr/local/lib/python3.7/dist-packages (from importlib-metadata->click>=8.0.0->black>=19.10b0->fastquant) (3.7.0)\n",
            "Collecting virtualenv>=20.0.8\n",
            "  Downloading virtualenv-20.14.0-py2.py3-none-any.whl (8.8 MB)\n",
            "\u001b[K     |████████████████████████████████| 8.8 MB 41.9 MB/s \n",
            "\u001b[?25hCollecting pyyaml>=5.1\n",
            "  Downloading PyYAML-6.0-cp37-cp37m-manylinux_2_5_x86_64.manylinux1_x86_64.manylinux_2_12_x86_64.manylinux2010_x86_64.whl (596 kB)\n",
            "\u001b[K     |████████████████████████████████| 596 kB 15.5 MB/s \n",
            "\u001b[?25hCollecting nodeenv>=0.11.1\n",
            "  Downloading nodeenv-1.6.0-py2.py3-none-any.whl (21 kB)\n",
            "Collecting identify>=1.0.0\n",
            "  Downloading identify-2.4.12-py2.py3-none-any.whl (98 kB)\n",
            "\u001b[K     |████████████████████████████████| 98 kB 8.4 MB/s \n",
            "\u001b[?25hCollecting cfgv>=2.0.0\n",
            "  Downloading cfgv-3.3.1-py2.py3-none-any.whl (7.3 kB)\n",
            "Collecting toml\n",
            "  Downloading toml-0.10.2-py2.py3-none-any.whl (16 kB)\n",
            "Requirement already satisfied: filelock<4,>=3.2 in /usr/local/lib/python3.7/dist-packages (from virtualenv>=20.0.8->pre-commit->fastquant) (3.6.0)\n",
            "Collecting distlib<1,>=0.3.1\n",
            "  Downloading distlib-0.3.4-py2.py3-none-any.whl (461 kB)\n",
            "\u001b[K     |████████████████████████████████| 461 kB 49.0 MB/s \n",
            "\u001b[?25hInstalling collected packages: urllib3, multidict, frozenlist, yarl, pytz, pycares, platformdirs, distlib, asynctest, async-timeout, aiosignal, virtualenv, typed-ast, toml, setuptools, regex, pyyaml, pathspec, pandas, nodeenv, mypy-extensions, lxml, identify, cryptography, click, cfgv, beautifulsoup4, aiohttp, aiodns, yfinance, pre-commit, nltk, croniter, ccxt, black, backtrader, fastquant\n",
            "  Attempting uninstall: urllib3\n",
            "    Found existing installation: urllib3 1.24.3\n",
            "    Uninstalling urllib3-1.24.3:\n",
            "      Successfully uninstalled urllib3-1.24.3\n",
            "  Attempting uninstall: pytz\n",
            "    Found existing installation: pytz 2018.9\n",
            "    Uninstalling pytz-2018.9:\n",
            "      Successfully uninstalled pytz-2018.9\n",
            "  Attempting uninstall: setuptools\n",
            "    Found existing installation: setuptools 57.4.0\n",
            "    Uninstalling setuptools-57.4.0:\n",
            "      Successfully uninstalled setuptools-57.4.0\n",
            "  Attempting uninstall: regex\n",
            "    Found existing installation: regex 2019.12.20\n",
            "    Uninstalling regex-2019.12.20:\n",
            "      Successfully uninstalled regex-2019.12.20\n",
            "  Attempting uninstall: pyyaml\n",
            "    Found existing installation: PyYAML 3.13\n",
            "    Uninstalling PyYAML-3.13:\n",
            "      Successfully uninstalled PyYAML-3.13\n",
            "  Attempting uninstall: pandas\n",
            "    Found existing installation: pandas 1.3.5\n",
            "    Uninstalling pandas-1.3.5:\n",
            "      Successfully uninstalled pandas-1.3.5\n",
            "  Attempting uninstall: lxml\n",
            "    Found existing installation: lxml 4.2.6\n",
            "    Uninstalling lxml-4.2.6:\n",
            "      Successfully uninstalled lxml-4.2.6\n",
            "  Attempting uninstall: click\n",
            "    Found existing installation: click 7.1.2\n",
            "    Uninstalling click-7.1.2:\n",
            "      Successfully uninstalled click-7.1.2\n",
            "  Attempting uninstall: beautifulsoup4\n",
            "    Found existing installation: beautifulsoup4 4.6.3\n",
            "    Uninstalling beautifulsoup4-4.6.3:\n",
            "      Successfully uninstalled beautifulsoup4-4.6.3\n",
            "  Attempting uninstall: nltk\n",
            "    Found existing installation: nltk 3.2.5\n",
            "    Uninstalling nltk-3.2.5:\n",
            "      Successfully uninstalled nltk-3.2.5\n",
            "\u001b[31mERROR: pip's dependency resolver does not currently take into account all the packages that are installed. This behaviour is the source of the following dependency conflicts.\n",
            "tensorflow 2.8.0 requires tf-estimator-nightly==2.8.0.dev2021122109, which is not installed.\n",
            "flask 1.1.4 requires click<8.0,>=5.1, but you have click 8.1.2 which is incompatible.\n",
            "datascience 0.10.6 requires folium==0.2.1, but you have folium 0.8.3 which is incompatible.\u001b[0m\n",
            "Successfully installed aiodns-3.0.0 aiohttp-3.8.1 aiosignal-1.2.0 async-timeout-4.0.2 asynctest-0.13.0 backtrader-1.9.76.123 beautifulsoup4-4.10.0 black-22.3.0 ccxt-1.78.5 cfgv-3.3.1 click-8.1.2 croniter-1.3.4 cryptography-36.0.2 distlib-0.3.4 fastquant-0.1.8.0 frozenlist-1.3.0 identify-2.4.12 lxml-4.8.0 multidict-6.0.2 mypy-extensions-0.4.3 nltk-3.7 nodeenv-1.6.0 pandas-1.1.5 pathspec-0.9.0 platformdirs-2.5.1 pre-commit-2.18.1 pycares-4.1.2 pytz-2022.1 pyyaml-6.0 regex-2022.3.15 setuptools-62.0.0 toml-0.10.2 typed-ast-1.5.2 urllib3-1.25.11 virtualenv-20.14.0 yarl-1.7.2 yfinance-0.1.67\n"
          ]
        },
        {
          "output_type": "display_data",
          "data": {
            "application/vnd.colab-display-data+json": {
              "pip_warning": {
                "packages": [
                  "pkg_resources"
                ]
              }
            }
          },
          "metadata": {}
        }
      ]
    },
    {
      "cell_type": "markdown",
      "source": [
        "## Part 0.1 Import Packages"
      ],
      "metadata": {
        "id": "OvK9Fe00BCzN"
      }
    },
    {
      "cell_type": "code",
      "source": [
        "# Importing packages needed\n",
        "import pandas as pd\n",
        "import matplotlib.pyplot as plt\n",
        "import csv #section 299\n",
        "from datetime import datetime, timedelta\n",
        "import numpy as np\n",
        "\n",
        "# sklearn\n",
        "from sklearn.model_selection import train_test_split\n",
        "from sklearn.preprocessing import minmax_scale\n",
        "from sklearn.preprocessing import StandardScaler\n",
        "\n",
        "\n",
        "import tensorflow as tf\n",
        "from tensorflow.keras import layers\n",
        "from tensorflow.keras import optimizers\n",
        "from tensorflow.keras.utils import plot_model\n",
        "import keras\n",
        "from keras.models import Sequential\n",
        "from keras.layers import LSTM\n",
        "import os\n",
        "\n",
        "\n",
        "\n",
        "# see step 1: targetted crypto historic data\n",
        "from Historic_Crypto import HistoricalData\n",
        "from Historic_Crypto import Cryptocurrencies\n",
        "from Historic_Crypto import LiveCryptoData\n",
        "from fastquant import get_crypto_data\n",
        "from fastquant import backtest\n",
        "\n",
        "\n",
        "print(keras.__version__)"
      ],
      "metadata": {
        "colab": {
          "base_uri": "https://localhost:8080/"
        },
        "id": "jdc0-dMXBezc",
        "outputId": "bcebf7b5-cc9b-477b-f767-cb0eb9549916"
      },
      "execution_count": null,
      "outputs": [
        {
          "output_type": "stream",
          "name": "stdout",
          "text": [
            "2.8.0\n"
          ]
        }
      ]
    },
    {
      "cell_type": "markdown",
      "source": [
        "## Part 0.2 Plotting function: plot_ts"
      ],
      "metadata": {
        "id": "us2vymRaBhnq"
      }
    },
    {
      "cell_type": "code",
      "source": [
        "def plot_ts (timesteps, \n",
        "             values, \n",
        "             format = '.', #scatter plot\n",
        "             start = 0, \n",
        "             end = None,\n",
        "             s = 5,\n",
        "             label = None):\n",
        "  \"\"\"\n",
        "  Plots timesteps (a series of points in time) against values (a series of values across time)\n",
        "\n",
        "  Parameters\n",
        "  ----------\n",
        "  timesteps: array of timestep values\n",
        "  values: array of values across time\n",
        "  format: style of plot, default \".\"\n",
        "  start: where to staart the plot (setting a value will index from start of timesteps & values)\n",
        "  end: where to end the plot (similar to start but for the end)\n",
        "  label: to show on plot\n",
        "\n",
        "  \"\"\"\n",
        "\n",
        "  #plot the series\n",
        "  plt.plot(timesteps [start:end], values[start:end],format, label = label)\n",
        "  plt.xlabel (\"Time\")\n",
        "  plt.ylabel (\"Crypto Price\")\n",
        "\n",
        "  #use with label\n",
        "  if label:\n",
        "    plt.legend(fontsize = 14)\n",
        "  plt.grid (True)\n"
      ],
      "metadata": {
        "id": "Zkh8GATZBpGi"
      },
      "execution_count": null,
      "outputs": []
    },
    {
      "cell_type": "markdown",
      "source": [
        "## Part 0.3 Evaluation Metrics"
      ],
      "metadata": {
        "id": "G-cBcR7mBtxs"
      }
    },
    {
      "cell_type": "markdown",
      "source": [
        "### Mean Abs Squared Error MASE"
      ],
      "metadata": {
        "id": "8tZ7DLhYByW7"
      }
    },
    {
      "cell_type": "code",
      "source": [
        "# MASE implementation on naive forecast\n",
        "def mean_absolute_scaled_error (y_true, y_pred):\n",
        " \"\"\"\n",
        "Implement MASE (assuming no seasonality of data)\n",
        " \"\"\"\n",
        " mae = tf.reduce_mean(tf.abs(y_true - y_pred))\n",
        "\n",
        " #find MAE of naive forecast\n",
        " mae_naive_no_season = tf.reduce_mean(tf.abs(y_true[1:] - y_true[:-1])) #seasonality is 1 day hence shift of 1\n",
        " # find out what the [1:] and [:-1] mean\n",
        " \n",
        " return mae / mae_naive_no_season "
      ],
      "metadata": {
        "id": "0pNNA2HZB47p"
      },
      "execution_count": 1,
      "outputs": []
    },
    {
      "cell_type": "markdown",
      "source": [
        "### Evaluation Metrics"
      ],
      "metadata": {
        "id": "R2IZZq_rB5Up"
      }
    },
    {
      "cell_type": "code",
      "source": [
        "#original is evaluate_preds()\n",
        "def TS_eval (y_true, y_pred):\n",
        "  # make sure datatype is float32 for tensorflow\n",
        "  y_true = tf.cast(y_true, dtype = \"float32\")\n",
        "  y_pred = tf.cast(y_pred, dtype = \"float32\")\n",
        "\n",
        "  # error metrics\n",
        "  mae = tf.keras.metrics.mean_absolute_error(y_true, y_pred)\n",
        "  mse = tf.keras.metrics.mean_squared_error(y_true, y_pred)\n",
        "  rmse = tf.sqrt(mse)\n",
        "  mape = tf.keras.metrics.mean_absolute_percentage_error(y_true, y_pred)\n",
        "  mase = mean_absolute_scaled_error (y_true,y_pred)\n",
        "\n",
        "   #Account for different sized metrics for longer horizon by reducing to single value \n",
        "  if mae.ndim>0:\n",
        "    mae = tf.reduce_mean(mae)\n",
        "    mse = tf.reduce_mean(mse)\n",
        "    rmse = tf.reduce_mean(rmse)\n",
        "    mape = tf.reduce_mean(mape)\n",
        "    mase = tf.reduce_mean(mase)\n",
        "\n",
        "  return {\"mae\": mae.numpy(),\n",
        "          \"mse\" : mse.numpy(),\n",
        "          \"rmse\": rmse.numpy(),\n",
        "          \"mape\": mape.numpy(),\n",
        "          \"mase\":mase.numpy()}"
      ],
      "metadata": {
        "id": "xyt81se-B9UV"
      },
      "execution_count": 2,
      "outputs": []
    },
    {
      "cell_type": "markdown",
      "source": [
        "## Part 0.4 Windowing data and features"
      ],
      "metadata": {
        "id": "6uD0jBrACAuM"
      }
    },
    {
      "cell_type": "code",
      "source": [
        "# Global variables: conventionally written in caps\n",
        "HORIZON = 1\n",
        "WINDOW_SIZE = 7\n",
        "# Create function to label windowed data\n",
        "def get_labelled_windows (x, horizon = HORIZON):\n",
        "  \"\"\"\n",
        "  Create labels for windowed dataset\n",
        "\n",
        "  e.g. If horizon = 1, \n",
        "  input: [0,1,2,3,4,5,6,7] - > Output: ([0,1,2,3,4,5,6],[7])\n",
        "\n",
        "  \"\"\"\n",
        "\n",
        "  return x[:,:-horizon], x[:,-horizon:]"
      ],
      "metadata": {
        "id": "4yNpW_iECGDa"
      },
      "execution_count": null,
      "outputs": []
    },
    {
      "cell_type": "code",
      "source": [
        "def make_windows (x, window_size = WINDOW_SIZE, horizon = HORIZON):\n",
        "  \"\"\"\n",
        "  turns a 1D array 'x' into a 2D array of squential labelled windows\n",
        "  \"\"\"\n",
        "  #1. Create a window of specific window_size (add the horizon on the end for labelling later)\n",
        "  window_step = np.expand_dims(np.arange(window_size + horizon), axis = 0)\n",
        "\n",
        "  #2. Create a 2D array of multiple window steps (minus 1 to account for 0 indexing)\n",
        "  window_indexes = window_step + np.expand_dims(np.arange(len(x) - (window_size + horizon -1)), axis = 0).T #create 2D array of windows \n",
        "\n",
        "  print(f\"Window indexes:\\n {window_indexes},and window shape: {window_indexes.shape}\")\n",
        "\n",
        "  #3. Index on the target array 'x' with 2D array of multiple window steps\n",
        "  windowed_array = x[window_indexes]\n",
        "\n",
        "  #4. get the labelled windows\n",
        "  windows, labels = get_labelled_windows (windowed_array, horizon = horizon)\n",
        "\n",
        "  #5. final\n",
        "  return windows , labels"
      ],
      "metadata": {
        "id": "Ou8U8-RhCJcu"
      },
      "execution_count": null,
      "outputs": []
    },
    {
      "cell_type": "markdown",
      "source": [
        "## Part 0.5 Create Train and Test splits"
      ],
      "metadata": {
        "id": "VQHg26BTCNZt"
      }
    },
    {
      "cell_type": "code",
      "source": [
        "# create function to make train/test splits\n",
        "def make_train_test_split(windows, \n",
        "                          labels, \n",
        "                          test_split = .1):\n",
        "  #split matching pairs of windows and labels into train and test splits\n",
        "\n",
        "  split_size = int(len(windows)*(1-test_split)) #this will default to 90% train 10% test\n",
        "  train_windows = windows[:split_size]\n",
        "  train_labels = labels[:split_size]\n",
        "  test_windows = windows[split_size:]\n",
        "  test_labels = labels[split_size:]\n",
        "  \n",
        "  #return outputs similar to sklearn\n",
        "  #same as X_train, X_test, y_train, y_test\n",
        "  return train_windows, test_windows, train_labels, test_labels"
      ],
      "metadata": {
        "id": "Yni6HWFKCS03"
      },
      "execution_count": null,
      "outputs": []
    },
    {
      "cell_type": "markdown",
      "source": [
        "## Part 0.6 Creating a modeling checkpoint"
      ],
      "metadata": {
        "id": "v9eaRkDlCU5s"
      }
    },
    {
      "cell_type": "code",
      "source": [
        "# Create a function to implement a ModelCheckpoint callback with a specific filename \n",
        "def create_model_checkpoint(model_name, save_path=\"model_experiments\"):\n",
        "  return tf.keras.callbacks.ModelCheckpoint(filepath=os.path.join(save_path, model_name), # create filepath to save model\n",
        "                                            verbose=0, # only output a limited amount of text\n",
        "                                            save_best_only=True) # save only the best model to file"
      ],
      "metadata": {
        "id": "N-8P1basCZ38"
      },
      "execution_count": null,
      "outputs": []
    },
    {
      "cell_type": "markdown",
      "source": [
        "## Part 0.7 Making predictions function: make_preds"
      ],
      "metadata": {
        "id": "VvEy7VSDCa5q"
      }
    },
    {
      "cell_type": "code",
      "source": [
        "def make_preds (model, input_data):\n",
        "  \"\"\"\n",
        "  uses model to make predictions input_data.\n",
        "  \"\"\"\n",
        "  predictions = model.predict(input_data)\n",
        "\n",
        "  return tf.squeeze(predictions) #return 1-D array of predictions"
      ],
      "metadata": {
        "id": "j_h3c0c7CfQn"
      },
      "execution_count": null,
      "outputs": []
    },
    {
      "cell_type": "markdown",
      "source": [
        "## Part 0.8 Extracting Predictions"
      ],
      "metadata": {
        "id": "2EEFKFivCf6-"
      }
    },
    {
      "cell_type": "code",
      "source": [
        "def make_ensemble_preds (ensemble_models, data, type = 'median'):\n",
        "  \n",
        "  # create empty list\n",
        "  ensemble_preds = []\n",
        "\n",
        "  for model in ensemble_models:\n",
        "    preds = model.predict(data)\n",
        "    ensemble_preds.append(preds)\n",
        "  return tf.constant(tf.squeeze(ensemble_preds))\n",
        "\n",
        "  # if type == 'median':\n",
        "  #  ensemble_med = np.median(ensemble_preds, axis = 0)\n",
        "  #  return ensemble_med\n",
        "  # elif type == 'mean':\n",
        "  #   ensemble_mean = tf.reduce_mean(ensemble_preds, axis = 0)\n",
        "  # return ensemble_mean"
      ],
      "metadata": {
        "id": "mAbE6wQICnEs"
      },
      "execution_count": null,
      "outputs": []
    },
    {
      "cell_type": "code",
      "source": [
        "def get_upper_lower (preds): # 1. take the predictions from a number of randomly intialized models\n",
        "\n",
        "  # 2. Measure the standard dev of the predictions\n",
        "  std = tf.math.reduce_std(preds, axis = 0)\n",
        "\n",
        "  # 3. Muliply SD by 1.96 to find +/- limits\n",
        "  interval = std*1.96\n",
        "\n",
        "  # 4. Get the pred interval upp and lower bounds\n",
        "  preds_mean = tf.reduce_mean(preds, axis = 0)\n",
        "  lower, upper = preds_mean - interval, preds_mean + interval\n",
        "\n",
        "  return lower, upper"
      ],
      "metadata": {
        "id": "Q8V_hoTjCqpX"
      },
      "execution_count": null,
      "outputs": []
    },
    {
      "cell_type": "markdown",
      "source": [
        "## Part 0.9 Technical Indicators"
      ],
      "metadata": {
        "id": "Z4JejsF7Cq_N"
      }
    },
    {
      "cell_type": "markdown",
      "source": [
        "### RSI"
      ],
      "metadata": {
        "id": "vVqf2QC7Cz-q"
      }
    },
    {
      "cell_type": "code",
      "source": [
        "def computeRSI(data, time_window):\n",
        "  diff = data.diff(1).dropna()\n",
        "\n",
        "  #this preserves dimension of diff values\n",
        "  up_chg = 0 *diff\n",
        "  down_chg = 0*diff\n",
        "\n",
        "  #up change is equal to positive difference, otherwise equal to zero\n",
        "  up_chg[diff>0] = diff[diff>0]\n",
        "\n",
        "  #down change is equal to negative difference, otherwise equal to zero\n",
        "  down_chg[diff < 0] = diff[ diff < 0 ]\n",
        "  #we set com=time_window-1 so we get decay alpha=1/time_window\n",
        "  #.ewm is exponential weighted\n",
        "  up_chg_avg   = up_chg.ewm(com=time_window-1 , min_periods=time_window).mean()\n",
        "  down_chg_avg = down_chg.ewm(com=time_window-1 , min_periods=time_window).mean()\n",
        "\n",
        "  rs = abs(up_chg_avg/down_chg_avg)\n",
        "  rsi = 100 -100/(1+rs)\n",
        "\n",
        "  return rsi\n"
      ],
      "metadata": {
        "id": "9oDGKaMJC02g"
      },
      "execution_count": null,
      "outputs": []
    },
    {
      "cell_type": "markdown",
      "source": [
        "# Part 1: Extracting data"
      ],
      "metadata": {
        "id": "u5nr2awgC4EY"
      }
    },
    {
      "cell_type": "code",
      "source": [
        "today = datetime.today().strftime(\"%Y-%m-%d\")\n",
        "today"
      ],
      "metadata": {
        "colab": {
          "base_uri": "https://localhost:8080/",
          "height": 35
        },
        "id": "BotMadI6C7gN",
        "outputId": "3d878b29-4398-4986-fbd3-49b918b34202"
      },
      "execution_count": null,
      "outputs": [
        {
          "output_type": "execute_result",
          "data": {
            "text/plain": [
              "'2022-04-05'"
            ],
            "application/vnd.google.colaboratory.intrinsic+json": {
              "type": "string"
            }
          },
          "metadata": {},
          "execution_count": 13
        }
      ]
    },
    {
      "cell_type": "code",
      "source": [
        "xrp = get_crypto_data(\"XRP/USDT\", start_date = \"2009-03-08\", end_date = today)\n",
        "XRP = pd.DataFrame(xrp[\"close\"])"
      ],
      "metadata": {
        "id": "HrcsAMjwC9DD"
      },
      "execution_count": null,
      "outputs": []
    },
    {
      "cell_type": "code",
      "source": [
        "XRP.rename(columns = {\"close\":\"Price\"}, inplace = True)"
      ],
      "metadata": {
        "id": "-DyJDBWiC--a"
      },
      "execution_count": null,
      "outputs": []
    },
    {
      "cell_type": "code",
      "source": [
        "XRP"
      ],
      "metadata": {
        "colab": {
          "base_uri": "https://localhost:8080/",
          "height": 455
        },
        "id": "haWNaFLaDCTk",
        "outputId": "2ad9915a-3a96-4042-8003-96587896d957"
      },
      "execution_count": null,
      "outputs": [
        {
          "output_type": "execute_result",
          "data": {
            "text/plain": [
              "              Price\n",
              "dt                 \n",
              "2018-05-04  0.88990\n",
              "2018-05-05  0.90280\n",
              "2018-05-06  0.86483\n",
              "2018-05-07  0.82490\n",
              "2018-05-08  0.80667\n",
              "...             ...\n",
              "2022-04-01  0.82770\n",
              "2022-04-02  0.82400\n",
              "2022-04-03  0.84320\n",
              "2022-04-04  0.82600\n",
              "2022-04-05  0.82610\n",
              "\n",
              "[1433 rows x 1 columns]"
            ],
            "text/html": [
              "\n",
              "  <div id=\"df-d4c27ca6-c4e8-49f2-a61a-76aeac6f0f44\">\n",
              "    <div class=\"colab-df-container\">\n",
              "      <div>\n",
              "<style scoped>\n",
              "    .dataframe tbody tr th:only-of-type {\n",
              "        vertical-align: middle;\n",
              "    }\n",
              "\n",
              "    .dataframe tbody tr th {\n",
              "        vertical-align: top;\n",
              "    }\n",
              "\n",
              "    .dataframe thead th {\n",
              "        text-align: right;\n",
              "    }\n",
              "</style>\n",
              "<table border=\"1\" class=\"dataframe\">\n",
              "  <thead>\n",
              "    <tr style=\"text-align: right;\">\n",
              "      <th></th>\n",
              "      <th>Price</th>\n",
              "    </tr>\n",
              "    <tr>\n",
              "      <th>dt</th>\n",
              "      <th></th>\n",
              "    </tr>\n",
              "  </thead>\n",
              "  <tbody>\n",
              "    <tr>\n",
              "      <th>2018-05-04</th>\n",
              "      <td>0.88990</td>\n",
              "    </tr>\n",
              "    <tr>\n",
              "      <th>2018-05-05</th>\n",
              "      <td>0.90280</td>\n",
              "    </tr>\n",
              "    <tr>\n",
              "      <th>2018-05-06</th>\n",
              "      <td>0.86483</td>\n",
              "    </tr>\n",
              "    <tr>\n",
              "      <th>2018-05-07</th>\n",
              "      <td>0.82490</td>\n",
              "    </tr>\n",
              "    <tr>\n",
              "      <th>2018-05-08</th>\n",
              "      <td>0.80667</td>\n",
              "    </tr>\n",
              "    <tr>\n",
              "      <th>...</th>\n",
              "      <td>...</td>\n",
              "    </tr>\n",
              "    <tr>\n",
              "      <th>2022-04-01</th>\n",
              "      <td>0.82770</td>\n",
              "    </tr>\n",
              "    <tr>\n",
              "      <th>2022-04-02</th>\n",
              "      <td>0.82400</td>\n",
              "    </tr>\n",
              "    <tr>\n",
              "      <th>2022-04-03</th>\n",
              "      <td>0.84320</td>\n",
              "    </tr>\n",
              "    <tr>\n",
              "      <th>2022-04-04</th>\n",
              "      <td>0.82600</td>\n",
              "    </tr>\n",
              "    <tr>\n",
              "      <th>2022-04-05</th>\n",
              "      <td>0.82610</td>\n",
              "    </tr>\n",
              "  </tbody>\n",
              "</table>\n",
              "<p>1433 rows × 1 columns</p>\n",
              "</div>\n",
              "      <button class=\"colab-df-convert\" onclick=\"convertToInteractive('df-d4c27ca6-c4e8-49f2-a61a-76aeac6f0f44')\"\n",
              "              title=\"Convert this dataframe to an interactive table.\"\n",
              "              style=\"display:none;\">\n",
              "        \n",
              "  <svg xmlns=\"http://www.w3.org/2000/svg\" height=\"24px\"viewBox=\"0 0 24 24\"\n",
              "       width=\"24px\">\n",
              "    <path d=\"M0 0h24v24H0V0z\" fill=\"none\"/>\n",
              "    <path d=\"M18.56 5.44l.94 2.06.94-2.06 2.06-.94-2.06-.94-.94-2.06-.94 2.06-2.06.94zm-11 1L8.5 8.5l.94-2.06 2.06-.94-2.06-.94L8.5 2.5l-.94 2.06-2.06.94zm10 10l.94 2.06.94-2.06 2.06-.94-2.06-.94-.94-2.06-.94 2.06-2.06.94z\"/><path d=\"M17.41 7.96l-1.37-1.37c-.4-.4-.92-.59-1.43-.59-.52 0-1.04.2-1.43.59L10.3 9.45l-7.72 7.72c-.78.78-.78 2.05 0 2.83L4 21.41c.39.39.9.59 1.41.59.51 0 1.02-.2 1.41-.59l7.78-7.78 2.81-2.81c.8-.78.8-2.07 0-2.86zM5.41 20L4 18.59l7.72-7.72 1.47 1.35L5.41 20z\"/>\n",
              "  </svg>\n",
              "      </button>\n",
              "      \n",
              "  <style>\n",
              "    .colab-df-container {\n",
              "      display:flex;\n",
              "      flex-wrap:wrap;\n",
              "      gap: 12px;\n",
              "    }\n",
              "\n",
              "    .colab-df-convert {\n",
              "      background-color: #E8F0FE;\n",
              "      border: none;\n",
              "      border-radius: 50%;\n",
              "      cursor: pointer;\n",
              "      display: none;\n",
              "      fill: #1967D2;\n",
              "      height: 32px;\n",
              "      padding: 0 0 0 0;\n",
              "      width: 32px;\n",
              "    }\n",
              "\n",
              "    .colab-df-convert:hover {\n",
              "      background-color: #E2EBFA;\n",
              "      box-shadow: 0px 1px 2px rgba(60, 64, 67, 0.3), 0px 1px 3px 1px rgba(60, 64, 67, 0.15);\n",
              "      fill: #174EA6;\n",
              "    }\n",
              "\n",
              "    [theme=dark] .colab-df-convert {\n",
              "      background-color: #3B4455;\n",
              "      fill: #D2E3FC;\n",
              "    }\n",
              "\n",
              "    [theme=dark] .colab-df-convert:hover {\n",
              "      background-color: #434B5C;\n",
              "      box-shadow: 0px 1px 3px 1px rgba(0, 0, 0, 0.15);\n",
              "      filter: drop-shadow(0px 1px 2px rgba(0, 0, 0, 0.3));\n",
              "      fill: #FFFFFF;\n",
              "    }\n",
              "  </style>\n",
              "\n",
              "      <script>\n",
              "        const buttonEl =\n",
              "          document.querySelector('#df-d4c27ca6-c4e8-49f2-a61a-76aeac6f0f44 button.colab-df-convert');\n",
              "        buttonEl.style.display =\n",
              "          google.colab.kernel.accessAllowed ? 'block' : 'none';\n",
              "\n",
              "        async function convertToInteractive(key) {\n",
              "          const element = document.querySelector('#df-d4c27ca6-c4e8-49f2-a61a-76aeac6f0f44');\n",
              "          const dataTable =\n",
              "            await google.colab.kernel.invokeFunction('convertToInteractive',\n",
              "                                                     [key], {});\n",
              "          if (!dataTable) return;\n",
              "\n",
              "          const docLinkHtml = 'Like what you see? Visit the ' +\n",
              "            '<a target=\"_blank\" href=https://colab.research.google.com/notebooks/data_table.ipynb>data table notebook</a>'\n",
              "            + ' to learn more about interactive tables.';\n",
              "          element.innerHTML = '';\n",
              "          dataTable['output_type'] = 'display_data';\n",
              "          await google.colab.output.renderOutput(dataTable, element);\n",
              "          const docLink = document.createElement('div');\n",
              "          docLink.innerHTML = docLinkHtml;\n",
              "          element.appendChild(docLink);\n",
              "        }\n",
              "      </script>\n",
              "    </div>\n",
              "  </div>\n",
              "  "
            ]
          },
          "metadata": {},
          "execution_count": 16
        }
      ]
    },
    {
      "cell_type": "markdown",
      "source": [
        "# Part 1.1 Naive Forecast"
      ],
      "metadata": {
        "id": "IrldEF1JDC9T"
      }
    },
    {
      "cell_type": "code",
      "source": [
        "split_size = int(0.8*len(XRP))\n",
        "split_size\n",
        "y_test = XRP.Price[split_size:].to_numpy()\n",
        "y_test"
      ],
      "metadata": {
        "colab": {
          "base_uri": "https://localhost:8080/"
        },
        "id": "m8BOZAEdDHX4",
        "outputId": "691a6860-2723-444d-f95b-c6b74f9b536d"
      },
      "execution_count": null,
      "outputs": [
        {
          "output_type": "execute_result",
          "data": {
            "text/plain": [
              "array([0.6383, 0.6731, 0.6111, 0.6162, 0.6484, 0.6444, 0.7063, 0.7063,\n",
              "       0.6591, 0.6556, 0.6732, 0.696 , 0.6526, 0.6648, 0.6522, 0.6215,\n",
              "       0.6369, 0.6246, 0.6364, 0.6288, 0.6192, 0.6197, 0.5979, 0.5893,\n",
              "       0.5821, 0.5866, 0.557 , 0.5284, 0.5719, 0.592 , 0.6091, 0.6085,\n",
              "       0.6069, 0.6234, 0.6451, 0.7327, 0.7488, 0.7521, 0.746 , 0.7242,\n",
              "       0.738 , 0.7136, 0.731 , 0.7327, 0.7474, 0.8162, 0.7788, 0.817 ,\n",
              "       0.8511, 1.0105, 0.966 , 1.0901, 1.2791, 1.2839, 1.1855, 1.0978,\n",
              "       1.1431, 1.2347, 1.2629, 1.2158, 1.226 , 1.2457, 1.1353, 1.1735,\n",
              "       1.0712, 1.1918, 1.1459, 1.1408, 1.1002, 1.1856, 1.2362, 1.2533,\n",
              "       1.2907, 1.2548, 1.3076, 1.3894, 1.1292, 1.0998, 1.0868, 1.0552,\n",
              "       1.0787, 1.1181, 1.0643, 1.0963, 1.1207, 1.0902, 1.0661, 1.0751,\n",
              "       1.0483, 0.9216, 0.8743, 1.0033, 1.0016, 0.944 , 0.94  , 0.9436,\n",
              "       0.9218, 0.8928, 0.9268, 0.9533, 1.0422, 1.0359, 1.0552, 1.0425,\n",
              "       1.0839, 1.0765, 1.0678, 1.0636, 1.1604, 1.1352, 1.1364, 1.1018,\n",
              "       1.1275, 1.1336, 1.1413, 1.1343, 1.0944, 1.0827, 1.0911, 1.1455,\n",
              "       1.0886, 1.0885, 1.0934, 1.0821, 1.0951, 1.1075, 0.995 , 1.0579,\n",
              "       1.0825, 1.0846, 1.1128, 1.0915, 1.1349, 1.2101, 1.2004, 1.1581,\n",
              "       1.151 , 1.2198, 1.2815, 1.2571, 1.1902, 1.2142, 1.1883, 1.1892,\n",
              "       1.1879, 1.172 , 1.0877, 1.0953, 1.0406, 1.0892, 1.0965, 1.0569,\n",
              "       1.0354, 1.0661, 1.0326, 1.0438, 0.9394, 0.9452, 0.9687, 0.9898,\n",
              "       0.9983, 0.9899, 0.9716, 0.9211, 0.8449, 0.8045, 0.8255, 0.8154,\n",
              "       0.8622, 0.8583, 0.7992, 0.8392, 0.8393, 0.7818, 0.8103, 0.8262,\n",
              "       0.8051, 0.7966, 0.8262, 0.835 , 0.8798, 0.9467, 0.9537, 0.9941,\n",
              "       0.9115, 0.9252, 0.92  , 0.9269, 0.8515, 0.8171, 0.8386, 0.8297,\n",
              "       0.8507, 0.8586, 0.8324, 0.8228, 0.7726, 0.7791, 0.7634, 0.7452,\n",
              "       0.753 , 0.7399, 0.7703, 0.7987, 0.768 , 0.7732, 0.7791, 0.7784,\n",
              "       0.7617, 0.7509, 0.7381, 0.7199, 0.6368, 0.5966, 0.6283, 0.6118,\n",
              "       0.618 , 0.6193, 0.6088, 0.6111, 0.6174, 0.6013, 0.6174, 0.6284,\n",
              "       0.6006, 0.6102, 0.6555, 0.6656, 0.6825, 0.8314, 0.8763, 0.8697,\n",
              "       0.8253, 0.7591, 0.8223, 0.8057, 0.8012, 0.8515, 0.8366, 0.769 ,\n",
              "       0.784 , 0.8215, 0.7769, 0.7018, 0.7209, 0.6967, 0.6963, 0.7699,\n",
              "       0.7508, 0.7215, 0.7809, 0.7839, 0.7687, 0.7515, 0.7127, 0.754 ,\n",
              "       0.7251, 0.7197, 0.7207, 0.7658, 0.7361, 0.8029, 0.7857, 0.7602,\n",
              "       0.7748, 0.7657, 0.7919, 0.7935, 0.7965, 0.8194, 0.8057, 0.8373,\n",
              "       0.8366, 0.8376, 0.8428, 0.8239, 0.8327, 0.858 , 0.8641, 0.8577,\n",
              "       0.8613, 0.8148, 0.8277, 0.824 , 0.8432, 0.826 , 0.8261])"
            ]
          },
          "metadata": {},
          "execution_count": 17
        }
      ]
    },
    {
      "cell_type": "code",
      "source": [
        "XRP_naive = y_test[:-1] # Naïve forecast equals every value excluding the last value\n",
        "XRP_naive[:10], XRP_naive[-10:] # View frist 10 and last 10"
      ],
      "metadata": {
        "colab": {
          "base_uri": "https://localhost:8080/"
        },
        "id": "n9REBXr3DIcF",
        "outputId": "96626edc-85d0-4b44-a5ae-fe2b4ad237e3"
      },
      "execution_count": null,
      "outputs": [
        {
          "output_type": "execute_result",
          "data": {
            "text/plain": [
              "(array([0.6383, 0.6731, 0.6111, 0.6162, 0.6484, 0.6444, 0.7063, 0.7063,\n",
              "        0.6591, 0.6556]),\n",
              " array([0.8327, 0.858 , 0.8641, 0.8577, 0.8613, 0.8148, 0.8277, 0.824 ,\n",
              "        0.8432, 0.826 ]))"
            ]
          },
          "metadata": {},
          "execution_count": 18
        }
      ]
    },
    {
      "cell_type": "code",
      "source": [
        "naive_results = TS_eval(y_true = y_test[1:],\n",
        "                        y_pred = XRP_naive)\n",
        "naive_results"
      ],
      "metadata": {
        "colab": {
          "base_uri": "https://localhost:8080/"
        },
        "id": "aByZaucjDKr4",
        "outputId": "e5c1e1c7-8c20-4629-9d6d-566406c759b1"
      },
      "execution_count": null,
      "outputs": [
        {
          "output_type": "execute_result",
          "data": {
            "text/plain": [
              "{'mae': 0.031233564,\n",
              " 'mape': 3.4597628,\n",
              " 'mase': 1.0004009,\n",
              " 'mse': 0.0020621934,\n",
              " 'rmse': 0.04541138}"
            ]
          },
          "metadata": {},
          "execution_count": 19
        }
      ]
    },
    {
      "cell_type": "markdown",
      "source": [
        "# Part 2: Preparing Multivariate Data"
      ],
      "metadata": {
        "id": "KZa4eS8GDMEx"
      }
    },
    {
      "cell_type": "markdown",
      "source": [
        "## Part 2.1: MACD"
      ],
      "metadata": {
        "id": "ayZaG32iDSXA"
      }
    },
    {
      "cell_type": "code",
      "source": [
        "XRP[\"EMA26\"] = XRP.ewm(26).mean()\n",
        "XRP[\"EMA12\"] = XRP.Price.ewm(12).mean()\n",
        "XRP[\"MACD\"] = XRP[\"EMA12\"]-XRP[\"EMA26\"]\n",
        "XRP[\"MACD SIGNAL\"] = XRP[\"MACD\"].ewm(9).mean()\n",
        "XRP[\"MACD Diff\"] = XRP[\"MACD\"] - XRP [\"MACD SIGNAL\"]"
      ],
      "metadata": {
        "id": "1D_93SEqDU4j"
      },
      "execution_count": null,
      "outputs": []
    },
    {
      "cell_type": "markdown",
      "source": [
        "## Part 2.2: RSI"
      ],
      "metadata": {
        "id": "ZTn78Nr7EIRN"
      }
    },
    {
      "cell_type": "code",
      "source": [
        "XRP"
      ],
      "metadata": {
        "colab": {
          "base_uri": "https://localhost:8080/",
          "height": 455
        },
        "id": "rI2M741tENiy",
        "outputId": "fea0c989-ccff-49b7-f815-d0fa36b316bd"
      },
      "execution_count": null,
      "outputs": [
        {
          "output_type": "execute_result",
          "data": {
            "text/plain": [
              "              Price     EMA26     EMA12      MACD  MACD SIGNAL  MACD Diff\n",
              "dt                                                                       \n",
              "2018-05-04  0.88990  0.889900  0.889900  0.000000     0.000000   0.000000\n",
              "2018-05-05  0.90280  0.896472  0.896608  0.000136     0.000072   0.000065\n",
              "2018-05-06  0.86483  0.885524  0.885157 -0.000367    -0.000090  -0.000277\n",
              "2018-05-07  0.82490  0.869500  0.868239 -0.001261    -0.000430  -0.000830\n",
              "2018-05-08  0.80667  0.855968  0.853879 -0.002088    -0.000835  -0.001253\n",
              "...             ...       ...       ...       ...          ...        ...\n",
              "2022-04-01  0.82770  0.793855  0.814415  0.020560     0.010805   0.009755\n",
              "2022-04-02  0.82400  0.794972  0.815153  0.020181     0.011743   0.008438\n",
              "2022-04-03  0.84320  0.796758  0.817310  0.020552     0.012624   0.007929\n",
              "2022-04-04  0.82600  0.797841  0.817978  0.020137     0.013375   0.006763\n",
              "2022-04-05  0.82610  0.798888  0.818603  0.019716     0.014009   0.005707\n",
              "\n",
              "[1433 rows x 6 columns]"
            ],
            "text/html": [
              "\n",
              "  <div id=\"df-17069255-9bb0-42f4-b834-f598ea8295b5\">\n",
              "    <div class=\"colab-df-container\">\n",
              "      <div>\n",
              "<style scoped>\n",
              "    .dataframe tbody tr th:only-of-type {\n",
              "        vertical-align: middle;\n",
              "    }\n",
              "\n",
              "    .dataframe tbody tr th {\n",
              "        vertical-align: top;\n",
              "    }\n",
              "\n",
              "    .dataframe thead th {\n",
              "        text-align: right;\n",
              "    }\n",
              "</style>\n",
              "<table border=\"1\" class=\"dataframe\">\n",
              "  <thead>\n",
              "    <tr style=\"text-align: right;\">\n",
              "      <th></th>\n",
              "      <th>Price</th>\n",
              "      <th>EMA26</th>\n",
              "      <th>EMA12</th>\n",
              "      <th>MACD</th>\n",
              "      <th>MACD SIGNAL</th>\n",
              "      <th>MACD Diff</th>\n",
              "    </tr>\n",
              "    <tr>\n",
              "      <th>dt</th>\n",
              "      <th></th>\n",
              "      <th></th>\n",
              "      <th></th>\n",
              "      <th></th>\n",
              "      <th></th>\n",
              "      <th></th>\n",
              "    </tr>\n",
              "  </thead>\n",
              "  <tbody>\n",
              "    <tr>\n",
              "      <th>2018-05-04</th>\n",
              "      <td>0.88990</td>\n",
              "      <td>0.889900</td>\n",
              "      <td>0.889900</td>\n",
              "      <td>0.000000</td>\n",
              "      <td>0.000000</td>\n",
              "      <td>0.000000</td>\n",
              "    </tr>\n",
              "    <tr>\n",
              "      <th>2018-05-05</th>\n",
              "      <td>0.90280</td>\n",
              "      <td>0.896472</td>\n",
              "      <td>0.896608</td>\n",
              "      <td>0.000136</td>\n",
              "      <td>0.000072</td>\n",
              "      <td>0.000065</td>\n",
              "    </tr>\n",
              "    <tr>\n",
              "      <th>2018-05-06</th>\n",
              "      <td>0.86483</td>\n",
              "      <td>0.885524</td>\n",
              "      <td>0.885157</td>\n",
              "      <td>-0.000367</td>\n",
              "      <td>-0.000090</td>\n",
              "      <td>-0.000277</td>\n",
              "    </tr>\n",
              "    <tr>\n",
              "      <th>2018-05-07</th>\n",
              "      <td>0.82490</td>\n",
              "      <td>0.869500</td>\n",
              "      <td>0.868239</td>\n",
              "      <td>-0.001261</td>\n",
              "      <td>-0.000430</td>\n",
              "      <td>-0.000830</td>\n",
              "    </tr>\n",
              "    <tr>\n",
              "      <th>2018-05-08</th>\n",
              "      <td>0.80667</td>\n",
              "      <td>0.855968</td>\n",
              "      <td>0.853879</td>\n",
              "      <td>-0.002088</td>\n",
              "      <td>-0.000835</td>\n",
              "      <td>-0.001253</td>\n",
              "    </tr>\n",
              "    <tr>\n",
              "      <th>...</th>\n",
              "      <td>...</td>\n",
              "      <td>...</td>\n",
              "      <td>...</td>\n",
              "      <td>...</td>\n",
              "      <td>...</td>\n",
              "      <td>...</td>\n",
              "    </tr>\n",
              "    <tr>\n",
              "      <th>2022-04-01</th>\n",
              "      <td>0.82770</td>\n",
              "      <td>0.793855</td>\n",
              "      <td>0.814415</td>\n",
              "      <td>0.020560</td>\n",
              "      <td>0.010805</td>\n",
              "      <td>0.009755</td>\n",
              "    </tr>\n",
              "    <tr>\n",
              "      <th>2022-04-02</th>\n",
              "      <td>0.82400</td>\n",
              "      <td>0.794972</td>\n",
              "      <td>0.815153</td>\n",
              "      <td>0.020181</td>\n",
              "      <td>0.011743</td>\n",
              "      <td>0.008438</td>\n",
              "    </tr>\n",
              "    <tr>\n",
              "      <th>2022-04-03</th>\n",
              "      <td>0.84320</td>\n",
              "      <td>0.796758</td>\n",
              "      <td>0.817310</td>\n",
              "      <td>0.020552</td>\n",
              "      <td>0.012624</td>\n",
              "      <td>0.007929</td>\n",
              "    </tr>\n",
              "    <tr>\n",
              "      <th>2022-04-04</th>\n",
              "      <td>0.82600</td>\n",
              "      <td>0.797841</td>\n",
              "      <td>0.817978</td>\n",
              "      <td>0.020137</td>\n",
              "      <td>0.013375</td>\n",
              "      <td>0.006763</td>\n",
              "    </tr>\n",
              "    <tr>\n",
              "      <th>2022-04-05</th>\n",
              "      <td>0.82610</td>\n",
              "      <td>0.798888</td>\n",
              "      <td>0.818603</td>\n",
              "      <td>0.019716</td>\n",
              "      <td>0.014009</td>\n",
              "      <td>0.005707</td>\n",
              "    </tr>\n",
              "  </tbody>\n",
              "</table>\n",
              "<p>1433 rows × 6 columns</p>\n",
              "</div>\n",
              "      <button class=\"colab-df-convert\" onclick=\"convertToInteractive('df-17069255-9bb0-42f4-b834-f598ea8295b5')\"\n",
              "              title=\"Convert this dataframe to an interactive table.\"\n",
              "              style=\"display:none;\">\n",
              "        \n",
              "  <svg xmlns=\"http://www.w3.org/2000/svg\" height=\"24px\"viewBox=\"0 0 24 24\"\n",
              "       width=\"24px\">\n",
              "    <path d=\"M0 0h24v24H0V0z\" fill=\"none\"/>\n",
              "    <path d=\"M18.56 5.44l.94 2.06.94-2.06 2.06-.94-2.06-.94-.94-2.06-.94 2.06-2.06.94zm-11 1L8.5 8.5l.94-2.06 2.06-.94-2.06-.94L8.5 2.5l-.94 2.06-2.06.94zm10 10l.94 2.06.94-2.06 2.06-.94-2.06-.94-.94-2.06-.94 2.06-2.06.94z\"/><path d=\"M17.41 7.96l-1.37-1.37c-.4-.4-.92-.59-1.43-.59-.52 0-1.04.2-1.43.59L10.3 9.45l-7.72 7.72c-.78.78-.78 2.05 0 2.83L4 21.41c.39.39.9.59 1.41.59.51 0 1.02-.2 1.41-.59l7.78-7.78 2.81-2.81c.8-.78.8-2.07 0-2.86zM5.41 20L4 18.59l7.72-7.72 1.47 1.35L5.41 20z\"/>\n",
              "  </svg>\n",
              "      </button>\n",
              "      \n",
              "  <style>\n",
              "    .colab-df-container {\n",
              "      display:flex;\n",
              "      flex-wrap:wrap;\n",
              "      gap: 12px;\n",
              "    }\n",
              "\n",
              "    .colab-df-convert {\n",
              "      background-color: #E8F0FE;\n",
              "      border: none;\n",
              "      border-radius: 50%;\n",
              "      cursor: pointer;\n",
              "      display: none;\n",
              "      fill: #1967D2;\n",
              "      height: 32px;\n",
              "      padding: 0 0 0 0;\n",
              "      width: 32px;\n",
              "    }\n",
              "\n",
              "    .colab-df-convert:hover {\n",
              "      background-color: #E2EBFA;\n",
              "      box-shadow: 0px 1px 2px rgba(60, 64, 67, 0.3), 0px 1px 3px 1px rgba(60, 64, 67, 0.15);\n",
              "      fill: #174EA6;\n",
              "    }\n",
              "\n",
              "    [theme=dark] .colab-df-convert {\n",
              "      background-color: #3B4455;\n",
              "      fill: #D2E3FC;\n",
              "    }\n",
              "\n",
              "    [theme=dark] .colab-df-convert:hover {\n",
              "      background-color: #434B5C;\n",
              "      box-shadow: 0px 1px 3px 1px rgba(0, 0, 0, 0.15);\n",
              "      filter: drop-shadow(0px 1px 2px rgba(0, 0, 0, 0.3));\n",
              "      fill: #FFFFFF;\n",
              "    }\n",
              "  </style>\n",
              "\n",
              "      <script>\n",
              "        const buttonEl =\n",
              "          document.querySelector('#df-17069255-9bb0-42f4-b834-f598ea8295b5 button.colab-df-convert');\n",
              "        buttonEl.style.display =\n",
              "          google.colab.kernel.accessAllowed ? 'block' : 'none';\n",
              "\n",
              "        async function convertToInteractive(key) {\n",
              "          const element = document.querySelector('#df-17069255-9bb0-42f4-b834-f598ea8295b5');\n",
              "          const dataTable =\n",
              "            await google.colab.kernel.invokeFunction('convertToInteractive',\n",
              "                                                     [key], {});\n",
              "          if (!dataTable) return;\n",
              "\n",
              "          const docLinkHtml = 'Like what you see? Visit the ' +\n",
              "            '<a target=\"_blank\" href=https://colab.research.google.com/notebooks/data_table.ipynb>data table notebook</a>'\n",
              "            + ' to learn more about interactive tables.';\n",
              "          element.innerHTML = '';\n",
              "          dataTable['output_type'] = 'display_data';\n",
              "          await google.colab.output.renderOutput(dataTable, element);\n",
              "          const docLink = document.createElement('div');\n",
              "          docLink.innerHTML = docLinkHtml;\n",
              "          element.appendChild(docLink);\n",
              "        }\n",
              "      </script>\n",
              "    </div>\n",
              "  </div>\n",
              "  "
            ]
          },
          "metadata": {},
          "execution_count": 21
        }
      ]
    },
    {
      "cell_type": "code",
      "source": [
        "XRP['RSI'] = computeRSI(XRP.Price,14)\n",
        "XRP = XRP.dropna()\n",
        "XRP"
      ],
      "metadata": {
        "colab": {
          "base_uri": "https://localhost:8080/",
          "height": 690
        },
        "id": "wgrg_aQ9ETfQ",
        "outputId": "caacd72f-f1d6-45a2-df5a-d4c8f07d24a5"
      },
      "execution_count": null,
      "outputs": [
        {
          "output_type": "execute_result",
          "data": {
            "text/plain": [
              "              Price     EMA26     EMA12      MACD  MACD SIGNAL  MACD Diff  \\\n",
              "dt                                                                          \n",
              "2018-05-18  0.67766  0.747029  0.735109 -0.011919    -0.007510  -0.004409   \n",
              "2018-05-19  0.67339  0.741012  0.728535 -0.012477    -0.008120  -0.004357   \n",
              "2018-05-20  0.69940  0.737757  0.725521 -0.012237    -0.008614  -0.003623   \n",
              "2018-05-21  0.67612  0.733127  0.720542 -0.012585    -0.009081  -0.003504   \n",
              "2018-05-22  0.63782  0.726230  0.712399 -0.013831    -0.009630  -0.004201   \n",
              "...             ...       ...       ...       ...          ...        ...   \n",
              "2022-04-01  0.82770  0.793855  0.814415  0.020560     0.010805   0.009755   \n",
              "2022-04-02  0.82400  0.794972  0.815153  0.020181     0.011743   0.008438   \n",
              "2022-04-03  0.84320  0.796758  0.817310  0.020552     0.012624   0.007929   \n",
              "2022-04-04  0.82600  0.797841  0.817978  0.020137     0.013375   0.006763   \n",
              "2022-04-05  0.82610  0.798888  0.818603  0.019716     0.014009   0.005707   \n",
              "\n",
              "                  RSI  \n",
              "dt                     \n",
              "2018-05-18  28.060423  \n",
              "2018-05-19  27.588142  \n",
              "2018-05-20  34.788107  \n",
              "2018-05-21  31.745600  \n",
              "2018-05-22  27.486476  \n",
              "...               ...  \n",
              "2022-04-01  53.329978  \n",
              "2022-04-02  52.510481  \n",
              "2022-04-03  56.266074  \n",
              "2022-04-04  52.277587  \n",
              "2022-04-05  52.298759  \n",
              "\n",
              "[1419 rows x 7 columns]"
            ],
            "text/html": [
              "\n",
              "  <div id=\"df-2bfcad39-c165-4879-bd78-7a8d1c299e2e\">\n",
              "    <div class=\"colab-df-container\">\n",
              "      <div>\n",
              "<style scoped>\n",
              "    .dataframe tbody tr th:only-of-type {\n",
              "        vertical-align: middle;\n",
              "    }\n",
              "\n",
              "    .dataframe tbody tr th {\n",
              "        vertical-align: top;\n",
              "    }\n",
              "\n",
              "    .dataframe thead th {\n",
              "        text-align: right;\n",
              "    }\n",
              "</style>\n",
              "<table border=\"1\" class=\"dataframe\">\n",
              "  <thead>\n",
              "    <tr style=\"text-align: right;\">\n",
              "      <th></th>\n",
              "      <th>Price</th>\n",
              "      <th>EMA26</th>\n",
              "      <th>EMA12</th>\n",
              "      <th>MACD</th>\n",
              "      <th>MACD SIGNAL</th>\n",
              "      <th>MACD Diff</th>\n",
              "      <th>RSI</th>\n",
              "    </tr>\n",
              "    <tr>\n",
              "      <th>dt</th>\n",
              "      <th></th>\n",
              "      <th></th>\n",
              "      <th></th>\n",
              "      <th></th>\n",
              "      <th></th>\n",
              "      <th></th>\n",
              "      <th></th>\n",
              "    </tr>\n",
              "  </thead>\n",
              "  <tbody>\n",
              "    <tr>\n",
              "      <th>2018-05-18</th>\n",
              "      <td>0.67766</td>\n",
              "      <td>0.747029</td>\n",
              "      <td>0.735109</td>\n",
              "      <td>-0.011919</td>\n",
              "      <td>-0.007510</td>\n",
              "      <td>-0.004409</td>\n",
              "      <td>28.060423</td>\n",
              "    </tr>\n",
              "    <tr>\n",
              "      <th>2018-05-19</th>\n",
              "      <td>0.67339</td>\n",
              "      <td>0.741012</td>\n",
              "      <td>0.728535</td>\n",
              "      <td>-0.012477</td>\n",
              "      <td>-0.008120</td>\n",
              "      <td>-0.004357</td>\n",
              "      <td>27.588142</td>\n",
              "    </tr>\n",
              "    <tr>\n",
              "      <th>2018-05-20</th>\n",
              "      <td>0.69940</td>\n",
              "      <td>0.737757</td>\n",
              "      <td>0.725521</td>\n",
              "      <td>-0.012237</td>\n",
              "      <td>-0.008614</td>\n",
              "      <td>-0.003623</td>\n",
              "      <td>34.788107</td>\n",
              "    </tr>\n",
              "    <tr>\n",
              "      <th>2018-05-21</th>\n",
              "      <td>0.67612</td>\n",
              "      <td>0.733127</td>\n",
              "      <td>0.720542</td>\n",
              "      <td>-0.012585</td>\n",
              "      <td>-0.009081</td>\n",
              "      <td>-0.003504</td>\n",
              "      <td>31.745600</td>\n",
              "    </tr>\n",
              "    <tr>\n",
              "      <th>2018-05-22</th>\n",
              "      <td>0.63782</td>\n",
              "      <td>0.726230</td>\n",
              "      <td>0.712399</td>\n",
              "      <td>-0.013831</td>\n",
              "      <td>-0.009630</td>\n",
              "      <td>-0.004201</td>\n",
              "      <td>27.486476</td>\n",
              "    </tr>\n",
              "    <tr>\n",
              "      <th>...</th>\n",
              "      <td>...</td>\n",
              "      <td>...</td>\n",
              "      <td>...</td>\n",
              "      <td>...</td>\n",
              "      <td>...</td>\n",
              "      <td>...</td>\n",
              "      <td>...</td>\n",
              "    </tr>\n",
              "    <tr>\n",
              "      <th>2022-04-01</th>\n",
              "      <td>0.82770</td>\n",
              "      <td>0.793855</td>\n",
              "      <td>0.814415</td>\n",
              "      <td>0.020560</td>\n",
              "      <td>0.010805</td>\n",
              "      <td>0.009755</td>\n",
              "      <td>53.329978</td>\n",
              "    </tr>\n",
              "    <tr>\n",
              "      <th>2022-04-02</th>\n",
              "      <td>0.82400</td>\n",
              "      <td>0.794972</td>\n",
              "      <td>0.815153</td>\n",
              "      <td>0.020181</td>\n",
              "      <td>0.011743</td>\n",
              "      <td>0.008438</td>\n",
              "      <td>52.510481</td>\n",
              "    </tr>\n",
              "    <tr>\n",
              "      <th>2022-04-03</th>\n",
              "      <td>0.84320</td>\n",
              "      <td>0.796758</td>\n",
              "      <td>0.817310</td>\n",
              "      <td>0.020552</td>\n",
              "      <td>0.012624</td>\n",
              "      <td>0.007929</td>\n",
              "      <td>56.266074</td>\n",
              "    </tr>\n",
              "    <tr>\n",
              "      <th>2022-04-04</th>\n",
              "      <td>0.82600</td>\n",
              "      <td>0.797841</td>\n",
              "      <td>0.817978</td>\n",
              "      <td>0.020137</td>\n",
              "      <td>0.013375</td>\n",
              "      <td>0.006763</td>\n",
              "      <td>52.277587</td>\n",
              "    </tr>\n",
              "    <tr>\n",
              "      <th>2022-04-05</th>\n",
              "      <td>0.82610</td>\n",
              "      <td>0.798888</td>\n",
              "      <td>0.818603</td>\n",
              "      <td>0.019716</td>\n",
              "      <td>0.014009</td>\n",
              "      <td>0.005707</td>\n",
              "      <td>52.298759</td>\n",
              "    </tr>\n",
              "  </tbody>\n",
              "</table>\n",
              "<p>1419 rows × 7 columns</p>\n",
              "</div>\n",
              "      <button class=\"colab-df-convert\" onclick=\"convertToInteractive('df-2bfcad39-c165-4879-bd78-7a8d1c299e2e')\"\n",
              "              title=\"Convert this dataframe to an interactive table.\"\n",
              "              style=\"display:none;\">\n",
              "        \n",
              "  <svg xmlns=\"http://www.w3.org/2000/svg\" height=\"24px\"viewBox=\"0 0 24 24\"\n",
              "       width=\"24px\">\n",
              "    <path d=\"M0 0h24v24H0V0z\" fill=\"none\"/>\n",
              "    <path d=\"M18.56 5.44l.94 2.06.94-2.06 2.06-.94-2.06-.94-.94-2.06-.94 2.06-2.06.94zm-11 1L8.5 8.5l.94-2.06 2.06-.94-2.06-.94L8.5 2.5l-.94 2.06-2.06.94zm10 10l.94 2.06.94-2.06 2.06-.94-2.06-.94-.94-2.06-.94 2.06-2.06.94z\"/><path d=\"M17.41 7.96l-1.37-1.37c-.4-.4-.92-.59-1.43-.59-.52 0-1.04.2-1.43.59L10.3 9.45l-7.72 7.72c-.78.78-.78 2.05 0 2.83L4 21.41c.39.39.9.59 1.41.59.51 0 1.02-.2 1.41-.59l7.78-7.78 2.81-2.81c.8-.78.8-2.07 0-2.86zM5.41 20L4 18.59l7.72-7.72 1.47 1.35L5.41 20z\"/>\n",
              "  </svg>\n",
              "      </button>\n",
              "      \n",
              "  <style>\n",
              "    .colab-df-container {\n",
              "      display:flex;\n",
              "      flex-wrap:wrap;\n",
              "      gap: 12px;\n",
              "    }\n",
              "\n",
              "    .colab-df-convert {\n",
              "      background-color: #E8F0FE;\n",
              "      border: none;\n",
              "      border-radius: 50%;\n",
              "      cursor: pointer;\n",
              "      display: none;\n",
              "      fill: #1967D2;\n",
              "      height: 32px;\n",
              "      padding: 0 0 0 0;\n",
              "      width: 32px;\n",
              "    }\n",
              "\n",
              "    .colab-df-convert:hover {\n",
              "      background-color: #E2EBFA;\n",
              "      box-shadow: 0px 1px 2px rgba(60, 64, 67, 0.3), 0px 1px 3px 1px rgba(60, 64, 67, 0.15);\n",
              "      fill: #174EA6;\n",
              "    }\n",
              "\n",
              "    [theme=dark] .colab-df-convert {\n",
              "      background-color: #3B4455;\n",
              "      fill: #D2E3FC;\n",
              "    }\n",
              "\n",
              "    [theme=dark] .colab-df-convert:hover {\n",
              "      background-color: #434B5C;\n",
              "      box-shadow: 0px 1px 3px 1px rgba(0, 0, 0, 0.15);\n",
              "      filter: drop-shadow(0px 1px 2px rgba(0, 0, 0, 0.3));\n",
              "      fill: #FFFFFF;\n",
              "    }\n",
              "  </style>\n",
              "\n",
              "      <script>\n",
              "        const buttonEl =\n",
              "          document.querySelector('#df-2bfcad39-c165-4879-bd78-7a8d1c299e2e button.colab-df-convert');\n",
              "        buttonEl.style.display =\n",
              "          google.colab.kernel.accessAllowed ? 'block' : 'none';\n",
              "\n",
              "        async function convertToInteractive(key) {\n",
              "          const element = document.querySelector('#df-2bfcad39-c165-4879-bd78-7a8d1c299e2e');\n",
              "          const dataTable =\n",
              "            await google.colab.kernel.invokeFunction('convertToInteractive',\n",
              "                                                     [key], {});\n",
              "          if (!dataTable) return;\n",
              "\n",
              "          const docLinkHtml = 'Like what you see? Visit the ' +\n",
              "            '<a target=\"_blank\" href=https://colab.research.google.com/notebooks/data_table.ipynb>data table notebook</a>'\n",
              "            + ' to learn more about interactive tables.';\n",
              "          element.innerHTML = '';\n",
              "          dataTable['output_type'] = 'display_data';\n",
              "          await google.colab.output.renderOutput(dataTable, element);\n",
              "          const docLink = document.createElement('div');\n",
              "          docLink.innerHTML = docLinkHtml;\n",
              "          element.appendChild(docLink);\n",
              "        }\n",
              "      </script>\n",
              "    </div>\n",
              "  </div>\n",
              "  "
            ]
          },
          "metadata": {},
          "execution_count": 22
        }
      ]
    },
    {
      "cell_type": "markdown",
      "source": [
        "## Part 2.3: visualisation"
      ],
      "metadata": {
        "id": "0qg3nMJWEK2g"
      }
    },
    {
      "cell_type": "code",
      "source": [
        "# Plot the new variables to see what they look like\n",
        "plt.figure (figsize = (10,7))\n",
        "offset = 1200\n",
        "plot_ts(timesteps = XRP.index,\n",
        "        values = XRP.Price,\n",
        "        start = offset,\n",
        "        format = '-',\n",
        "        label = \"Price\")\n",
        "plot_ts(timesteps = XRP.index,\n",
        "        values = XRP.MACD*10,\n",
        "        start = offset,\n",
        "        format = 'r-',\n",
        "        label = 'MACD')\n",
        "plot_ts(timesteps = XRP.index,\n",
        "        values = XRP[\"MACD SIGNAL\"]*10,\n",
        "        start = offset,\n",
        "        format = 'y-',\n",
        "        label = \"MACD SIG\")\n",
        "plot_ts(timesteps = XRP.index,\n",
        "        values = XRP.RSI/100,\n",
        "        start = offset,\n",
        "        format = 'b-',\n",
        "        label = \"RSI scaled (above .5 is good)\")"
      ],
      "metadata": {
        "colab": {
          "base_uri": "https://localhost:8080/",
          "height": 442
        },
        "id": "JgobFHDVDaXQ",
        "outputId": "16aba397-8897-4962-8cae-4a2428cd5289"
      },
      "execution_count": null,
      "outputs": [
        {
          "output_type": "display_data",
          "data": {
            "text/plain": [
              "<Figure size 720x504 with 1 Axes>"
            ],
            "image/png": "[encoded data removed]"
          },
          "metadata": {
            "needs_background": "light"
          }
        }
      ]
    },
    {
      "cell_type": "markdown",
      "source": [
        "# Part 2.1 Scaling the data"
      ],
      "metadata": {
        "id": "XYiqf03wDakp"
      }
    },
    {
      "cell_type": "code",
      "source": [
        "XRP_copy = XRP.copy()\n",
        "XRP_copy[[\"Price\", \"MACD\",\"RSI\",\"MACD SIGNAL\",\"MACD Diff\"]]= StandardScaler().fit_transform(XRP_copy\n",
        "                                                                                        [[\"Price\", \"MACD\",\"RSI\",\"MACD SIGNAL\",\"MACD Diff\"]]    )"
      ],
      "metadata": {
        "id": "R3lxWI3HGbSO"
      },
      "execution_count": null,
      "outputs": []
    },
    {
      "cell_type": "code",
      "source": [
        "XRP_std = XRP_copy.drop([\"EMA26\",\"EMA12\"], axis = 1)"
      ],
      "metadata": {
        "id": "QqMWV5qfGttd"
      },
      "execution_count": null,
      "outputs": []
    },
    {
      "cell_type": "code",
      "source": [
        "XRP_std"
      ],
      "metadata": {
        "colab": {
          "base_uri": "https://localhost:8080/",
          "height": 455
        },
        "id": "D7VJzmjEHC4W",
        "outputId": "9a68bf3e-799a-4cad-a818-02d1cee04377"
      },
      "execution_count": null,
      "outputs": [
        {
          "output_type": "execute_result",
          "data": {
            "text/plain": [
              "               Price      MACD  MACD SIGNAL  MACD Diff       RSI\n",
              "dt                                                              \n",
              "2018-05-18  0.586599 -0.249092    -0.179679  -0.214390 -1.717013\n",
              "2018-05-19  0.573184 -0.259689    -0.192484  -0.211933 -1.756065\n",
              "2018-05-20  0.654898 -0.255121    -0.202861  -0.177326 -1.160723\n",
              "2018-05-21  0.581760 -0.261746    -0.212675  -0.171734 -1.412298\n",
              "2018-05-22  0.461436 -0.285427    -0.224209  -0.204561 -1.764471\n",
              "...              ...       ...          ...        ...       ...\n",
              "2022-04-01  1.057970  0.368242     0.204974   0.453013  0.372445\n",
              "2022-04-02  1.046346  0.361035     0.224665   0.390970  0.304684\n",
              "2022-04-03  1.106666  0.368091     0.243167   0.366955  0.615222\n",
              "2022-04-04  1.052630  0.360212     0.258947   0.312016  0.285427\n",
              "2022-04-05  1.052944  0.352193     0.272264   0.262261  0.287177\n",
              "\n",
              "[1419 rows x 5 columns]"
            ],
            "text/html": [
              "\n",
              "  <div id=\"df-e67ec0fd-b5b3-4990-bcfb-0eadbc35289b\">\n",
              "    <div class=\"colab-df-container\">\n",
              "      <div>\n",
              "<style scoped>\n",
              "    .dataframe tbody tr th:only-of-type {\n",
              "        vertical-align: middle;\n",
              "    }\n",
              "\n",
              "    .dataframe tbody tr th {\n",
              "        vertical-align: top;\n",
              "    }\n",
              "\n",
              "    .dataframe thead th {\n",
              "        text-align: right;\n",
              "    }\n",
              "</style>\n",
              "<table border=\"1\" class=\"dataframe\">\n",
              "  <thead>\n",
              "    <tr style=\"text-align: right;\">\n",
              "      <th></th>\n",
              "      <th>Price</th>\n",
              "      <th>MACD</th>\n",
              "      <th>MACD SIGNAL</th>\n",
              "      <th>MACD Diff</th>\n",
              "      <th>RSI</th>\n",
              "    </tr>\n",
              "    <tr>\n",
              "      <th>dt</th>\n",
              "      <th></th>\n",
              "      <th></th>\n",
              "      <th></th>\n",
              "      <th></th>\n",
              "      <th></th>\n",
              "    </tr>\n",
              "  </thead>\n",
              "  <tbody>\n",
              "    <tr>\n",
              "      <th>2018-05-18</th>\n",
              "      <td>0.586599</td>\n",
              "      <td>-0.249092</td>\n",
              "      <td>-0.179679</td>\n",
              "      <td>-0.214390</td>\n",
              "      <td>-1.717013</td>\n",
              "    </tr>\n",
              "    <tr>\n",
              "      <th>2018-05-19</th>\n",
              "      <td>0.573184</td>\n",
              "      <td>-0.259689</td>\n",
              "      <td>-0.192484</td>\n",
              "      <td>-0.211933</td>\n",
              "      <td>-1.756065</td>\n",
              "    </tr>\n",
              "    <tr>\n",
              "      <th>2018-05-20</th>\n",
              "      <td>0.654898</td>\n",
              "      <td>-0.255121</td>\n",
              "      <td>-0.202861</td>\n",
              "      <td>-0.177326</td>\n",
              "      <td>-1.160723</td>\n",
              "    </tr>\n",
              "    <tr>\n",
              "      <th>2018-05-21</th>\n",
              "      <td>0.581760</td>\n",
              "      <td>-0.261746</td>\n",
              "      <td>-0.212675</td>\n",
              "      <td>-0.171734</td>\n",
              "      <td>-1.412298</td>\n",
              "    </tr>\n",
              "    <tr>\n",
              "      <th>2018-05-22</th>\n",
              "      <td>0.461436</td>\n",
              "      <td>-0.285427</td>\n",
              "      <td>-0.224209</td>\n",
              "      <td>-0.204561</td>\n",
              "      <td>-1.764471</td>\n",
              "    </tr>\n",
              "    <tr>\n",
              "      <th>...</th>\n",
              "      <td>...</td>\n",
              "      <td>...</td>\n",
              "      <td>...</td>\n",
              "      <td>...</td>\n",
              "      <td>...</td>\n",
              "    </tr>\n",
              "    <tr>\n",
              "      <th>2022-04-01</th>\n",
              "      <td>1.057970</td>\n",
              "      <td>0.368242</td>\n",
              "      <td>0.204974</td>\n",
              "      <td>0.453013</td>\n",
              "      <td>0.372445</td>\n",
              "    </tr>\n",
              "    <tr>\n",
              "      <th>2022-04-02</th>\n",
              "      <td>1.046346</td>\n",
              "      <td>0.361035</td>\n",
              "      <td>0.224665</td>\n",
              "      <td>0.390970</td>\n",
              "      <td>0.304684</td>\n",
              "    </tr>\n",
              "    <tr>\n",
              "      <th>2022-04-03</th>\n",
              "      <td>1.106666</td>\n",
              "      <td>0.368091</td>\n",
              "      <td>0.243167</td>\n",
              "      <td>0.366955</td>\n",
              "      <td>0.615222</td>\n",
              "    </tr>\n",
              "    <tr>\n",
              "      <th>2022-04-04</th>\n",
              "      <td>1.052630</td>\n",
              "      <td>0.360212</td>\n",
              "      <td>0.258947</td>\n",
              "      <td>0.312016</td>\n",
              "      <td>0.285427</td>\n",
              "    </tr>\n",
              "    <tr>\n",
              "      <th>2022-04-05</th>\n",
              "      <td>1.052944</td>\n",
              "      <td>0.352193</td>\n",
              "      <td>0.272264</td>\n",
              "      <td>0.262261</td>\n",
              "      <td>0.287177</td>\n",
              "    </tr>\n",
              "  </tbody>\n",
              "</table>\n",
              "<p>1419 rows × 5 columns</p>\n",
              "</div>\n",
              "      <button class=\"colab-df-convert\" onclick=\"convertToInteractive('df-e67ec0fd-b5b3-4990-bcfb-0eadbc35289b')\"\n",
              "              title=\"Convert this dataframe to an interactive table.\"\n",
              "              style=\"display:none;\">\n",
              "        \n",
              "  <svg xmlns=\"http://www.w3.org/2000/svg\" height=\"24px\"viewBox=\"0 0 24 24\"\n",
              "       width=\"24px\">\n",
              "    <path d=\"M0 0h24v24H0V0z\" fill=\"none\"/>\n",
              "    <path d=\"M18.56 5.44l.94 2.06.94-2.06 2.06-.94-2.06-.94-.94-2.06-.94 2.06-2.06.94zm-11 1L8.5 8.5l.94-2.06 2.06-.94-2.06-.94L8.5 2.5l-.94 2.06-2.06.94zm10 10l.94 2.06.94-2.06 2.06-.94-2.06-.94-.94-2.06-.94 2.06-2.06.94z\"/><path d=\"M17.41 7.96l-1.37-1.37c-.4-.4-.92-.59-1.43-.59-.52 0-1.04.2-1.43.59L10.3 9.45l-7.72 7.72c-.78.78-.78 2.05 0 2.83L4 21.41c.39.39.9.59 1.41.59.51 0 1.02-.2 1.41-.59l7.78-7.78 2.81-2.81c.8-.78.8-2.07 0-2.86zM5.41 20L4 18.59l7.72-7.72 1.47 1.35L5.41 20z\"/>\n",
              "  </svg>\n",
              "      </button>\n",
              "      \n",
              "  <style>\n",
              "    .colab-df-container {\n",
              "      display:flex;\n",
              "      flex-wrap:wrap;\n",
              "      gap: 12px;\n",
              "    }\n",
              "\n",
              "    .colab-df-convert {\n",
              "      background-color: #E8F0FE;\n",
              "      border: none;\n",
              "      border-radius: 50%;\n",
              "      cursor: pointer;\n",
              "      display: none;\n",
              "      fill: #1967D2;\n",
              "      height: 32px;\n",
              "      padding: 0 0 0 0;\n",
              "      width: 32px;\n",
              "    }\n",
              "\n",
              "    .colab-df-convert:hover {\n",
              "      background-color: #E2EBFA;\n",
              "      box-shadow: 0px 1px 2px rgba(60, 64, 67, 0.3), 0px 1px 3px 1px rgba(60, 64, 67, 0.15);\n",
              "      fill: #174EA6;\n",
              "    }\n",
              "\n",
              "    [theme=dark] .colab-df-convert {\n",
              "      background-color: #3B4455;\n",
              "      fill: #D2E3FC;\n",
              "    }\n",
              "\n",
              "    [theme=dark] .colab-df-convert:hover {\n",
              "      background-color: #434B5C;\n",
              "      box-shadow: 0px 1px 3px 1px rgba(0, 0, 0, 0.15);\n",
              "      filter: drop-shadow(0px 1px 2px rgba(0, 0, 0, 0.3));\n",
              "      fill: #FFFFFF;\n",
              "    }\n",
              "  </style>\n",
              "\n",
              "      <script>\n",
              "        const buttonEl =\n",
              "          document.querySelector('#df-e67ec0fd-b5b3-4990-bcfb-0eadbc35289b button.colab-df-convert');\n",
              "        buttonEl.style.display =\n",
              "          google.colab.kernel.accessAllowed ? 'block' : 'none';\n",
              "\n",
              "        async function convertToInteractive(key) {\n",
              "          const element = document.querySelector('#df-e67ec0fd-b5b3-4990-bcfb-0eadbc35289b');\n",
              "          const dataTable =\n",
              "            await google.colab.kernel.invokeFunction('convertToInteractive',\n",
              "                                                     [key], {});\n",
              "          if (!dataTable) return;\n",
              "\n",
              "          const docLinkHtml = 'Like what you see? Visit the ' +\n",
              "            '<a target=\"_blank\" href=https://colab.research.google.com/notebooks/data_table.ipynb>data table notebook</a>'\n",
              "            + ' to learn more about interactive tables.';\n",
              "          element.innerHTML = '';\n",
              "          dataTable['output_type'] = 'display_data';\n",
              "          await google.colab.output.renderOutput(dataTable, element);\n",
              "          const docLink = document.createElement('div');\n",
              "          docLink.innerHTML = docLinkHtml;\n",
              "          element.appendChild(docLink);\n",
              "        }\n",
              "      </script>\n",
              "    </div>\n",
              "  </div>\n",
              "  "
            ]
          },
          "metadata": {},
          "execution_count": 26
        }
      ]
    },
    {
      "cell_type": "markdown",
      "source": [
        "# Part 3: Creating the price windows"
      ],
      "metadata": {
        "id": "50Ajt3JzHSAy"
      }
    },
    {
      "cell_type": "code",
      "source": [
        "for i in range (WINDOW_SIZE):\n",
        "  XRP_std[f\"Price+{i+1}\"] = XRP_std[\"Price\"].shift(periods = i + 1)\n",
        "  XRP_std[f\"RSI+{i+1}\"] = XRP_std[\"RSI\"].shift(periods = i + 1)\n",
        "  XRP_std[f\"MACD Diff+{i+1}\"] = XRP_std[\"MACD Diff\"].shift(periods = i + 1)\n",
        "\n",
        "XRP_std = XRP_std.dropna()"
      ],
      "metadata": {
        "id": "3mwWeYqwHf5S"
      },
      "execution_count": null,
      "outputs": []
    },
    {
      "cell_type": "code",
      "source": [
        "XRP_std"
      ],
      "metadata": {
        "colab": {
          "base_uri": "https://localhost:8080/",
          "height": 710
        },
        "id": "WjY2r_7pHlhu",
        "outputId": "57c26a47-244d-4ef2-8b2f-1cd4a2f356cb"
      },
      "execution_count": null,
      "outputs": [
        {
          "output_type": "execute_result",
          "data": {
            "text/plain": [
              "               Price      MACD  MACD SIGNAL  MACD Diff       RSI   Price+1  \\\n",
              "dt                                                                           \n",
              "2018-05-25  0.357039 -0.369193    -0.271656  -0.305769 -1.586221  0.431024   \n",
              "2018-05-26  0.369385 -0.387511    -0.288507  -0.313374 -1.511483  0.357039   \n",
              "2018-05-27  0.355688 -0.404364    -0.305389  -0.317279 -1.549664  0.369385   \n",
              "2018-05-28  0.175766 -0.448449    -0.325555  -0.381323 -1.987887  0.355688   \n",
              "2018-05-29  0.342556 -0.456308    -0.344338  -0.358664 -1.057693  0.175766   \n",
              "...              ...       ...          ...        ...       ...       ...   \n",
              "2022-04-01  1.057970  0.368242     0.204974   0.453013  0.372445  1.017443   \n",
              "2022-04-02  1.046346  0.361035     0.224665   0.390970  0.304684  1.057970   \n",
              "2022-04-03  1.106666  0.368091     0.243167   0.366955  0.615222  1.046346   \n",
              "2022-04-04  1.052630  0.360212     0.258947   0.312016  0.285427  1.106666   \n",
              "2022-04-05  1.052944  0.352193     0.272264   0.262261  0.287177  1.052630   \n",
              "\n",
              "               RSI+1  MACD Diff+1   Price+2     RSI+2  ...  MACD Diff+4  \\\n",
              "dt                                                     ...                \n",
              "2018-05-25 -1.394878    -0.280806  0.317423 -2.099553  ...    -0.171734   \n",
              "2018-05-26 -1.586221    -0.305769  0.431024 -1.394878  ...    -0.204561   \n",
              "2018-05-27 -1.511483    -0.313374  0.357039 -1.586221  ...    -0.274739   \n",
              "2018-05-28 -1.549664    -0.317279  0.369385 -1.511483  ...    -0.280806   \n",
              "2018-05-29 -1.987887    -0.381323  0.355688 -1.549664  ...    -0.305769   \n",
              "...              ...          ...       ...       ...  ...          ...   \n",
              "2022-04-01  0.167095     0.513256  1.163530  1.078236  ...     0.613213   \n",
              "2022-04-02  0.372445     0.453013  1.017443  0.167095  ...     0.610697   \n",
              "2022-04-03  0.304684     0.390970  1.057970  0.372445  ...     0.605479   \n",
              "2022-04-04  0.615222     0.366955  1.046346  0.304684  ...     0.513256   \n",
              "2022-04-05  0.285427     0.312016  1.106666  0.615222  ...     0.453013   \n",
              "\n",
              "             Price+5     RSI+5  MACD Diff+5   Price+6     RSI+6  MACD Diff+6  \\\n",
              "dt                                                                             \n",
              "2018-05-25  0.654898 -1.160723    -0.177326  0.573184 -1.756065    -0.211933   \n",
              "2018-05-26  0.581760 -1.412298    -0.171734  0.654898 -1.160723    -0.177326   \n",
              "2018-05-27  0.461436 -1.764471    -0.204561  0.581760 -1.412298    -0.171734   \n",
              "2018-05-28  0.317423 -2.099553    -0.274739  0.461436 -1.764471    -0.204561   \n",
              "2018-05-29  0.431024 -1.394878    -0.280806  0.317423 -2.099553    -0.274739   \n",
              "...              ...       ...          ...       ...       ...          ...   \n",
              "2022-04-01  1.153162  1.089630     0.591387  1.073679  0.764947     0.566154   \n",
              "2022-04-02  1.172326  1.164224     0.613213  1.153162  1.089630     0.591387   \n",
              "2022-04-03  1.152220  1.028333     0.610697  1.172326  1.164224     0.613213   \n",
              "2022-04-04  1.163530  1.078236     0.605479  1.152220  1.028333     0.610697   \n",
              "2022-04-05  1.017443  0.167095     0.513256  1.163530  1.078236     0.605479   \n",
              "\n",
              "             Price+7     RSI+7  MACD Diff+7  \n",
              "dt                                           \n",
              "2018-05-25  0.586599 -1.717013    -0.214390  \n",
              "2018-05-26  0.573184 -1.756065    -0.211933  \n",
              "2018-05-27  0.654898 -1.160723    -0.177326  \n",
              "2018-05-28  0.581760 -1.412298    -0.171734  \n",
              "2018-05-29  0.461436 -1.764471    -0.204561  \n",
              "...              ...       ...          ...  \n",
              "2022-04-01  1.046032  0.645248     0.577902  \n",
              "2022-04-02  1.073679  0.764947     0.566154  \n",
              "2022-04-03  1.153162  1.089630     0.591387  \n",
              "2022-04-04  1.172326  1.164224     0.613213  \n",
              "2022-04-05  1.152220  1.028333     0.610697  \n",
              "\n",
              "[1412 rows x 26 columns]"
            ],
            "text/html": [
              "\n",
              "  <div id=\"df-8096f53f-0f65-46d1-bbee-b821093ca98a\">\n",
              "    <div class=\"colab-df-container\">\n",
              "      <div>\n",
              "<style scoped>\n",
              "    .dataframe tbody tr th:only-of-type {\n",
              "        vertical-align: middle;\n",
              "    }\n",
              "\n",
              "    .dataframe tbody tr th {\n",
              "        vertical-align: top;\n",
              "    }\n",
              "\n",
              "    .dataframe thead th {\n",
              "        text-align: right;\n",
              "    }\n",
              "</style>\n",
              "<table border=\"1\" class=\"dataframe\">\n",
              "  <thead>\n",
              "    <tr style=\"text-align: right;\">\n",
              "      <th></th>\n",
              "      <th>Price</th>\n",
              "      <th>MACD</th>\n",
              "      <th>MACD SIGNAL</th>\n",
              "      <th>MACD Diff</th>\n",
              "      <th>RSI</th>\n",
              "      <th>Price+1</th>\n",
              "      <th>RSI+1</th>\n",
              "      <th>MACD Diff+1</th>\n",
              "      <th>Price+2</th>\n",
              "      <th>RSI+2</th>\n",
              "      <th>...</th>\n",
              "      <th>MACD Diff+4</th>\n",
              "      <th>Price+5</th>\n",
              "      <th>RSI+5</th>\n",
              "      <th>MACD Diff+5</th>\n",
              "      <th>Price+6</th>\n",
              "      <th>RSI+6</th>\n",
              "      <th>MACD Diff+6</th>\n",
              "      <th>Price+7</th>\n",
              "      <th>RSI+7</th>\n",
              "      <th>MACD Diff+7</th>\n",
              "    </tr>\n",
              "    <tr>\n",
              "      <th>dt</th>\n",
              "      <th></th>\n",
              "      <th></th>\n",
              "      <th></th>\n",
              "      <th></th>\n",
              "      <th></th>\n",
              "      <th></th>\n",
              "      <th></th>\n",
              "      <th></th>\n",
              "      <th></th>\n",
              "      <th></th>\n",
              "      <th></th>\n",
              "      <th></th>\n",
              "      <th></th>\n",
              "      <th></th>\n",
              "      <th></th>\n",
              "      <th></th>\n",
              "      <th></th>\n",
              "      <th></th>\n",
              "      <th></th>\n",
              "      <th></th>\n",
              "      <th></th>\n",
              "    </tr>\n",
              "  </thead>\n",
              "  <tbody>\n",
              "    <tr>\n",
              "      <th>2018-05-25</th>\n",
              "      <td>0.357039</td>\n",
              "      <td>-0.369193</td>\n",
              "      <td>-0.271656</td>\n",
              "      <td>-0.305769</td>\n",
              "      <td>-1.586221</td>\n",
              "      <td>0.431024</td>\n",
              "      <td>-1.394878</td>\n",
              "      <td>-0.280806</td>\n",
              "      <td>0.317423</td>\n",
              "      <td>-2.099553</td>\n",
              "      <td>...</td>\n",
              "      <td>-0.171734</td>\n",
              "      <td>0.654898</td>\n",
              "      <td>-1.160723</td>\n",
              "      <td>-0.177326</td>\n",
              "      <td>0.573184</td>\n",
              "      <td>-1.756065</td>\n",
              "      <td>-0.211933</td>\n",
              "      <td>0.586599</td>\n",
              "      <td>-1.717013</td>\n",
              "      <td>-0.214390</td>\n",
              "    </tr>\n",
              "    <tr>\n",
              "      <th>2018-05-26</th>\n",
              "      <td>0.369385</td>\n",
              "      <td>-0.387511</td>\n",
              "      <td>-0.288507</td>\n",
              "      <td>-0.313374</td>\n",
              "      <td>-1.511483</td>\n",
              "      <td>0.357039</td>\n",
              "      <td>-1.586221</td>\n",
              "      <td>-0.305769</td>\n",
              "      <td>0.431024</td>\n",
              "      <td>-1.394878</td>\n",
              "      <td>...</td>\n",
              "      <td>-0.204561</td>\n",
              "      <td>0.581760</td>\n",
              "      <td>-1.412298</td>\n",
              "      <td>-0.171734</td>\n",
              "      <td>0.654898</td>\n",
              "      <td>-1.160723</td>\n",
              "      <td>-0.177326</td>\n",
              "      <td>0.573184</td>\n",
              "      <td>-1.756065</td>\n",
              "      <td>-0.211933</td>\n",
              "    </tr>\n",
              "    <tr>\n",
              "      <th>2018-05-27</th>\n",
              "      <td>0.355688</td>\n",
              "      <td>-0.404364</td>\n",
              "      <td>-0.305389</td>\n",
              "      <td>-0.317279</td>\n",
              "      <td>-1.549664</td>\n",
              "      <td>0.369385</td>\n",
              "      <td>-1.511483</td>\n",
              "      <td>-0.313374</td>\n",
              "      <td>0.357039</td>\n",
              "      <td>-1.586221</td>\n",
              "      <td>...</td>\n",
              "      <td>-0.274739</td>\n",
              "      <td>0.461436</td>\n",
              "      <td>-1.764471</td>\n",
              "      <td>-0.204561</td>\n",
              "      <td>0.581760</td>\n",
              "      <td>-1.412298</td>\n",
              "      <td>-0.171734</td>\n",
              "      <td>0.654898</td>\n",
              "      <td>-1.160723</td>\n",
              "      <td>-0.177326</td>\n",
              "    </tr>\n",
              "    <tr>\n",
              "      <th>2018-05-28</th>\n",
              "      <td>0.175766</td>\n",
              "      <td>-0.448449</td>\n",
              "      <td>-0.325555</td>\n",
              "      <td>-0.381323</td>\n",
              "      <td>-1.987887</td>\n",
              "      <td>0.355688</td>\n",
              "      <td>-1.549664</td>\n",
              "      <td>-0.317279</td>\n",
              "      <td>0.369385</td>\n",
              "      <td>-1.511483</td>\n",
              "      <td>...</td>\n",
              "      <td>-0.280806</td>\n",
              "      <td>0.317423</td>\n",
              "      <td>-2.099553</td>\n",
              "      <td>-0.274739</td>\n",
              "      <td>0.461436</td>\n",
              "      <td>-1.764471</td>\n",
              "      <td>-0.204561</td>\n",
              "      <td>0.581760</td>\n",
              "      <td>-1.412298</td>\n",
              "      <td>-0.171734</td>\n",
              "    </tr>\n",
              "    <tr>\n",
              "      <th>2018-05-29</th>\n",
              "      <td>0.342556</td>\n",
              "      <td>-0.456308</td>\n",
              "      <td>-0.344338</td>\n",
              "      <td>-0.358664</td>\n",
              "      <td>-1.057693</td>\n",
              "      <td>0.175766</td>\n",
              "      <td>-1.987887</td>\n",
              "      <td>-0.381323</td>\n",
              "      <td>0.355688</td>\n",
              "      <td>-1.549664</td>\n",
              "      <td>...</td>\n",
              "      <td>-0.305769</td>\n",
              "      <td>0.431024</td>\n",
              "      <td>-1.394878</td>\n",
              "      <td>-0.280806</td>\n",
              "      <td>0.317423</td>\n",
              "      <td>-2.099553</td>\n",
              "      <td>-0.274739</td>\n",
              "      <td>0.461436</td>\n",
              "      <td>-1.764471</td>\n",
              "      <td>-0.204561</td>\n",
              "    </tr>\n",
              "    <tr>\n",
              "      <th>...</th>\n",
              "      <td>...</td>\n",
              "      <td>...</td>\n",
              "      <td>...</td>\n",
              "      <td>...</td>\n",
              "      <td>...</td>\n",
              "      <td>...</td>\n",
              "      <td>...</td>\n",
              "      <td>...</td>\n",
              "      <td>...</td>\n",
              "      <td>...</td>\n",
              "      <td>...</td>\n",
              "      <td>...</td>\n",
              "      <td>...</td>\n",
              "      <td>...</td>\n",
              "      <td>...</td>\n",
              "      <td>...</td>\n",
              "      <td>...</td>\n",
              "      <td>...</td>\n",
              "      <td>...</td>\n",
              "      <td>...</td>\n",
              "      <td>...</td>\n",
              "    </tr>\n",
              "    <tr>\n",
              "      <th>2022-04-01</th>\n",
              "      <td>1.057970</td>\n",
              "      <td>0.368242</td>\n",
              "      <td>0.204974</td>\n",
              "      <td>0.453013</td>\n",
              "      <td>0.372445</td>\n",
              "      <td>1.017443</td>\n",
              "      <td>0.167095</td>\n",
              "      <td>0.513256</td>\n",
              "      <td>1.163530</td>\n",
              "      <td>1.078236</td>\n",
              "      <td>...</td>\n",
              "      <td>0.613213</td>\n",
              "      <td>1.153162</td>\n",
              "      <td>1.089630</td>\n",
              "      <td>0.591387</td>\n",
              "      <td>1.073679</td>\n",
              "      <td>0.764947</td>\n",
              "      <td>0.566154</td>\n",
              "      <td>1.046032</td>\n",
              "      <td>0.645248</td>\n",
              "      <td>0.577902</td>\n",
              "    </tr>\n",
              "    <tr>\n",
              "      <th>2022-04-02</th>\n",
              "      <td>1.046346</td>\n",
              "      <td>0.361035</td>\n",
              "      <td>0.224665</td>\n",
              "      <td>0.390970</td>\n",
              "      <td>0.304684</td>\n",
              "      <td>1.057970</td>\n",
              "      <td>0.372445</td>\n",
              "      <td>0.453013</td>\n",
              "      <td>1.017443</td>\n",
              "      <td>0.167095</td>\n",
              "      <td>...</td>\n",
              "      <td>0.610697</td>\n",
              "      <td>1.172326</td>\n",
              "      <td>1.164224</td>\n",
              "      <td>0.613213</td>\n",
              "      <td>1.153162</td>\n",
              "      <td>1.089630</td>\n",
              "      <td>0.591387</td>\n",
              "      <td>1.073679</td>\n",
              "      <td>0.764947</td>\n",
              "      <td>0.566154</td>\n",
              "    </tr>\n",
              "    <tr>\n",
              "      <th>2022-04-03</th>\n",
              "      <td>1.106666</td>\n",
              "      <td>0.368091</td>\n",
              "      <td>0.243167</td>\n",
              "      <td>0.366955</td>\n",
              "      <td>0.615222</td>\n",
              "      <td>1.046346</td>\n",
              "      <td>0.304684</td>\n",
              "      <td>0.390970</td>\n",
              "      <td>1.057970</td>\n",
              "      <td>0.372445</td>\n",
              "      <td>...</td>\n",
              "      <td>0.605479</td>\n",
              "      <td>1.152220</td>\n",
              "      <td>1.028333</td>\n",
              "      <td>0.610697</td>\n",
              "      <td>1.172326</td>\n",
              "      <td>1.164224</td>\n",
              "      <td>0.613213</td>\n",
              "      <td>1.153162</td>\n",
              "      <td>1.089630</td>\n",
              "      <td>0.591387</td>\n",
              "    </tr>\n",
              "    <tr>\n",
              "      <th>2022-04-04</th>\n",
              "      <td>1.052630</td>\n",
              "      <td>0.360212</td>\n",
              "      <td>0.258947</td>\n",
              "      <td>0.312016</td>\n",
              "      <td>0.285427</td>\n",
              "      <td>1.106666</td>\n",
              "      <td>0.615222</td>\n",
              "      <td>0.366955</td>\n",
              "      <td>1.046346</td>\n",
              "      <td>0.304684</td>\n",
              "      <td>...</td>\n",
              "      <td>0.513256</td>\n",
              "      <td>1.163530</td>\n",
              "      <td>1.078236</td>\n",
              "      <td>0.605479</td>\n",
              "      <td>1.152220</td>\n",
              "      <td>1.028333</td>\n",
              "      <td>0.610697</td>\n",
              "      <td>1.172326</td>\n",
              "      <td>1.164224</td>\n",
              "      <td>0.613213</td>\n",
              "    </tr>\n",
              "    <tr>\n",
              "      <th>2022-04-05</th>\n",
              "      <td>1.052944</td>\n",
              "      <td>0.352193</td>\n",
              "      <td>0.272264</td>\n",
              "      <td>0.262261</td>\n",
              "      <td>0.287177</td>\n",
              "      <td>1.052630</td>\n",
              "      <td>0.285427</td>\n",
              "      <td>0.312016</td>\n",
              "      <td>1.106666</td>\n",
              "      <td>0.615222</td>\n",
              "      <td>...</td>\n",
              "      <td>0.453013</td>\n",
              "      <td>1.017443</td>\n",
              "      <td>0.167095</td>\n",
              "      <td>0.513256</td>\n",
              "      <td>1.163530</td>\n",
              "      <td>1.078236</td>\n",
              "      <td>0.605479</td>\n",
              "      <td>1.152220</td>\n",
              "      <td>1.028333</td>\n",
              "      <td>0.610697</td>\n",
              "    </tr>\n",
              "  </tbody>\n",
              "</table>\n",
              "<p>1412 rows × 26 columns</p>\n",
              "</div>\n",
              "      <button class=\"colab-df-convert\" onclick=\"convertToInteractive('df-8096f53f-0f65-46d1-bbee-b821093ca98a')\"\n",
              "              title=\"Convert this dataframe to an interactive table.\"\n",
              "              style=\"display:none;\">\n",
              "        \n",
              "  <svg xmlns=\"http://www.w3.org/2000/svg\" height=\"24px\"viewBox=\"0 0 24 24\"\n",
              "       width=\"24px\">\n",
              "    <path d=\"M0 0h24v24H0V0z\" fill=\"none\"/>\n",
              "    <path d=\"M18.56 5.44l.94 2.06.94-2.06 2.06-.94-2.06-.94-.94-2.06-.94 2.06-2.06.94zm-11 1L8.5 8.5l.94-2.06 2.06-.94-2.06-.94L8.5 2.5l-.94 2.06-2.06.94zm10 10l.94 2.06.94-2.06 2.06-.94-2.06-.94-.94-2.06-.94 2.06-2.06.94z\"/><path d=\"M17.41 7.96l-1.37-1.37c-.4-.4-.92-.59-1.43-.59-.52 0-1.04.2-1.43.59L10.3 9.45l-7.72 7.72c-.78.78-.78 2.05 0 2.83L4 21.41c.39.39.9.59 1.41.59.51 0 1.02-.2 1.41-.59l7.78-7.78 2.81-2.81c.8-.78.8-2.07 0-2.86zM5.41 20L4 18.59l7.72-7.72 1.47 1.35L5.41 20z\"/>\n",
              "  </svg>\n",
              "      </button>\n",
              "      \n",
              "  <style>\n",
              "    .colab-df-container {\n",
              "      display:flex;\n",
              "      flex-wrap:wrap;\n",
              "      gap: 12px;\n",
              "    }\n",
              "\n",
              "    .colab-df-convert {\n",
              "      background-color: #E8F0FE;\n",
              "      border: none;\n",
              "      border-radius: 50%;\n",
              "      cursor: pointer;\n",
              "      display: none;\n",
              "      fill: #1967D2;\n",
              "      height: 32px;\n",
              "      padding: 0 0 0 0;\n",
              "      width: 32px;\n",
              "    }\n",
              "\n",
              "    .colab-df-convert:hover {\n",
              "      background-color: #E2EBFA;\n",
              "      box-shadow: 0px 1px 2px rgba(60, 64, 67, 0.3), 0px 1px 3px 1px rgba(60, 64, 67, 0.15);\n",
              "      fill: #174EA6;\n",
              "    }\n",
              "\n",
              "    [theme=dark] .colab-df-convert {\n",
              "      background-color: #3B4455;\n",
              "      fill: #D2E3FC;\n",
              "    }\n",
              "\n",
              "    [theme=dark] .colab-df-convert:hover {\n",
              "      background-color: #434B5C;\n",
              "      box-shadow: 0px 1px 3px 1px rgba(0, 0, 0, 0.15);\n",
              "      filter: drop-shadow(0px 1px 2px rgba(0, 0, 0, 0.3));\n",
              "      fill: #FFFFFF;\n",
              "    }\n",
              "  </style>\n",
              "\n",
              "      <script>\n",
              "        const buttonEl =\n",
              "          document.querySelector('#df-8096f53f-0f65-46d1-bbee-b821093ca98a button.colab-df-convert');\n",
              "        buttonEl.style.display =\n",
              "          google.colab.kernel.accessAllowed ? 'block' : 'none';\n",
              "\n",
              "        async function convertToInteractive(key) {\n",
              "          const element = document.querySelector('#df-8096f53f-0f65-46d1-bbee-b821093ca98a');\n",
              "          const dataTable =\n",
              "            await google.colab.kernel.invokeFunction('convertToInteractive',\n",
              "                                                     [key], {});\n",
              "          if (!dataTable) return;\n",
              "\n",
              "          const docLinkHtml = 'Like what you see? Visit the ' +\n",
              "            '<a target=\"_blank\" href=https://colab.research.google.com/notebooks/data_table.ipynb>data table notebook</a>'\n",
              "            + ' to learn more about interactive tables.';\n",
              "          element.innerHTML = '';\n",
              "          dataTable['output_type'] = 'display_data';\n",
              "          await google.colab.output.renderOutput(dataTable, element);\n",
              "          const docLink = document.createElement('div');\n",
              "          docLink.innerHTML = docLinkHtml;\n",
              "          element.appendChild(docLink);\n",
              "        }\n",
              "      </script>\n",
              "    </div>\n",
              "  </div>\n",
              "  "
            ]
          },
          "metadata": {},
          "execution_count": 28
        }
      ]
    },
    {
      "cell_type": "code",
      "source": [
        "XRP_2 = XRP_std.drop([\"RSI\",\"MACD Diff\",\"MACD\",\"MACD SIGNAL\"], axis =1)\n",
        "XRP_2"
      ],
      "metadata": {
        "colab": {
          "base_uri": "https://localhost:8080/",
          "height": 710
        },
        "id": "2wwt3fo0H9QY",
        "outputId": "874648ed-55c6-4190-9252-6069a78f1cb3"
      },
      "execution_count": null,
      "outputs": [
        {
          "output_type": "execute_result",
          "data": {
            "text/plain": [
              "               Price   Price+1     RSI+1  MACD Diff+1   Price+2     RSI+2  \\\n",
              "dt                                                                          \n",
              "2018-05-25  0.357039  0.431024 -1.394878    -0.280806  0.317423 -2.099553   \n",
              "2018-05-26  0.369385  0.357039 -1.586221    -0.305769  0.431024 -1.394878   \n",
              "2018-05-27  0.355688  0.369385 -1.511483    -0.313374  0.357039 -1.586221   \n",
              "2018-05-28  0.175766  0.355688 -1.549664    -0.317279  0.369385 -1.511483   \n",
              "2018-05-29  0.342556  0.175766 -1.987887    -0.381323  0.355688 -1.549664   \n",
              "...              ...       ...       ...          ...       ...       ...   \n",
              "2022-04-01  1.057970  1.017443  0.167095     0.513256  1.163530  1.078236   \n",
              "2022-04-02  1.046346  1.057970  0.372445     0.453013  1.017443  0.167095   \n",
              "2022-04-03  1.106666  1.046346  0.304684     0.390970  1.057970  0.372445   \n",
              "2022-04-04  1.052630  1.106666  0.615222     0.366955  1.046346  0.304684   \n",
              "2022-04-05  1.052944  1.052630  0.285427     0.312016  1.106666  0.615222   \n",
              "\n",
              "            MACD Diff+2   Price+3     RSI+3  MACD Diff+3  ...  MACD Diff+4  \\\n",
              "dt                                                        ...                \n",
              "2018-05-25    -0.274739  0.461436 -1.764471    -0.204561  ...    -0.171734   \n",
              "2018-05-26    -0.280806  0.317423 -2.099553    -0.274739  ...    -0.204561   \n",
              "2018-05-27    -0.305769  0.431024 -1.394878    -0.280806  ...    -0.274739   \n",
              "2018-05-28    -0.313374  0.357039 -1.586221    -0.305769  ...    -0.280806   \n",
              "2018-05-29    -0.317279  0.369385 -1.511483    -0.313374  ...    -0.305769   \n",
              "...                 ...       ...       ...          ...  ...          ...   \n",
              "2022-04-01     0.605479  1.152220  1.028333     0.610697  ...     0.613213   \n",
              "2022-04-02     0.513256  1.163530  1.078236     0.605479  ...     0.610697   \n",
              "2022-04-03     0.453013  1.017443  0.167095     0.513256  ...     0.605479   \n",
              "2022-04-04     0.390970  1.057970  0.372445     0.453013  ...     0.513256   \n",
              "2022-04-05     0.366955  1.046346  0.304684     0.390970  ...     0.453013   \n",
              "\n",
              "             Price+5     RSI+5  MACD Diff+5   Price+6     RSI+6  MACD Diff+6  \\\n",
              "dt                                                                             \n",
              "2018-05-25  0.654898 -1.160723    -0.177326  0.573184 -1.756065    -0.211933   \n",
              "2018-05-26  0.581760 -1.412298    -0.171734  0.654898 -1.160723    -0.177326   \n",
              "2018-05-27  0.461436 -1.764471    -0.204561  0.581760 -1.412298    -0.171734   \n",
              "2018-05-28  0.317423 -2.099553    -0.274739  0.461436 -1.764471    -0.204561   \n",
              "2018-05-29  0.431024 -1.394878    -0.280806  0.317423 -2.099553    -0.274739   \n",
              "...              ...       ...          ...       ...       ...          ...   \n",
              "2022-04-01  1.153162  1.089630     0.591387  1.073679  0.764947     0.566154   \n",
              "2022-04-02  1.172326  1.164224     0.613213  1.153162  1.089630     0.591387   \n",
              "2022-04-03  1.152220  1.028333     0.610697  1.172326  1.164224     0.613213   \n",
              "2022-04-04  1.163530  1.078236     0.605479  1.152220  1.028333     0.610697   \n",
              "2022-04-05  1.017443  0.167095     0.513256  1.163530  1.078236     0.605479   \n",
              "\n",
              "             Price+7     RSI+7  MACD Diff+7  \n",
              "dt                                           \n",
              "2018-05-25  0.586599 -1.717013    -0.214390  \n",
              "2018-05-26  0.573184 -1.756065    -0.211933  \n",
              "2018-05-27  0.654898 -1.160723    -0.177326  \n",
              "2018-05-28  0.581760 -1.412298    -0.171734  \n",
              "2018-05-29  0.461436 -1.764471    -0.204561  \n",
              "...              ...       ...          ...  \n",
              "2022-04-01  1.046032  0.645248     0.577902  \n",
              "2022-04-02  1.073679  0.764947     0.566154  \n",
              "2022-04-03  1.153162  1.089630     0.591387  \n",
              "2022-04-04  1.172326  1.164224     0.613213  \n",
              "2022-04-05  1.152220  1.028333     0.610697  \n",
              "\n",
              "[1412 rows x 22 columns]"
            ],
            "text/html": [
              "\n",
              "  <div id=\"df-8e019bd5-e622-461d-a544-292848c58fa1\">\n",
              "    <div class=\"colab-df-container\">\n",
              "      <div>\n",
              "<style scoped>\n",
              "    .dataframe tbody tr th:only-of-type {\n",
              "        vertical-align: middle;\n",
              "    }\n",
              "\n",
              "    .dataframe tbody tr th {\n",
              "        vertical-align: top;\n",
              "    }\n",
              "\n",
              "    .dataframe thead th {\n",
              "        text-align: right;\n",
              "    }\n",
              "</style>\n",
              "<table border=\"1\" class=\"dataframe\">\n",
              "  <thead>\n",
              "    <tr style=\"text-align: right;\">\n",
              "      <th></th>\n",
              "      <th>Price</th>\n",
              "      <th>Price+1</th>\n",
              "      <th>RSI+1</th>\n",
              "      <th>MACD Diff+1</th>\n",
              "      <th>Price+2</th>\n",
              "      <th>RSI+2</th>\n",
              "      <th>MACD Diff+2</th>\n",
              "      <th>Price+3</th>\n",
              "      <th>RSI+3</th>\n",
              "      <th>MACD Diff+3</th>\n",
              "      <th>...</th>\n",
              "      <th>MACD Diff+4</th>\n",
              "      <th>Price+5</th>\n",
              "      <th>RSI+5</th>\n",
              "      <th>MACD Diff+5</th>\n",
              "      <th>Price+6</th>\n",
              "      <th>RSI+6</th>\n",
              "      <th>MACD Diff+6</th>\n",
              "      <th>Price+7</th>\n",
              "      <th>RSI+7</th>\n",
              "      <th>MACD Diff+7</th>\n",
              "    </tr>\n",
              "    <tr>\n",
              "      <th>dt</th>\n",
              "      <th></th>\n",
              "      <th></th>\n",
              "      <th></th>\n",
              "      <th></th>\n",
              "      <th></th>\n",
              "      <th></th>\n",
              "      <th></th>\n",
              "      <th></th>\n",
              "      <th></th>\n",
              "      <th></th>\n",
              "      <th></th>\n",
              "      <th></th>\n",
              "      <th></th>\n",
              "      <th></th>\n",
              "      <th></th>\n",
              "      <th></th>\n",
              "      <th></th>\n",
              "      <th></th>\n",
              "      <th></th>\n",
              "      <th></th>\n",
              "      <th></th>\n",
              "    </tr>\n",
              "  </thead>\n",
              "  <tbody>\n",
              "    <tr>\n",
              "      <th>2018-05-25</th>\n",
              "      <td>0.357039</td>\n",
              "      <td>0.431024</td>\n",
              "      <td>-1.394878</td>\n",
              "      <td>-0.280806</td>\n",
              "      <td>0.317423</td>\n",
              "      <td>-2.099553</td>\n",
              "      <td>-0.274739</td>\n",
              "      <td>0.461436</td>\n",
              "      <td>-1.764471</td>\n",
              "      <td>-0.204561</td>\n",
              "      <td>...</td>\n",
              "      <td>-0.171734</td>\n",
              "      <td>0.654898</td>\n",
              "      <td>-1.160723</td>\n",
              "      <td>-0.177326</td>\n",
              "      <td>0.573184</td>\n",
              "      <td>-1.756065</td>\n",
              "      <td>-0.211933</td>\n",
              "      <td>0.586599</td>\n",
              "      <td>-1.717013</td>\n",
              "      <td>-0.214390</td>\n",
              "    </tr>\n",
              "    <tr>\n",
              "      <th>2018-05-26</th>\n",
              "      <td>0.369385</td>\n",
              "      <td>0.357039</td>\n",
              "      <td>-1.586221</td>\n",
              "      <td>-0.305769</td>\n",
              "      <td>0.431024</td>\n",
              "      <td>-1.394878</td>\n",
              "      <td>-0.280806</td>\n",
              "      <td>0.317423</td>\n",
              "      <td>-2.099553</td>\n",
              "      <td>-0.274739</td>\n",
              "      <td>...</td>\n",
              "      <td>-0.204561</td>\n",
              "      <td>0.581760</td>\n",
              "      <td>-1.412298</td>\n",
              "      <td>-0.171734</td>\n",
              "      <td>0.654898</td>\n",
              "      <td>-1.160723</td>\n",
              "      <td>-0.177326</td>\n",
              "      <td>0.573184</td>\n",
              "      <td>-1.756065</td>\n",
              "      <td>-0.211933</td>\n",
              "    </tr>\n",
              "    <tr>\n",
              "      <th>2018-05-27</th>\n",
              "      <td>0.355688</td>\n",
              "      <td>0.369385</td>\n",
              "      <td>-1.511483</td>\n",
              "      <td>-0.313374</td>\n",
              "      <td>0.357039</td>\n",
              "      <td>-1.586221</td>\n",
              "      <td>-0.305769</td>\n",
              "      <td>0.431024</td>\n",
              "      <td>-1.394878</td>\n",
              "      <td>-0.280806</td>\n",
              "      <td>...</td>\n",
              "      <td>-0.274739</td>\n",
              "      <td>0.461436</td>\n",
              "      <td>-1.764471</td>\n",
              "      <td>-0.204561</td>\n",
              "      <td>0.581760</td>\n",
              "      <td>-1.412298</td>\n",
              "      <td>-0.171734</td>\n",
              "      <td>0.654898</td>\n",
              "      <td>-1.160723</td>\n",
              "      <td>-0.177326</td>\n",
              "    </tr>\n",
              "    <tr>\n",
              "      <th>2018-05-28</th>\n",
              "      <td>0.175766</td>\n",
              "      <td>0.355688</td>\n",
              "      <td>-1.549664</td>\n",
              "      <td>-0.317279</td>\n",
              "      <td>0.369385</td>\n",
              "      <td>-1.511483</td>\n",
              "      <td>-0.313374</td>\n",
              "      <td>0.357039</td>\n",
              "      <td>-1.586221</td>\n",
              "      <td>-0.305769</td>\n",
              "      <td>...</td>\n",
              "      <td>-0.280806</td>\n",
              "      <td>0.317423</td>\n",
              "      <td>-2.099553</td>\n",
              "      <td>-0.274739</td>\n",
              "      <td>0.461436</td>\n",
              "      <td>-1.764471</td>\n",
              "      <td>-0.204561</td>\n",
              "      <td>0.581760</td>\n",
              "      <td>-1.412298</td>\n",
              "      <td>-0.171734</td>\n",
              "    </tr>\n",
              "    <tr>\n",
              "      <th>2018-05-29</th>\n",
              "      <td>0.342556</td>\n",
              "      <td>0.175766</td>\n",
              "      <td>-1.987887</td>\n",
              "      <td>-0.381323</td>\n",
              "      <td>0.355688</td>\n",
              "      <td>-1.549664</td>\n",
              "      <td>-0.317279</td>\n",
              "      <td>0.369385</td>\n",
              "      <td>-1.511483</td>\n",
              "      <td>-0.313374</td>\n",
              "      <td>...</td>\n",
              "      <td>-0.305769</td>\n",
              "      <td>0.431024</td>\n",
              "      <td>-1.394878</td>\n",
              "      <td>-0.280806</td>\n",
              "      <td>0.317423</td>\n",
              "      <td>-2.099553</td>\n",
              "      <td>-0.274739</td>\n",
              "      <td>0.461436</td>\n",
              "      <td>-1.764471</td>\n",
              "      <td>-0.204561</td>\n",
              "    </tr>\n",
              "    <tr>\n",
              "      <th>...</th>\n",
              "      <td>...</td>\n",
              "      <td>...</td>\n",
              "      <td>...</td>\n",
              "      <td>...</td>\n",
              "      <td>...</td>\n",
              "      <td>...</td>\n",
              "      <td>...</td>\n",
              "      <td>...</td>\n",
              "      <td>...</td>\n",
              "      <td>...</td>\n",
              "      <td>...</td>\n",
              "      <td>...</td>\n",
              "      <td>...</td>\n",
              "      <td>...</td>\n",
              "      <td>...</td>\n",
              "      <td>...</td>\n",
              "      <td>...</td>\n",
              "      <td>...</td>\n",
              "      <td>...</td>\n",
              "      <td>...</td>\n",
              "      <td>...</td>\n",
              "    </tr>\n",
              "    <tr>\n",
              "      <th>2022-04-01</th>\n",
              "      <td>1.057970</td>\n",
              "      <td>1.017443</td>\n",
              "      <td>0.167095</td>\n",
              "      <td>0.513256</td>\n",
              "      <td>1.163530</td>\n",
              "      <td>1.078236</td>\n",
              "      <td>0.605479</td>\n",
              "      <td>1.152220</td>\n",
              "      <td>1.028333</td>\n",
              "      <td>0.610697</td>\n",
              "      <td>...</td>\n",
              "      <td>0.613213</td>\n",
              "      <td>1.153162</td>\n",
              "      <td>1.089630</td>\n",
              "      <td>0.591387</td>\n",
              "      <td>1.073679</td>\n",
              "      <td>0.764947</td>\n",
              "      <td>0.566154</td>\n",
              "      <td>1.046032</td>\n",
              "      <td>0.645248</td>\n",
              "      <td>0.577902</td>\n",
              "    </tr>\n",
              "    <tr>\n",
              "      <th>2022-04-02</th>\n",
              "      <td>1.046346</td>\n",
              "      <td>1.057970</td>\n",
              "      <td>0.372445</td>\n",
              "      <td>0.453013</td>\n",
              "      <td>1.017443</td>\n",
              "      <td>0.167095</td>\n",
              "      <td>0.513256</td>\n",
              "      <td>1.163530</td>\n",
              "      <td>1.078236</td>\n",
              "      <td>0.605479</td>\n",
              "      <td>...</td>\n",
              "      <td>0.610697</td>\n",
              "      <td>1.172326</td>\n",
              "      <td>1.164224</td>\n",
              "      <td>0.613213</td>\n",
              "      <td>1.153162</td>\n",
              "      <td>1.089630</td>\n",
              "      <td>0.591387</td>\n",
              "      <td>1.073679</td>\n",
              "      <td>0.764947</td>\n",
              "      <td>0.566154</td>\n",
              "    </tr>\n",
              "    <tr>\n",
              "      <th>2022-04-03</th>\n",
              "      <td>1.106666</td>\n",
              "      <td>1.046346</td>\n",
              "      <td>0.304684</td>\n",
              "      <td>0.390970</td>\n",
              "      <td>1.057970</td>\n",
              "      <td>0.372445</td>\n",
              "      <td>0.453013</td>\n",
              "      <td>1.017443</td>\n",
              "      <td>0.167095</td>\n",
              "      <td>0.513256</td>\n",
              "      <td>...</td>\n",
              "      <td>0.605479</td>\n",
              "      <td>1.152220</td>\n",
              "      <td>1.028333</td>\n",
              "      <td>0.610697</td>\n",
              "      <td>1.172326</td>\n",
              "      <td>1.164224</td>\n",
              "      <td>0.613213</td>\n",
              "      <td>1.153162</td>\n",
              "      <td>1.089630</td>\n",
              "      <td>0.591387</td>\n",
              "    </tr>\n",
              "    <tr>\n",
              "      <th>2022-04-04</th>\n",
              "      <td>1.052630</td>\n",
              "      <td>1.106666</td>\n",
              "      <td>0.615222</td>\n",
              "      <td>0.366955</td>\n",
              "      <td>1.046346</td>\n",
              "      <td>0.304684</td>\n",
              "      <td>0.390970</td>\n",
              "      <td>1.057970</td>\n",
              "      <td>0.372445</td>\n",
              "      <td>0.453013</td>\n",
              "      <td>...</td>\n",
              "      <td>0.513256</td>\n",
              "      <td>1.163530</td>\n",
              "      <td>1.078236</td>\n",
              "      <td>0.605479</td>\n",
              "      <td>1.152220</td>\n",
              "      <td>1.028333</td>\n",
              "      <td>0.610697</td>\n",
              "      <td>1.172326</td>\n",
              "      <td>1.164224</td>\n",
              "      <td>0.613213</td>\n",
              "    </tr>\n",
              "    <tr>\n",
              "      <th>2022-04-05</th>\n",
              "      <td>1.052944</td>\n",
              "      <td>1.052630</td>\n",
              "      <td>0.285427</td>\n",
              "      <td>0.312016</td>\n",
              "      <td>1.106666</td>\n",
              "      <td>0.615222</td>\n",
              "      <td>0.366955</td>\n",
              "      <td>1.046346</td>\n",
              "      <td>0.304684</td>\n",
              "      <td>0.390970</td>\n",
              "      <td>...</td>\n",
              "      <td>0.453013</td>\n",
              "      <td>1.017443</td>\n",
              "      <td>0.167095</td>\n",
              "      <td>0.513256</td>\n",
              "      <td>1.163530</td>\n",
              "      <td>1.078236</td>\n",
              "      <td>0.605479</td>\n",
              "      <td>1.152220</td>\n",
              "      <td>1.028333</td>\n",
              "      <td>0.610697</td>\n",
              "    </tr>\n",
              "  </tbody>\n",
              "</table>\n",
              "<p>1412 rows × 22 columns</p>\n",
              "</div>\n",
              "      <button class=\"colab-df-convert\" onclick=\"convertToInteractive('df-8e019bd5-e622-461d-a544-292848c58fa1')\"\n",
              "              title=\"Convert this dataframe to an interactive table.\"\n",
              "              style=\"display:none;\">\n",
              "        \n",
              "  <svg xmlns=\"http://www.w3.org/2000/svg\" height=\"24px\"viewBox=\"0 0 24 24\"\n",
              "       width=\"24px\">\n",
              "    <path d=\"M0 0h24v24H0V0z\" fill=\"none\"/>\n",
              "    <path d=\"M18.56 5.44l.94 2.06.94-2.06 2.06-.94-2.06-.94-.94-2.06-.94 2.06-2.06.94zm-11 1L8.5 8.5l.94-2.06 2.06-.94-2.06-.94L8.5 2.5l-.94 2.06-2.06.94zm10 10l.94 2.06.94-2.06 2.06-.94-2.06-.94-.94-2.06-.94 2.06-2.06.94z\"/><path d=\"M17.41 7.96l-1.37-1.37c-.4-.4-.92-.59-1.43-.59-.52 0-1.04.2-1.43.59L10.3 9.45l-7.72 7.72c-.78.78-.78 2.05 0 2.83L4 21.41c.39.39.9.59 1.41.59.51 0 1.02-.2 1.41-.59l7.78-7.78 2.81-2.81c.8-.78.8-2.07 0-2.86zM5.41 20L4 18.59l7.72-7.72 1.47 1.35L5.41 20z\"/>\n",
              "  </svg>\n",
              "      </button>\n",
              "      \n",
              "  <style>\n",
              "    .colab-df-container {\n",
              "      display:flex;\n",
              "      flex-wrap:wrap;\n",
              "      gap: 12px;\n",
              "    }\n",
              "\n",
              "    .colab-df-convert {\n",
              "      background-color: #E8F0FE;\n",
              "      border: none;\n",
              "      border-radius: 50%;\n",
              "      cursor: pointer;\n",
              "      display: none;\n",
              "      fill: #1967D2;\n",
              "      height: 32px;\n",
              "      padding: 0 0 0 0;\n",
              "      width: 32px;\n",
              "    }\n",
              "\n",
              "    .colab-df-convert:hover {\n",
              "      background-color: #E2EBFA;\n",
              "      box-shadow: 0px 1px 2px rgba(60, 64, 67, 0.3), 0px 1px 3px 1px rgba(60, 64, 67, 0.15);\n",
              "      fill: #174EA6;\n",
              "    }\n",
              "\n",
              "    [theme=dark] .colab-df-convert {\n",
              "      background-color: #3B4455;\n",
              "      fill: #D2E3FC;\n",
              "    }\n",
              "\n",
              "    [theme=dark] .colab-df-convert:hover {\n",
              "      background-color: #434B5C;\n",
              "      box-shadow: 0px 1px 3px 1px rgba(0, 0, 0, 0.15);\n",
              "      filter: drop-shadow(0px 1px 2px rgba(0, 0, 0, 0.3));\n",
              "      fill: #FFFFFF;\n",
              "    }\n",
              "  </style>\n",
              "\n",
              "      <script>\n",
              "        const buttonEl =\n",
              "          document.querySelector('#df-8e019bd5-e622-461d-a544-292848c58fa1 button.colab-df-convert');\n",
              "        buttonEl.style.display =\n",
              "          google.colab.kernel.accessAllowed ? 'block' : 'none';\n",
              "\n",
              "        async function convertToInteractive(key) {\n",
              "          const element = document.querySelector('#df-8e019bd5-e622-461d-a544-292848c58fa1');\n",
              "          const dataTable =\n",
              "            await google.colab.kernel.invokeFunction('convertToInteractive',\n",
              "                                                     [key], {});\n",
              "          if (!dataTable) return;\n",
              "\n",
              "          const docLinkHtml = 'Like what you see? Visit the ' +\n",
              "            '<a target=\"_blank\" href=https://colab.research.google.com/notebooks/data_table.ipynb>data table notebook</a>'\n",
              "            + ' to learn more about interactive tables.';\n",
              "          element.innerHTML = '';\n",
              "          dataTable['output_type'] = 'display_data';\n",
              "          await google.colab.output.renderOutput(dataTable, element);\n",
              "          const docLink = document.createElement('div');\n",
              "          docLink.innerHTML = docLinkHtml;\n",
              "          element.appendChild(docLink);\n",
              "        }\n",
              "      </script>\n",
              "    </div>\n",
              "  </div>\n",
              "  "
            ]
          },
          "metadata": {},
          "execution_count": 29
        }
      ]
    },
    {
      "cell_type": "code",
      "source": [
        "X = XRP_2.drop([\"Price\"], axis = 1)\n",
        "y = XRP_2.Price\n",
        "\n",
        "X,y"
      ],
      "metadata": {
        "colab": {
          "base_uri": "https://localhost:8080/"
        },
        "id": "l6_vRF6BIfLd",
        "outputId": "47010616-e07b-40ba-ec39-0a28fb8001f2"
      },
      "execution_count": null,
      "outputs": [
        {
          "output_type": "execute_result",
          "data": {
            "text/plain": [
              "(             Price+1     RSI+1  MACD Diff+1   Price+2     RSI+2  MACD Diff+2  \\\n",
              " dt                                                                             \n",
              " 2018-05-25  0.431024 -1.394878    -0.280806  0.317423 -2.099553    -0.274739   \n",
              " 2018-05-26  0.357039 -1.586221    -0.305769  0.431024 -1.394878    -0.280806   \n",
              " 2018-05-27  0.369385 -1.511483    -0.313374  0.357039 -1.586221    -0.305769   \n",
              " 2018-05-28  0.355688 -1.549664    -0.317279  0.369385 -1.511483    -0.313374   \n",
              " 2018-05-29  0.175766 -1.987887    -0.381323  0.355688 -1.549664    -0.317279   \n",
              " ...              ...       ...          ...       ...       ...          ...   \n",
              " 2022-04-01  1.017443  0.167095     0.513256  1.163530  1.078236     0.605479   \n",
              " 2022-04-02  1.057970  0.372445     0.453013  1.017443  0.167095     0.513256   \n",
              " 2022-04-03  1.046346  0.304684     0.390970  1.057970  0.372445     0.453013   \n",
              " 2022-04-04  1.106666  0.615222     0.366955  1.046346  0.304684     0.390970   \n",
              " 2022-04-05  1.052630  0.285427     0.312016  1.106666  0.615222     0.366955   \n",
              " \n",
              "              Price+3     RSI+3  MACD Diff+3   Price+4  ...  MACD Diff+4  \\\n",
              " dt                                                     ...                \n",
              " 2018-05-25  0.461436 -1.764471    -0.204561  0.581760  ...    -0.171734   \n",
              " 2018-05-26  0.317423 -2.099553    -0.274739  0.461436  ...    -0.204561   \n",
              " 2018-05-27  0.431024 -1.394878    -0.280806  0.317423  ...    -0.274739   \n",
              " 2018-05-28  0.357039 -1.586221    -0.305769  0.431024  ...    -0.280806   \n",
              " 2018-05-29  0.369385 -1.511483    -0.313374  0.357039  ...    -0.305769   \n",
              " ...              ...       ...          ...       ...  ...          ...   \n",
              " 2022-04-01  1.152220  1.028333     0.610697  1.172326  ...     0.613213   \n",
              " 2022-04-02  1.163530  1.078236     0.605479  1.152220  ...     0.610697   \n",
              " 2022-04-03  1.017443  0.167095     0.513256  1.163530  ...     0.605479   \n",
              " 2022-04-04  1.057970  0.372445     0.453013  1.017443  ...     0.513256   \n",
              " 2022-04-05  1.046346  0.304684     0.390970  1.057970  ...     0.453013   \n",
              " \n",
              "              Price+5     RSI+5  MACD Diff+5   Price+6     RSI+6  MACD Diff+6  \\\n",
              " dt                                                                             \n",
              " 2018-05-25  0.654898 -1.160723    -0.177326  0.573184 -1.756065    -0.211933   \n",
              " 2018-05-26  0.581760 -1.412298    -0.171734  0.654898 -1.160723    -0.177326   \n",
              " 2018-05-27  0.461436 -1.764471    -0.204561  0.581760 -1.412298    -0.171734   \n",
              " 2018-05-28  0.317423 -2.099553    -0.274739  0.461436 -1.764471    -0.204561   \n",
              " 2018-05-29  0.431024 -1.394878    -0.280806  0.317423 -2.099553    -0.274739   \n",
              " ...              ...       ...          ...       ...       ...          ...   \n",
              " 2022-04-01  1.153162  1.089630     0.591387  1.073679  0.764947     0.566154   \n",
              " 2022-04-02  1.172326  1.164224     0.613213  1.153162  1.089630     0.591387   \n",
              " 2022-04-03  1.152220  1.028333     0.610697  1.172326  1.164224     0.613213   \n",
              " 2022-04-04  1.163530  1.078236     0.605479  1.152220  1.028333     0.610697   \n",
              " 2022-04-05  1.017443  0.167095     0.513256  1.163530  1.078236     0.605479   \n",
              " \n",
              "              Price+7     RSI+7  MACD Diff+7  \n",
              " dt                                           \n",
              " 2018-05-25  0.586599 -1.717013    -0.214390  \n",
              " 2018-05-26  0.573184 -1.756065    -0.211933  \n",
              " 2018-05-27  0.654898 -1.160723    -0.177326  \n",
              " 2018-05-28  0.581760 -1.412298    -0.171734  \n",
              " 2018-05-29  0.461436 -1.764471    -0.204561  \n",
              " ...              ...       ...          ...  \n",
              " 2022-04-01  1.046032  0.645248     0.577902  \n",
              " 2022-04-02  1.073679  0.764947     0.566154  \n",
              " 2022-04-03  1.153162  1.089630     0.591387  \n",
              " 2022-04-04  1.172326  1.164224     0.613213  \n",
              " 2022-04-05  1.152220  1.028333     0.610697  \n",
              " \n",
              " [1412 rows x 21 columns], dt\n",
              " 2018-05-25    0.357039\n",
              " 2018-05-26    0.369385\n",
              " 2018-05-27    0.355688\n",
              " 2018-05-28    0.175766\n",
              " 2018-05-29    0.342556\n",
              "                 ...   \n",
              " 2022-04-01    1.057970\n",
              " 2022-04-02    1.046346\n",
              " 2022-04-03    1.106666\n",
              " 2022-04-04    1.052630\n",
              " 2022-04-05    1.052944\n",
              " Name: Price, Length: 1412, dtype: float64)"
            ]
          },
          "metadata": {},
          "execution_count": 30
        }
      ]
    },
    {
      "cell_type": "code",
      "source": [
        "X.shape"
      ],
      "metadata": {
        "colab": {
          "base_uri": "https://localhost:8080/"
        },
        "id": "-dAwOeYXIgJe",
        "outputId": "609d6a29-b571-42f4-de65-7cd0307e42f6"
      },
      "execution_count": null,
      "outputs": [
        {
          "output_type": "execute_result",
          "data": {
            "text/plain": [
              "(1412, 21)"
            ]
          },
          "metadata": {},
          "execution_count": 31
        }
      ]
    },
    {
      "cell_type": "markdown",
      "source": [
        "## Part 3.1 Testing only - try breaking by index"
      ],
      "metadata": {
        "id": "GJITOo4yWcQ4"
      }
    },
    {
      "cell_type": "code",
      "source": [
        "# example\n",
        "a = np.arange(0,17,2)\n",
        "b = np.arange (12,39,3)\n",
        "c = [100,200,300,400,500,600,700,800,900]"
      ],
      "metadata": {
        "id": "glrHCTiUXW2H"
      },
      "execution_count": null,
      "outputs": []
    },
    {
      "cell_type": "code",
      "source": [
        "a,b"
      ],
      "metadata": {
        "colab": {
          "base_uri": "https://localhost:8080/"
        },
        "id": "XZl3nAvpXs8J",
        "outputId": "bcea9486-bd4a-43ba-f01c-736843bc3e2d"
      },
      "execution_count": null,
      "outputs": [
        {
          "output_type": "execute_result",
          "data": {
            "text/plain": [
              "(array([ 0,  2,  4,  6,  8, 10, 12, 14, 16]),\n",
              " array([12, 15, 18, 21, 24, 27, 30, 33, 36]))"
            ]
          },
          "metadata": {},
          "execution_count": 33
        }
      ]
    },
    {
      "cell_type": "code",
      "source": [
        "trial = pd.DataFrame([a,b,c], index = [\"t1\", \"t2\",\"t3\"]) "
      ],
      "metadata": {
        "id": "cIp-BSNcXtxx"
      },
      "execution_count": null,
      "outputs": []
    },
    {
      "cell_type": "code",
      "source": [
        "trial"
      ],
      "metadata": {
        "colab": {
          "base_uri": "https://localhost:8080/",
          "height": 143
        },
        "id": "SAJX0aecYWqD",
        "outputId": "329a4737-aba5-4ab9-d216-d2e7719598d1"
      },
      "execution_count": null,
      "outputs": [
        {
          "output_type": "execute_result",
          "data": {
            "text/plain": [
              "      0    1    2    3    4    5    6    7    8\n",
              "t1    0    2    4    6    8   10   12   14   16\n",
              "t2   12   15   18   21   24   27   30   33   36\n",
              "t3  100  200  300  400  500  600  700  800  900"
            ],
            "text/html": [
              "\n",
              "  <div id=\"df-0456bfa5-634b-4109-ae34-1224fbd867ad\">\n",
              "    <div class=\"colab-df-container\">\n",
              "      <div>\n",
              "<style scoped>\n",
              "    .dataframe tbody tr th:only-of-type {\n",
              "        vertical-align: middle;\n",
              "    }\n",
              "\n",
              "    .dataframe tbody tr th {\n",
              "        vertical-align: top;\n",
              "    }\n",
              "\n",
              "    .dataframe thead th {\n",
              "        text-align: right;\n",
              "    }\n",
              "</style>\n",
              "<table border=\"1\" class=\"dataframe\">\n",
              "  <thead>\n",
              "    <tr style=\"text-align: right;\">\n",
              "      <th></th>\n",
              "      <th>0</th>\n",
              "      <th>1</th>\n",
              "      <th>2</th>\n",
              "      <th>3</th>\n",
              "      <th>4</th>\n",
              "      <th>5</th>\n",
              "      <th>6</th>\n",
              "      <th>7</th>\n",
              "      <th>8</th>\n",
              "    </tr>\n",
              "  </thead>\n",
              "  <tbody>\n",
              "    <tr>\n",
              "      <th>t1</th>\n",
              "      <td>0</td>\n",
              "      <td>2</td>\n",
              "      <td>4</td>\n",
              "      <td>6</td>\n",
              "      <td>8</td>\n",
              "      <td>10</td>\n",
              "      <td>12</td>\n",
              "      <td>14</td>\n",
              "      <td>16</td>\n",
              "    </tr>\n",
              "    <tr>\n",
              "      <th>t2</th>\n",
              "      <td>12</td>\n",
              "      <td>15</td>\n",
              "      <td>18</td>\n",
              "      <td>21</td>\n",
              "      <td>24</td>\n",
              "      <td>27</td>\n",
              "      <td>30</td>\n",
              "      <td>33</td>\n",
              "      <td>36</td>\n",
              "    </tr>\n",
              "    <tr>\n",
              "      <th>t3</th>\n",
              "      <td>100</td>\n",
              "      <td>200</td>\n",
              "      <td>300</td>\n",
              "      <td>400</td>\n",
              "      <td>500</td>\n",
              "      <td>600</td>\n",
              "      <td>700</td>\n",
              "      <td>800</td>\n",
              "      <td>900</td>\n",
              "    </tr>\n",
              "  </tbody>\n",
              "</table>\n",
              "</div>\n",
              "      <button class=\"colab-df-convert\" onclick=\"convertToInteractive('df-0456bfa5-634b-4109-ae34-1224fbd867ad')\"\n",
              "              title=\"Convert this dataframe to an interactive table.\"\n",
              "              style=\"display:none;\">\n",
              "        \n",
              "  <svg xmlns=\"http://www.w3.org/2000/svg\" height=\"24px\"viewBox=\"0 0 24 24\"\n",
              "       width=\"24px\">\n",
              "    <path d=\"M0 0h24v24H0V0z\" fill=\"none\"/>\n",
              "    <path d=\"M18.56 5.44l.94 2.06.94-2.06 2.06-.94-2.06-.94-.94-2.06-.94 2.06-2.06.94zm-11 1L8.5 8.5l.94-2.06 2.06-.94-2.06-.94L8.5 2.5l-.94 2.06-2.06.94zm10 10l.94 2.06.94-2.06 2.06-.94-2.06-.94-.94-2.06-.94 2.06-2.06.94z\"/><path d=\"M17.41 7.96l-1.37-1.37c-.4-.4-.92-.59-1.43-.59-.52 0-1.04.2-1.43.59L10.3 9.45l-7.72 7.72c-.78.78-.78 2.05 0 2.83L4 21.41c.39.39.9.59 1.41.59.51 0 1.02-.2 1.41-.59l7.78-7.78 2.81-2.81c.8-.78.8-2.07 0-2.86zM5.41 20L4 18.59l7.72-7.72 1.47 1.35L5.41 20z\"/>\n",
              "  </svg>\n",
              "      </button>\n",
              "      \n",
              "  <style>\n",
              "    .colab-df-container {\n",
              "      display:flex;\n",
              "      flex-wrap:wrap;\n",
              "      gap: 12px;\n",
              "    }\n",
              "\n",
              "    .colab-df-convert {\n",
              "      background-color: #E8F0FE;\n",
              "      border: none;\n",
              "      border-radius: 50%;\n",
              "      cursor: pointer;\n",
              "      display: none;\n",
              "      fill: #1967D2;\n",
              "      height: 32px;\n",
              "      padding: 0 0 0 0;\n",
              "      width: 32px;\n",
              "    }\n",
              "\n",
              "    .colab-df-convert:hover {\n",
              "      background-color: #E2EBFA;\n",
              "      box-shadow: 0px 1px 2px rgba(60, 64, 67, 0.3), 0px 1px 3px 1px rgba(60, 64, 67, 0.15);\n",
              "      fill: #174EA6;\n",
              "    }\n",
              "\n",
              "    [theme=dark] .colab-df-convert {\n",
              "      background-color: #3B4455;\n",
              "      fill: #D2E3FC;\n",
              "    }\n",
              "\n",
              "    [theme=dark] .colab-df-convert:hover {\n",
              "      background-color: #434B5C;\n",
              "      box-shadow: 0px 1px 3px 1px rgba(0, 0, 0, 0.15);\n",
              "      filter: drop-shadow(0px 1px 2px rgba(0, 0, 0, 0.3));\n",
              "      fill: #FFFFFF;\n",
              "    }\n",
              "  </style>\n",
              "\n",
              "      <script>\n",
              "        const buttonEl =\n",
              "          document.querySelector('#df-0456bfa5-634b-4109-ae34-1224fbd867ad button.colab-df-convert');\n",
              "        buttonEl.style.display =\n",
              "          google.colab.kernel.accessAllowed ? 'block' : 'none';\n",
              "\n",
              "        async function convertToInteractive(key) {\n",
              "          const element = document.querySelector('#df-0456bfa5-634b-4109-ae34-1224fbd867ad');\n",
              "          const dataTable =\n",
              "            await google.colab.kernel.invokeFunction('convertToInteractive',\n",
              "                                                     [key], {});\n",
              "          if (!dataTable) return;\n",
              "\n",
              "          const docLinkHtml = 'Like what you see? Visit the ' +\n",
              "            '<a target=\"_blank\" href=https://colab.research.google.com/notebooks/data_table.ipynb>data table notebook</a>'\n",
              "            + ' to learn more about interactive tables.';\n",
              "          element.innerHTML = '';\n",
              "          dataTable['output_type'] = 'display_data';\n",
              "          await google.colab.output.renderOutput(dataTable, element);\n",
              "          const docLink = document.createElement('div');\n",
              "          docLink.innerHTML = docLinkHtml;\n",
              "          element.appendChild(docLink);\n",
              "        }\n",
              "      </script>\n",
              "    </div>\n",
              "  </div>\n",
              "  "
            ]
          },
          "metadata": {},
          "execution_count": 35
        }
      ]
    },
    {
      "cell_type": "code",
      "source": [
        "for i in range(len(trial.index)):\n",
        "  print(i)"
      ],
      "metadata": {
        "colab": {
          "base_uri": "https://localhost:8080/"
        },
        "id": "Pg8TcexbYXkU",
        "outputId": "4edc23db-2759-4deb-a149-7691d60446f0"
      },
      "execution_count": null,
      "outputs": [
        {
          "output_type": "stream",
          "name": "stdout",
          "text": [
            "0\n",
            "1\n",
            "2\n"
          ]
        }
      ]
    },
    {
      "cell_type": "code",
      "source": [
        "list1 = []\n",
        "for i in range(len(trial.index)):\n",
        "  x = np.reshape(trial.iloc[i].values, (3,3))\n",
        "  list1.append(x)\n",
        "  "
      ],
      "metadata": {
        "id": "fEUi5aA0Yf_S"
      },
      "execution_count": null,
      "outputs": []
    },
    {
      "cell_type": "code",
      "source": [
        "list1"
      ],
      "metadata": {
        "colab": {
          "base_uri": "https://localhost:8080/"
        },
        "id": "L4Pqroh-enUB",
        "outputId": "95af8b7a-c120-48f0-c495-55d6d6f55968"
      },
      "execution_count": null,
      "outputs": [
        {
          "output_type": "execute_result",
          "data": {
            "text/plain": [
              "[array([[ 0,  2,  4],\n",
              "        [ 6,  8, 10],\n",
              "        [12, 14, 16]]), array([[12, 15, 18],\n",
              "        [21, 24, 27],\n",
              "        [30, 33, 36]]), array([[100, 200, 300],\n",
              "        [400, 500, 600],\n",
              "        [700, 800, 900]])]"
            ]
          },
          "metadata": {},
          "execution_count": 38
        }
      ]
    },
    {
      "cell_type": "code",
      "source": [
        "list1[0]"
      ],
      "metadata": {
        "colab": {
          "base_uri": "https://localhost:8080/"
        },
        "id": "tffzpHTmYoiT",
        "outputId": "e10b735a-6a35-43ce-841e-bba930d8d76f"
      },
      "execution_count": null,
      "outputs": [
        {
          "output_type": "execute_result",
          "data": {
            "text/plain": [
              "array([[ 0,  2,  4],\n",
              "       [ 6,  8, 10],\n",
              "       [12, 14, 16]])"
            ]
          },
          "metadata": {},
          "execution_count": 39
        }
      ]
    },
    {
      "cell_type": "code",
      "source": [
        "np.array(list1).shape"
      ],
      "metadata": {
        "colab": {
          "base_uri": "https://localhost:8080/"
        },
        "id": "8zTbAARIYsCT",
        "outputId": "9d24a4c9-c9a5-47ad-8b9f-a61a0cebf578"
      },
      "execution_count": null,
      "outputs": [
        {
          "output_type": "execute_result",
          "data": {
            "text/plain": [
              "(3, 3, 3)"
            ]
          },
          "metadata": {},
          "execution_count": 40
        }
      ]
    },
    {
      "cell_type": "markdown",
      "source": [
        "## Part 3.2 Preparing 3D format expected by LSTMs [samples, timesteps, features]."
      ],
      "metadata": {
        "id": "xO33w2h_f2_9"
      }
    },
    {
      "cell_type": "code",
      "source": [
        "X"
      ],
      "metadata": {
        "colab": {
          "base_uri": "https://localhost:8080/",
          "height": 710
        },
        "id": "Fh78vz3v_5D4",
        "outputId": "16c3a4e1-09a4-45d2-8dd9-4c6df663c86c"
      },
      "execution_count": null,
      "outputs": [
        {
          "output_type": "execute_result",
          "data": {
            "text/plain": [
              "             Price+1     RSI+1  MACD Diff+1   Price+2     RSI+2  MACD Diff+2  \\\n",
              "dt                                                                             \n",
              "2018-05-25  0.431024 -1.394878    -0.280806  0.317423 -2.099553    -0.274739   \n",
              "2018-05-26  0.357039 -1.586221    -0.305769  0.431024 -1.394878    -0.280806   \n",
              "2018-05-27  0.369385 -1.511483    -0.313374  0.357039 -1.586221    -0.305769   \n",
              "2018-05-28  0.355688 -1.549664    -0.317279  0.369385 -1.511483    -0.313374   \n",
              "2018-05-29  0.175766 -1.987887    -0.381323  0.355688 -1.549664    -0.317279   \n",
              "...              ...       ...          ...       ...       ...          ...   \n",
              "2022-04-01  1.017443  0.167095     0.513256  1.163530  1.078236     0.605479   \n",
              "2022-04-02  1.057970  0.372445     0.453013  1.017443  0.167095     0.513256   \n",
              "2022-04-03  1.046346  0.304684     0.390970  1.057970  0.372445     0.453013   \n",
              "2022-04-04  1.106666  0.615222     0.366955  1.046346  0.304684     0.390970   \n",
              "2022-04-05  1.052630  0.285427     0.312016  1.106666  0.615222     0.366955   \n",
              "\n",
              "             Price+3     RSI+3  MACD Diff+3   Price+4  ...  MACD Diff+4  \\\n",
              "dt                                                     ...                \n",
              "2018-05-25  0.461436 -1.764471    -0.204561  0.581760  ...    -0.171734   \n",
              "2018-05-26  0.317423 -2.099553    -0.274739  0.461436  ...    -0.204561   \n",
              "2018-05-27  0.431024 -1.394878    -0.280806  0.317423  ...    -0.274739   \n",
              "2018-05-28  0.357039 -1.586221    -0.305769  0.431024  ...    -0.280806   \n",
              "2018-05-29  0.369385 -1.511483    -0.313374  0.357039  ...    -0.305769   \n",
              "...              ...       ...          ...       ...  ...          ...   \n",
              "2022-04-01  1.152220  1.028333     0.610697  1.172326  ...     0.613213   \n",
              "2022-04-02  1.163530  1.078236     0.605479  1.152220  ...     0.610697   \n",
              "2022-04-03  1.017443  0.167095     0.513256  1.163530  ...     0.605479   \n",
              "2022-04-04  1.057970  0.372445     0.453013  1.017443  ...     0.513256   \n",
              "2022-04-05  1.046346  0.304684     0.390970  1.057970  ...     0.453013   \n",
              "\n",
              "             Price+5     RSI+5  MACD Diff+5   Price+6     RSI+6  MACD Diff+6  \\\n",
              "dt                                                                             \n",
              "2018-05-25  0.654898 -1.160723    -0.177326  0.573184 -1.756065    -0.211933   \n",
              "2018-05-26  0.581760 -1.412298    -0.171734  0.654898 -1.160723    -0.177326   \n",
              "2018-05-27  0.461436 -1.764471    -0.204561  0.581760 -1.412298    -0.171734   \n",
              "2018-05-28  0.317423 -2.099553    -0.274739  0.461436 -1.764471    -0.204561   \n",
              "2018-05-29  0.431024 -1.394878    -0.280806  0.317423 -2.099553    -0.274739   \n",
              "...              ...       ...          ...       ...       ...          ...   \n",
              "2022-04-01  1.153162  1.089630     0.591387  1.073679  0.764947     0.566154   \n",
              "2022-04-02  1.172326  1.164224     0.613213  1.153162  1.089630     0.591387   \n",
              "2022-04-03  1.152220  1.028333     0.610697  1.172326  1.164224     0.613213   \n",
              "2022-04-04  1.163530  1.078236     0.605479  1.152220  1.028333     0.610697   \n",
              "2022-04-05  1.017443  0.167095     0.513256  1.163530  1.078236     0.605479   \n",
              "\n",
              "             Price+7     RSI+7  MACD Diff+7  \n",
              "dt                                           \n",
              "2018-05-25  0.586599 -1.717013    -0.214390  \n",
              "2018-05-26  0.573184 -1.756065    -0.211933  \n",
              "2018-05-27  0.654898 -1.160723    -0.177326  \n",
              "2018-05-28  0.581760 -1.412298    -0.171734  \n",
              "2018-05-29  0.461436 -1.764471    -0.204561  \n",
              "...              ...       ...          ...  \n",
              "2022-04-01  1.046032  0.645248     0.577902  \n",
              "2022-04-02  1.073679  0.764947     0.566154  \n",
              "2022-04-03  1.153162  1.089630     0.591387  \n",
              "2022-04-04  1.172326  1.164224     0.613213  \n",
              "2022-04-05  1.152220  1.028333     0.610697  \n",
              "\n",
              "[1412 rows x 21 columns]"
            ],
            "text/html": [
              "\n",
              "  <div id=\"df-a341481b-7dce-4599-b5f4-b1cfca6bdbc9\">\n",
              "    <div class=\"colab-df-container\">\n",
              "      <div>\n",
              "<style scoped>\n",
              "    .dataframe tbody tr th:only-of-type {\n",
              "        vertical-align: middle;\n",
              "    }\n",
              "\n",
              "    .dataframe tbody tr th {\n",
              "        vertical-align: top;\n",
              "    }\n",
              "\n",
              "    .dataframe thead th {\n",
              "        text-align: right;\n",
              "    }\n",
              "</style>\n",
              "<table border=\"1\" class=\"dataframe\">\n",
              "  <thead>\n",
              "    <tr style=\"text-align: right;\">\n",
              "      <th></th>\n",
              "      <th>Price+1</th>\n",
              "      <th>RSI+1</th>\n",
              "      <th>MACD Diff+1</th>\n",
              "      <th>Price+2</th>\n",
              "      <th>RSI+2</th>\n",
              "      <th>MACD Diff+2</th>\n",
              "      <th>Price+3</th>\n",
              "      <th>RSI+3</th>\n",
              "      <th>MACD Diff+3</th>\n",
              "      <th>Price+4</th>\n",
              "      <th>...</th>\n",
              "      <th>MACD Diff+4</th>\n",
              "      <th>Price+5</th>\n",
              "      <th>RSI+5</th>\n",
              "      <th>MACD Diff+5</th>\n",
              "      <th>Price+6</th>\n",
              "      <th>RSI+6</th>\n",
              "      <th>MACD Diff+6</th>\n",
              "      <th>Price+7</th>\n",
              "      <th>RSI+7</th>\n",
              "      <th>MACD Diff+7</th>\n",
              "    </tr>\n",
              "    <tr>\n",
              "      <th>dt</th>\n",
              "      <th></th>\n",
              "      <th></th>\n",
              "      <th></th>\n",
              "      <th></th>\n",
              "      <th></th>\n",
              "      <th></th>\n",
              "      <th></th>\n",
              "      <th></th>\n",
              "      <th></th>\n",
              "      <th></th>\n",
              "      <th></th>\n",
              "      <th></th>\n",
              "      <th></th>\n",
              "      <th></th>\n",
              "      <th></th>\n",
              "      <th></th>\n",
              "      <th></th>\n",
              "      <th></th>\n",
              "      <th></th>\n",
              "      <th></th>\n",
              "      <th></th>\n",
              "    </tr>\n",
              "  </thead>\n",
              "  <tbody>\n",
              "    <tr>\n",
              "      <th>2018-05-25</th>\n",
              "      <td>0.431024</td>\n",
              "      <td>-1.394878</td>\n",
              "      <td>-0.280806</td>\n",
              "      <td>0.317423</td>\n",
              "      <td>-2.099553</td>\n",
              "      <td>-0.274739</td>\n",
              "      <td>0.461436</td>\n",
              "      <td>-1.764471</td>\n",
              "      <td>-0.204561</td>\n",
              "      <td>0.581760</td>\n",
              "      <td>...</td>\n",
              "      <td>-0.171734</td>\n",
              "      <td>0.654898</td>\n",
              "      <td>-1.160723</td>\n",
              "      <td>-0.177326</td>\n",
              "      <td>0.573184</td>\n",
              "      <td>-1.756065</td>\n",
              "      <td>-0.211933</td>\n",
              "      <td>0.586599</td>\n",
              "      <td>-1.717013</td>\n",
              "      <td>-0.214390</td>\n",
              "    </tr>\n",
              "    <tr>\n",
              "      <th>2018-05-26</th>\n",
              "      <td>0.357039</td>\n",
              "      <td>-1.586221</td>\n",
              "      <td>-0.305769</td>\n",
              "      <td>0.431024</td>\n",
              "      <td>-1.394878</td>\n",
              "      <td>-0.280806</td>\n",
              "      <td>0.317423</td>\n",
              "      <td>-2.099553</td>\n",
              "      <td>-0.274739</td>\n",
              "      <td>0.461436</td>\n",
              "      <td>...</td>\n",
              "      <td>-0.204561</td>\n",
              "      <td>0.581760</td>\n",
              "      <td>-1.412298</td>\n",
              "      <td>-0.171734</td>\n",
              "      <td>0.654898</td>\n",
              "      <td>-1.160723</td>\n",
              "      <td>-0.177326</td>\n",
              "      <td>0.573184</td>\n",
              "      <td>-1.756065</td>\n",
              "      <td>-0.211933</td>\n",
              "    </tr>\n",
              "    <tr>\n",
              "      <th>2018-05-27</th>\n",
              "      <td>0.369385</td>\n",
              "      <td>-1.511483</td>\n",
              "      <td>-0.313374</td>\n",
              "      <td>0.357039</td>\n",
              "      <td>-1.586221</td>\n",
              "      <td>-0.305769</td>\n",
              "      <td>0.431024</td>\n",
              "      <td>-1.394878</td>\n",
              "      <td>-0.280806</td>\n",
              "      <td>0.317423</td>\n",
              "      <td>...</td>\n",
              "      <td>-0.274739</td>\n",
              "      <td>0.461436</td>\n",
              "      <td>-1.764471</td>\n",
              "      <td>-0.204561</td>\n",
              "      <td>0.581760</td>\n",
              "      <td>-1.412298</td>\n",
              "      <td>-0.171734</td>\n",
              "      <td>0.654898</td>\n",
              "      <td>-1.160723</td>\n",
              "      <td>-0.177326</td>\n",
              "    </tr>\n",
              "    <tr>\n",
              "      <th>2018-05-28</th>\n",
              "      <td>0.355688</td>\n",
              "      <td>-1.549664</td>\n",
              "      <td>-0.317279</td>\n",
              "      <td>0.369385</td>\n",
              "      <td>-1.511483</td>\n",
              "      <td>-0.313374</td>\n",
              "      <td>0.357039</td>\n",
              "      <td>-1.586221</td>\n",
              "      <td>-0.305769</td>\n",
              "      <td>0.431024</td>\n",
              "      <td>...</td>\n",
              "      <td>-0.280806</td>\n",
              "      <td>0.317423</td>\n",
              "      <td>-2.099553</td>\n",
              "      <td>-0.274739</td>\n",
              "      <td>0.461436</td>\n",
              "      <td>-1.764471</td>\n",
              "      <td>-0.204561</td>\n",
              "      <td>0.581760</td>\n",
              "      <td>-1.412298</td>\n",
              "      <td>-0.171734</td>\n",
              "    </tr>\n",
              "    <tr>\n",
              "      <th>2018-05-29</th>\n",
              "      <td>0.175766</td>\n",
              "      <td>-1.987887</td>\n",
              "      <td>-0.381323</td>\n",
              "      <td>0.355688</td>\n",
              "      <td>-1.549664</td>\n",
              "      <td>-0.317279</td>\n",
              "      <td>0.369385</td>\n",
              "      <td>-1.511483</td>\n",
              "      <td>-0.313374</td>\n",
              "      <td>0.357039</td>\n",
              "      <td>...</td>\n",
              "      <td>-0.305769</td>\n",
              "      <td>0.431024</td>\n",
              "      <td>-1.394878</td>\n",
              "      <td>-0.280806</td>\n",
              "      <td>0.317423</td>\n",
              "      <td>-2.099553</td>\n",
              "      <td>-0.274739</td>\n",
              "      <td>0.461436</td>\n",
              "      <td>-1.764471</td>\n",
              "      <td>-0.204561</td>\n",
              "    </tr>\n",
              "    <tr>\n",
              "      <th>...</th>\n",
              "      <td>...</td>\n",
              "      <td>...</td>\n",
              "      <td>...</td>\n",
              "      <td>...</td>\n",
              "      <td>...</td>\n",
              "      <td>...</td>\n",
              "      <td>...</td>\n",
              "      <td>...</td>\n",
              "      <td>...</td>\n",
              "      <td>...</td>\n",
              "      <td>...</td>\n",
              "      <td>...</td>\n",
              "      <td>...</td>\n",
              "      <td>...</td>\n",
              "      <td>...</td>\n",
              "      <td>...</td>\n",
              "      <td>...</td>\n",
              "      <td>...</td>\n",
              "      <td>...</td>\n",
              "      <td>...</td>\n",
              "      <td>...</td>\n",
              "    </tr>\n",
              "    <tr>\n",
              "      <th>2022-04-01</th>\n",
              "      <td>1.017443</td>\n",
              "      <td>0.167095</td>\n",
              "      <td>0.513256</td>\n",
              "      <td>1.163530</td>\n",
              "      <td>1.078236</td>\n",
              "      <td>0.605479</td>\n",
              "      <td>1.152220</td>\n",
              "      <td>1.028333</td>\n",
              "      <td>0.610697</td>\n",
              "      <td>1.172326</td>\n",
              "      <td>...</td>\n",
              "      <td>0.613213</td>\n",
              "      <td>1.153162</td>\n",
              "      <td>1.089630</td>\n",
              "      <td>0.591387</td>\n",
              "      <td>1.073679</td>\n",
              "      <td>0.764947</td>\n",
              "      <td>0.566154</td>\n",
              "      <td>1.046032</td>\n",
              "      <td>0.645248</td>\n",
              "      <td>0.577902</td>\n",
              "    </tr>\n",
              "    <tr>\n",
              "      <th>2022-04-02</th>\n",
              "      <td>1.057970</td>\n",
              "      <td>0.372445</td>\n",
              "      <td>0.453013</td>\n",
              "      <td>1.017443</td>\n",
              "      <td>0.167095</td>\n",
              "      <td>0.513256</td>\n",
              "      <td>1.163530</td>\n",
              "      <td>1.078236</td>\n",
              "      <td>0.605479</td>\n",
              "      <td>1.152220</td>\n",
              "      <td>...</td>\n",
              "      <td>0.610697</td>\n",
              "      <td>1.172326</td>\n",
              "      <td>1.164224</td>\n",
              "      <td>0.613213</td>\n",
              "      <td>1.153162</td>\n",
              "      <td>1.089630</td>\n",
              "      <td>0.591387</td>\n",
              "      <td>1.073679</td>\n",
              "      <td>0.764947</td>\n",
              "      <td>0.566154</td>\n",
              "    </tr>\n",
              "    <tr>\n",
              "      <th>2022-04-03</th>\n",
              "      <td>1.046346</td>\n",
              "      <td>0.304684</td>\n",
              "      <td>0.390970</td>\n",
              "      <td>1.057970</td>\n",
              "      <td>0.372445</td>\n",
              "      <td>0.453013</td>\n",
              "      <td>1.017443</td>\n",
              "      <td>0.167095</td>\n",
              "      <td>0.513256</td>\n",
              "      <td>1.163530</td>\n",
              "      <td>...</td>\n",
              "      <td>0.605479</td>\n",
              "      <td>1.152220</td>\n",
              "      <td>1.028333</td>\n",
              "      <td>0.610697</td>\n",
              "      <td>1.172326</td>\n",
              "      <td>1.164224</td>\n",
              "      <td>0.613213</td>\n",
              "      <td>1.153162</td>\n",
              "      <td>1.089630</td>\n",
              "      <td>0.591387</td>\n",
              "    </tr>\n",
              "    <tr>\n",
              "      <th>2022-04-04</th>\n",
              "      <td>1.106666</td>\n",
              "      <td>0.615222</td>\n",
              "      <td>0.366955</td>\n",
              "      <td>1.046346</td>\n",
              "      <td>0.304684</td>\n",
              "      <td>0.390970</td>\n",
              "      <td>1.057970</td>\n",
              "      <td>0.372445</td>\n",
              "      <td>0.453013</td>\n",
              "      <td>1.017443</td>\n",
              "      <td>...</td>\n",
              "      <td>0.513256</td>\n",
              "      <td>1.163530</td>\n",
              "      <td>1.078236</td>\n",
              "      <td>0.605479</td>\n",
              "      <td>1.152220</td>\n",
              "      <td>1.028333</td>\n",
              "      <td>0.610697</td>\n",
              "      <td>1.172326</td>\n",
              "      <td>1.164224</td>\n",
              "      <td>0.613213</td>\n",
              "    </tr>\n",
              "    <tr>\n",
              "      <th>2022-04-05</th>\n",
              "      <td>1.052630</td>\n",
              "      <td>0.285427</td>\n",
              "      <td>0.312016</td>\n",
              "      <td>1.106666</td>\n",
              "      <td>0.615222</td>\n",
              "      <td>0.366955</td>\n",
              "      <td>1.046346</td>\n",
              "      <td>0.304684</td>\n",
              "      <td>0.390970</td>\n",
              "      <td>1.057970</td>\n",
              "      <td>...</td>\n",
              "      <td>0.453013</td>\n",
              "      <td>1.017443</td>\n",
              "      <td>0.167095</td>\n",
              "      <td>0.513256</td>\n",
              "      <td>1.163530</td>\n",
              "      <td>1.078236</td>\n",
              "      <td>0.605479</td>\n",
              "      <td>1.152220</td>\n",
              "      <td>1.028333</td>\n",
              "      <td>0.610697</td>\n",
              "    </tr>\n",
              "  </tbody>\n",
              "</table>\n",
              "<p>1412 rows × 21 columns</p>\n",
              "</div>\n",
              "      <button class=\"colab-df-convert\" onclick=\"convertToInteractive('df-a341481b-7dce-4599-b5f4-b1cfca6bdbc9')\"\n",
              "              title=\"Convert this dataframe to an interactive table.\"\n",
              "              style=\"display:none;\">\n",
              "        \n",
              "  <svg xmlns=\"http://www.w3.org/2000/svg\" height=\"24px\"viewBox=\"0 0 24 24\"\n",
              "       width=\"24px\">\n",
              "    <path d=\"M0 0h24v24H0V0z\" fill=\"none\"/>\n",
              "    <path d=\"M18.56 5.44l.94 2.06.94-2.06 2.06-.94-2.06-.94-.94-2.06-.94 2.06-2.06.94zm-11 1L8.5 8.5l.94-2.06 2.06-.94-2.06-.94L8.5 2.5l-.94 2.06-2.06.94zm10 10l.94 2.06.94-2.06 2.06-.94-2.06-.94-.94-2.06-.94 2.06-2.06.94z\"/><path d=\"M17.41 7.96l-1.37-1.37c-.4-.4-.92-.59-1.43-.59-.52 0-1.04.2-1.43.59L10.3 9.45l-7.72 7.72c-.78.78-.78 2.05 0 2.83L4 21.41c.39.39.9.59 1.41.59.51 0 1.02-.2 1.41-.59l7.78-7.78 2.81-2.81c.8-.78.8-2.07 0-2.86zM5.41 20L4 18.59l7.72-7.72 1.47 1.35L5.41 20z\"/>\n",
              "  </svg>\n",
              "      </button>\n",
              "      \n",
              "  <style>\n",
              "    .colab-df-container {\n",
              "      display:flex;\n",
              "      flex-wrap:wrap;\n",
              "      gap: 12px;\n",
              "    }\n",
              "\n",
              "    .colab-df-convert {\n",
              "      background-color: #E8F0FE;\n",
              "      border: none;\n",
              "      border-radius: 50%;\n",
              "      cursor: pointer;\n",
              "      display: none;\n",
              "      fill: #1967D2;\n",
              "      height: 32px;\n",
              "      padding: 0 0 0 0;\n",
              "      width: 32px;\n",
              "    }\n",
              "\n",
              "    .colab-df-convert:hover {\n",
              "      background-color: #E2EBFA;\n",
              "      box-shadow: 0px 1px 2px rgba(60, 64, 67, 0.3), 0px 1px 3px 1px rgba(60, 64, 67, 0.15);\n",
              "      fill: #174EA6;\n",
              "    }\n",
              "\n",
              "    [theme=dark] .colab-df-convert {\n",
              "      background-color: #3B4455;\n",
              "      fill: #D2E3FC;\n",
              "    }\n",
              "\n",
              "    [theme=dark] .colab-df-convert:hover {\n",
              "      background-color: #434B5C;\n",
              "      box-shadow: 0px 1px 3px 1px rgba(0, 0, 0, 0.15);\n",
              "      filter: drop-shadow(0px 1px 2px rgba(0, 0, 0, 0.3));\n",
              "      fill: #FFFFFF;\n",
              "    }\n",
              "  </style>\n",
              "\n",
              "      <script>\n",
              "        const buttonEl =\n",
              "          document.querySelector('#df-a341481b-7dce-4599-b5f4-b1cfca6bdbc9 button.colab-df-convert');\n",
              "        buttonEl.style.display =\n",
              "          google.colab.kernel.accessAllowed ? 'block' : 'none';\n",
              "\n",
              "        async function convertToInteractive(key) {\n",
              "          const element = document.querySelector('#df-a341481b-7dce-4599-b5f4-b1cfca6bdbc9');\n",
              "          const dataTable =\n",
              "            await google.colab.kernel.invokeFunction('convertToInteractive',\n",
              "                                                     [key], {});\n",
              "          if (!dataTable) return;\n",
              "\n",
              "          const docLinkHtml = 'Like what you see? Visit the ' +\n",
              "            '<a target=\"_blank\" href=https://colab.research.google.com/notebooks/data_table.ipynb>data table notebook</a>'\n",
              "            + ' to learn more about interactive tables.';\n",
              "          element.innerHTML = '';\n",
              "          dataTable['output_type'] = 'display_data';\n",
              "          await google.colab.output.renderOutput(dataTable, element);\n",
              "          const docLink = document.createElement('div');\n",
              "          docLink.innerHTML = docLinkHtml;\n",
              "          element.appendChild(docLink);\n",
              "        }\n",
              "      </script>\n",
              "    </div>\n",
              "  </div>\n",
              "  "
            ]
          },
          "metadata": {},
          "execution_count": 41
        }
      ]
    },
    {
      "cell_type": "code",
      "source": [
        "X_lstm = []\n",
        "for i in range(len(X.index)):\n",
        "  lstm = np.reshape(X.iloc[i].values, (7,3))\n",
        "  X_lstm.append(lstm)"
      ],
      "metadata": {
        "id": "Gc1mD_yB_-XB"
      },
      "execution_count": null,
      "outputs": []
    },
    {
      "cell_type": "code",
      "source": [
        "X_lstm_ready = np.array(X_lstm)\n",
        "X_lstm_ready, X_lstm_ready.shape"
      ],
      "metadata": {
        "colab": {
          "base_uri": "https://localhost:8080/"
        },
        "id": "qzVj5IsPAf8D",
        "outputId": "1efc9072-24da-4bdb-df8d-ec1b37f9f7b2"
      },
      "execution_count": null,
      "outputs": [
        {
          "output_type": "execute_result",
          "data": {
            "text/plain": [
              "(array([[[ 0.43102447, -1.3948785 , -0.28080556],\n",
              "         [ 0.31742272, -2.09955279, -0.27473908],\n",
              "         [ 0.46143556, -1.76447098, -0.20456099],\n",
              "         ...,\n",
              "         [ 0.65489785, -1.16072255, -0.17732638],\n",
              "         [ 0.57318375, -1.75606457, -0.21193276],\n",
              "         [ 0.58659856, -1.71701315, -0.21438973]],\n",
              " \n",
              "        [[ 0.35703882, -1.58622057, -0.30576909],\n",
              "         [ 0.43102447, -1.3948785 , -0.28080556],\n",
              "         [ 0.31742272, -2.09955279, -0.27473908],\n",
              "         ...,\n",
              "         [ 0.58176044, -1.41229767, -0.17173352],\n",
              "         [ 0.65489785, -1.16072255, -0.17732638],\n",
              "         [ 0.57318375, -1.75606457, -0.21193276]],\n",
              " \n",
              "        [[ 0.36938547, -1.51148323, -0.31337395],\n",
              "         [ 0.35703882, -1.58622057, -0.30576909],\n",
              "         [ 0.43102447, -1.3948785 , -0.28080556],\n",
              "         ...,\n",
              "         [ 0.46143556, -1.76447098, -0.20456099],\n",
              "         [ 0.58176044, -1.41229767, -0.17173352],\n",
              "         [ 0.65489785, -1.16072255, -0.17732638]],\n",
              " \n",
              "        ...,\n",
              " \n",
              "        [[ 1.04634639,  0.30468385,  0.39096993],\n",
              "         [ 1.05797046,  0.37244542,  0.45301333],\n",
              "         [ 1.01744328,  0.16709522,  0.51325596],\n",
              "         ...,\n",
              "         [ 1.15221971,  1.02833338,  0.6106966 ],\n",
              "         [ 1.17232621,  1.16422443,  0.61321317],\n",
              "         [ 1.1531622 ,  1.08962983,  0.59138691]],\n",
              " \n",
              "        [[ 1.1066659 ,  0.61522181,  0.36695462],\n",
              "         [ 1.04634639,  0.30468385,  0.39096993],\n",
              "         [ 1.05797046,  0.37244542,  0.45301333],\n",
              "         ...,\n",
              "         [ 1.16352962,  1.07823614,  0.60547851],\n",
              "         [ 1.15221971,  1.02833338,  0.6106966 ],\n",
              "         [ 1.17232621,  1.16422443,  0.61321317]],\n",
              " \n",
              "        [[ 1.05262967,  0.28542658,  0.31201605],\n",
              "         [ 1.1066659 ,  0.61522181,  0.36695462],\n",
              "         [ 1.04634639,  0.30468385,  0.39096993],\n",
              "         ...,\n",
              "         [ 1.01744328,  0.16709522,  0.51325596],\n",
              "         [ 1.16352962,  1.07823614,  0.60547851],\n",
              "         [ 1.15221971,  1.02833338,  0.6106966 ]]]), (1412, 7, 3))"
            ]
          },
          "metadata": {},
          "execution_count": 43
        }
      ]
    },
    {
      "cell_type": "code",
      "source": [
        "# Part 3.3 Split into train and test sets\n",
        "split_size = int(len(X)*.8)\n",
        "\n",
        "train_X=X_lstm_ready[:split_size]\n",
        "train_y=y[:split_size]\n",
        "\n",
        "test_X=X_lstm_ready[split_size:]\n",
        "test_y=y[split_size:]"
      ],
      "metadata": {
        "id": "qhqf1kTIAnA5"
      },
      "execution_count": null,
      "outputs": []
    },
    {
      "cell_type": "code",
      "source": [
        "train_X.shape, train_y.shape, test_X.shape, test_y.shape"
      ],
      "metadata": {
        "colab": {
          "base_uri": "https://localhost:8080/"
        },
        "id": "Y8YALHfCBLUY",
        "outputId": "fab4efe4-4169-42be-ae51-20f04c29fc48"
      },
      "execution_count": null,
      "outputs": [
        {
          "output_type": "execute_result",
          "data": {
            "text/plain": [
              "((1129, 7, 3), (1129,), (283, 7, 3), (283,))"
            ]
          },
          "metadata": {},
          "execution_count": 45
        }
      ]
    },
    {
      "cell_type": "markdown",
      "source": [
        "# Part 4: Model time (standard)"
      ],
      "metadata": {
        "id": "K63VhvQKBWm0"
      }
    },
    {
      "cell_type": "markdown",
      "source": [
        "notes. see https://machinelearningmastery.com/multivariate-time-series-forecasting-lstms-keras/ for more details"
      ],
      "metadata": {
        "id": "ts4q8O24Lm4b"
      }
    },
    {
      "cell_type": "markdown",
      "source": [
        "notes2. See https://machinelearningmastery.com/stacked-long-short-term-memory-networks/ for stacking layers"
      ],
      "metadata": {
        "id": "hEpalvxrbro8"
      }
    },
    {
      "cell_type": "markdown",
      "source": [
        "## Create LSTM Model"
      ],
      "metadata": {
        "id": "I1nn2xq3DNeg"
      }
    },
    {
      "cell_type": "code",
      "source": [
        "\"\"\"\n",
        "inputs = layers.Input(shape = train_X.shape[1:3]) #need to define the input shape\n",
        "x = layers.LSTM(128, activation = 'relu', dropout = .2, return_sequences = True)\n",
        "output = x(inputs) #i dont know how this worked. see notes. \n",
        "\n",
        "LSTM_model = tf.keras.Model(inputs = inputs, \n",
        "                         outputs = output, \n",
        "                         name = \"LSTM_model\")\n",
        "\n",
        "#compile model\n",
        "LSTM_model.compile (loss = \"mae\",\n",
        "                    optimizer = tf.keras.optimizers.Adam())\"\"\"\n",
        "\n",
        "\n",
        "\"\"\"#from link above\n",
        "model = Sequential()\n",
        "model.add(LSTM(128, input_shape=(train_X.shape[1], train_X.shape[2]))) #7,3\n",
        "model.add(Dense(1))\n",
        "model.compile(loss='mae', optimizer='adam')\"\"\"\n",
        "\n",
        "#original\n",
        "\"\"\"inputs = layers.Input(shape = train_X.shape[1:3])\n",
        "layer1 = layers.LSTM(128, activation = 'elu', dropout = .05, return_sequences = False)(inputs)\n",
        "output = layers.Dense(HORIZON)(layer1) #dont know why this worked\n",
        "\n",
        "model_lstm = tf.keras.Model(inputs = inputs, \n",
        "                         outputs = output, \n",
        "                         name = \"model_LSTM\")\n",
        "\"\"\"\n",
        "\n",
        "model_lstm = Sequential(name = \"model_lstm\")\n",
        "model_lstm.add(LSTM(512, return_sequences=True, #true is useful for stacking multiple layers\n",
        "                    input_shape=train_X.shape[1:3], \n",
        "                    activation = 'tanh', \n",
        "                    kernel_initializer = 'lecun_normal',\n",
        "                    dropout = .2))\n",
        "model_lstm.add(LSTM(256, return_sequences=True,\n",
        "                    activation = 'tanh', \n",
        "                    kernel_initializer = 'lecun_normal',\n",
        "                    dropout = .2))\n",
        "model_lstm.add(LSTM(256, return_sequences=False, \n",
        "                    activation = 'tanh', \n",
        "                    kernel_initializer = 'lecun_normal',\n",
        "                    dropout = .2))\n",
        "model_lstm.add(tf.keras.layers.Dense(HORIZON))\n",
        "\n"
      ],
      "metadata": {
        "id": "wIbgS2oCCiPl"
      },
      "execution_count": null,
      "outputs": []
    },
    {
      "cell_type": "markdown",
      "source": [
        "I followed this:\n",
        "\n",
        "https://www.analyticsvidhya.com/blog/2020/10/multivariate-multi-step-time-series-forecasting-using-stacked-lstm-sequence-to-sequence-autoencoder-in-tensorflow-2-0-keras/"
      ],
      "metadata": {
        "id": "56LPXwTjKaFt"
      }
    },
    {
      "cell_type": "code",
      "source": [
        "#compile model\n",
        "model_lstm.compile(loss = \"mae\",\n",
        "                optimizer = tf.keras.optimizers.Nadam())"
      ],
      "metadata": {
        "id": "LokHrC8Wc63O"
      },
      "execution_count": null,
      "outputs": []
    },
    {
      "cell_type": "code",
      "source": [
        "model_lstm.summary(), train_X.shape[1:3]"
      ],
      "metadata": {
        "colab": {
          "base_uri": "https://localhost:8080/"
        },
        "id": "axEG4-_NM5Cl",
        "outputId": "4dcec0b7-9f3b-496c-9d84-de80040bf89d"
      },
      "execution_count": null,
      "outputs": [
        {
          "output_type": "stream",
          "name": "stdout",
          "text": [
            "Model: \"model_lstm\"\n",
            "_________________________________________________________________\n",
            " Layer (type)                Output Shape              Param #   \n",
            "=================================================================\n",
            " lstm_9 (LSTM)               (None, 7, 512)            1056768   \n",
            "                                                                 \n",
            " lstm_10 (LSTM)              (None, 7, 256)            787456    \n",
            "                                                                 \n",
            " lstm_11 (LSTM)              (None, 256)               525312    \n",
            "                                                                 \n",
            " dense_3 (Dense)             (None, 1)                 257       \n",
            "                                                                 \n",
            "=================================================================\n",
            "Total params: 2,369,793\n",
            "Trainable params: 2,369,793\n",
            "Non-trainable params: 0\n",
            "_________________________________________________________________\n"
          ]
        },
        {
          "output_type": "execute_result",
          "data": {
            "text/plain": [
              "(None, (7, 3))"
            ]
          },
          "metadata": {},
          "execution_count": 72
        }
      ]
    },
    {
      "cell_type": "markdown",
      "source": [
        "Note. view this. Not sure if the output shape is correct?"
      ],
      "metadata": {
        "id": "bjTshNQeflGA"
      }
    },
    {
      "cell_type": "markdown",
      "source": [
        "## Fit LSTM Model"
      ],
      "metadata": {
        "id": "XaM1COA6DHxI"
      }
    },
    {
      "cell_type": "code",
      "source": [
        "%%time\n",
        "#fit model\n",
        "model_lstm.fit(train_X,\n",
        "            train_y, \n",
        "            epochs = 300,\n",
        "            verbose = 0,\n",
        "            batch_size = 32,\n",
        "            validation_data = (test_X, test_y),\n",
        "            callbacks = [tf.keras.callbacks.ReduceLROnPlateau(monitor = 'val_loss',\n",
        "                                                                    patience = 50,\n",
        "                                                                    verbose = 1),\n",
        "                         create_model_checkpoint(model_name = model_lstm.name),\n",
        "                         tf.keras.callbacks.EarlyStopping(monitor='val_loss',\n",
        "                                                          patience=100,\n",
        "                                                          verbose=0,\n",
        "                                                          restore_best_weights=True)]\n",
        "                  )"
      ],
      "metadata": {
        "colab": {
          "base_uri": "https://localhost:8080/"
        },
        "id": "FtSNkjIzF7Ev",
        "outputId": "f8b84bb6-9619-4a89-b539-fba9681f0f9f"
      },
      "execution_count": null,
      "outputs": [
        {
          "output_type": "stream",
          "name": "stderr",
          "text": [
            "WARNING:absl:Found untraced functions such as lstm_cell_18_layer_call_fn, lstm_cell_18_layer_call_and_return_conditional_losses, lstm_cell_19_layer_call_fn, lstm_cell_19_layer_call_and_return_conditional_losses, lstm_cell_20_layer_call_fn while saving (showing 5 of 6). These functions will not be directly callable after loading.\n"
          ]
        },
        {
          "output_type": "stream",
          "name": "stdout",
          "text": [
            "INFO:tensorflow:Assets written to: model_experiments/model_lstm/assets\n"
          ]
        },
        {
          "output_type": "stream",
          "name": "stderr",
          "text": [
            "INFO:tensorflow:Assets written to: model_experiments/model_lstm/assets\n",
            "WARNING:absl:<keras.layers.recurrent.LSTMCell object at 0x7f3eb4672050> has the same name 'LSTMCell' as a built-in Keras object. Consider renaming <class 'keras.layers.recurrent.LSTMCell'> to avoid naming conflicts when loading with `tf.keras.models.load_model`. If renaming is not possible, pass the object in the `custom_objects` parameter of the load function.\n",
            "WARNING:absl:<keras.layers.recurrent.LSTMCell object at 0x7f3eb477d6d0> has the same name 'LSTMCell' as a built-in Keras object. Consider renaming <class 'keras.layers.recurrent.LSTMCell'> to avoid naming conflicts when loading with `tf.keras.models.load_model`. If renaming is not possible, pass the object in the `custom_objects` parameter of the load function.\n",
            "WARNING:absl:<keras.layers.recurrent.LSTMCell object at 0x7f3eb4840690> has the same name 'LSTMCell' as a built-in Keras object. Consider renaming <class 'keras.layers.recurrent.LSTMCell'> to avoid naming conflicts when loading with `tf.keras.models.load_model`. If renaming is not possible, pass the object in the `custom_objects` parameter of the load function.\n",
            "WARNING:absl:Found untraced functions such as lstm_cell_18_layer_call_fn, lstm_cell_18_layer_call_and_return_conditional_losses, lstm_cell_19_layer_call_fn, lstm_cell_19_layer_call_and_return_conditional_losses, lstm_cell_20_layer_call_fn while saving (showing 5 of 6). These functions will not be directly callable after loading.\n"
          ]
        },
        {
          "output_type": "stream",
          "name": "stdout",
          "text": [
            "INFO:tensorflow:Assets written to: model_experiments/model_lstm/assets\n"
          ]
        },
        {
          "output_type": "stream",
          "name": "stderr",
          "text": [
            "INFO:tensorflow:Assets written to: model_experiments/model_lstm/assets\n",
            "WARNING:absl:<keras.layers.recurrent.LSTMCell object at 0x7f3eb4672050> has the same name 'LSTMCell' as a built-in Keras object. Consider renaming <class 'keras.layers.recurrent.LSTMCell'> to avoid naming conflicts when loading with `tf.keras.models.load_model`. If renaming is not possible, pass the object in the `custom_objects` parameter of the load function.\n",
            "WARNING:absl:<keras.layers.recurrent.LSTMCell object at 0x7f3eb477d6d0> has the same name 'LSTMCell' as a built-in Keras object. Consider renaming <class 'keras.layers.recurrent.LSTMCell'> to avoid naming conflicts when loading with `tf.keras.models.load_model`. If renaming is not possible, pass the object in the `custom_objects` parameter of the load function.\n",
            "WARNING:absl:<keras.layers.recurrent.LSTMCell object at 0x7f3eb4840690> has the same name 'LSTMCell' as a built-in Keras object. Consider renaming <class 'keras.layers.recurrent.LSTMCell'> to avoid naming conflicts when loading with `tf.keras.models.load_model`. If renaming is not possible, pass the object in the `custom_objects` parameter of the load function.\n",
            "WARNING:absl:Found untraced functions such as lstm_cell_18_layer_call_fn, lstm_cell_18_layer_call_and_return_conditional_losses, lstm_cell_19_layer_call_fn, lstm_cell_19_layer_call_and_return_conditional_losses, lstm_cell_20_layer_call_fn while saving (showing 5 of 6). These functions will not be directly callable after loading.\n"
          ]
        },
        {
          "output_type": "stream",
          "name": "stdout",
          "text": [
            "INFO:tensorflow:Assets written to: model_experiments/model_lstm/assets\n"
          ]
        },
        {
          "output_type": "stream",
          "name": "stderr",
          "text": [
            "INFO:tensorflow:Assets written to: model_experiments/model_lstm/assets\n",
            "WARNING:absl:<keras.layers.recurrent.LSTMCell object at 0x7f3eb4672050> has the same name 'LSTMCell' as a built-in Keras object. Consider renaming <class 'keras.layers.recurrent.LSTMCell'> to avoid naming conflicts when loading with `tf.keras.models.load_model`. If renaming is not possible, pass the object in the `custom_objects` parameter of the load function.\n",
            "WARNING:absl:<keras.layers.recurrent.LSTMCell object at 0x7f3eb477d6d0> has the same name 'LSTMCell' as a built-in Keras object. Consider renaming <class 'keras.layers.recurrent.LSTMCell'> to avoid naming conflicts when loading with `tf.keras.models.load_model`. If renaming is not possible, pass the object in the `custom_objects` parameter of the load function.\n",
            "WARNING:absl:<keras.layers.recurrent.LSTMCell object at 0x7f3eb4840690> has the same name 'LSTMCell' as a built-in Keras object. Consider renaming <class 'keras.layers.recurrent.LSTMCell'> to avoid naming conflicts when loading with `tf.keras.models.load_model`. If renaming is not possible, pass the object in the `custom_objects` parameter of the load function.\n",
            "WARNING:absl:Found untraced functions such as lstm_cell_18_layer_call_fn, lstm_cell_18_layer_call_and_return_conditional_losses, lstm_cell_19_layer_call_fn, lstm_cell_19_layer_call_and_return_conditional_losses, lstm_cell_20_layer_call_fn while saving (showing 5 of 6). These functions will not be directly callable after loading.\n"
          ]
        },
        {
          "output_type": "stream",
          "name": "stdout",
          "text": [
            "INFO:tensorflow:Assets written to: model_experiments/model_lstm/assets\n"
          ]
        },
        {
          "output_type": "stream",
          "name": "stderr",
          "text": [
            "INFO:tensorflow:Assets written to: model_experiments/model_lstm/assets\n",
            "WARNING:absl:<keras.layers.recurrent.LSTMCell object at 0x7f3eb4672050> has the same name 'LSTMCell' as a built-in Keras object. Consider renaming <class 'keras.layers.recurrent.LSTMCell'> to avoid naming conflicts when loading with `tf.keras.models.load_model`. If renaming is not possible, pass the object in the `custom_objects` parameter of the load function.\n",
            "WARNING:absl:<keras.layers.recurrent.LSTMCell object at 0x7f3eb477d6d0> has the same name 'LSTMCell' as a built-in Keras object. Consider renaming <class 'keras.layers.recurrent.LSTMCell'> to avoid naming conflicts when loading with `tf.keras.models.load_model`. If renaming is not possible, pass the object in the `custom_objects` parameter of the load function.\n",
            "WARNING:absl:<keras.layers.recurrent.LSTMCell object at 0x7f3eb4840690> has the same name 'LSTMCell' as a built-in Keras object. Consider renaming <class 'keras.layers.recurrent.LSTMCell'> to avoid naming conflicts when loading with `tf.keras.models.load_model`. If renaming is not possible, pass the object in the `custom_objects` parameter of the load function.\n",
            "WARNING:absl:Found untraced functions such as lstm_cell_18_layer_call_fn, lstm_cell_18_layer_call_and_return_conditional_losses, lstm_cell_19_layer_call_fn, lstm_cell_19_layer_call_and_return_conditional_losses, lstm_cell_20_layer_call_fn while saving (showing 5 of 6). These functions will not be directly callable after loading.\n"
          ]
        },
        {
          "output_type": "stream",
          "name": "stdout",
          "text": [
            "INFO:tensorflow:Assets written to: model_experiments/model_lstm/assets\n"
          ]
        },
        {
          "output_type": "stream",
          "name": "stderr",
          "text": [
            "INFO:tensorflow:Assets written to: model_experiments/model_lstm/assets\n",
            "WARNING:absl:<keras.layers.recurrent.LSTMCell object at 0x7f3eb4672050> has the same name 'LSTMCell' as a built-in Keras object. Consider renaming <class 'keras.layers.recurrent.LSTMCell'> to avoid naming conflicts when loading with `tf.keras.models.load_model`. If renaming is not possible, pass the object in the `custom_objects` parameter of the load function.\n",
            "WARNING:absl:<keras.layers.recurrent.LSTMCell object at 0x7f3eb477d6d0> has the same name 'LSTMCell' as a built-in Keras object. Consider renaming <class 'keras.layers.recurrent.LSTMCell'> to avoid naming conflicts when loading with `tf.keras.models.load_model`. If renaming is not possible, pass the object in the `custom_objects` parameter of the load function.\n",
            "WARNING:absl:<keras.layers.recurrent.LSTMCell object at 0x7f3eb4840690> has the same name 'LSTMCell' as a built-in Keras object. Consider renaming <class 'keras.layers.recurrent.LSTMCell'> to avoid naming conflicts when loading with `tf.keras.models.load_model`. If renaming is not possible, pass the object in the `custom_objects` parameter of the load function.\n",
            "WARNING:absl:Found untraced functions such as lstm_cell_18_layer_call_fn, lstm_cell_18_layer_call_and_return_conditional_losses, lstm_cell_19_layer_call_fn, lstm_cell_19_layer_call_and_return_conditional_losses, lstm_cell_20_layer_call_fn while saving (showing 5 of 6). These functions will not be directly callable after loading.\n"
          ]
        },
        {
          "output_type": "stream",
          "name": "stdout",
          "text": [
            "INFO:tensorflow:Assets written to: model_experiments/model_lstm/assets\n"
          ]
        },
        {
          "output_type": "stream",
          "name": "stderr",
          "text": [
            "INFO:tensorflow:Assets written to: model_experiments/model_lstm/assets\n",
            "WARNING:absl:<keras.layers.recurrent.LSTMCell object at 0x7f3eb4672050> has the same name 'LSTMCell' as a built-in Keras object. Consider renaming <class 'keras.layers.recurrent.LSTMCell'> to avoid naming conflicts when loading with `tf.keras.models.load_model`. If renaming is not possible, pass the object in the `custom_objects` parameter of the load function.\n",
            "WARNING:absl:<keras.layers.recurrent.LSTMCell object at 0x7f3eb477d6d0> has the same name 'LSTMCell' as a built-in Keras object. Consider renaming <class 'keras.layers.recurrent.LSTMCell'> to avoid naming conflicts when loading with `tf.keras.models.load_model`. If renaming is not possible, pass the object in the `custom_objects` parameter of the load function.\n",
            "WARNING:absl:<keras.layers.recurrent.LSTMCell object at 0x7f3eb4840690> has the same name 'LSTMCell' as a built-in Keras object. Consider renaming <class 'keras.layers.recurrent.LSTMCell'> to avoid naming conflicts when loading with `tf.keras.models.load_model`. If renaming is not possible, pass the object in the `custom_objects` parameter of the load function.\n",
            "WARNING:absl:Found untraced functions such as lstm_cell_18_layer_call_fn, lstm_cell_18_layer_call_and_return_conditional_losses, lstm_cell_19_layer_call_fn, lstm_cell_19_layer_call_and_return_conditional_losses, lstm_cell_20_layer_call_fn while saving (showing 5 of 6). These functions will not be directly callable after loading.\n"
          ]
        },
        {
          "output_type": "stream",
          "name": "stdout",
          "text": [
            "INFO:tensorflow:Assets written to: model_experiments/model_lstm/assets\n"
          ]
        },
        {
          "output_type": "stream",
          "name": "stderr",
          "text": [
            "INFO:tensorflow:Assets written to: model_experiments/model_lstm/assets\n",
            "WARNING:absl:<keras.layers.recurrent.LSTMCell object at 0x7f3eb4672050> has the same name 'LSTMCell' as a built-in Keras object. Consider renaming <class 'keras.layers.recurrent.LSTMCell'> to avoid naming conflicts when loading with `tf.keras.models.load_model`. If renaming is not possible, pass the object in the `custom_objects` parameter of the load function.\n",
            "WARNING:absl:<keras.layers.recurrent.LSTMCell object at 0x7f3eb477d6d0> has the same name 'LSTMCell' as a built-in Keras object. Consider renaming <class 'keras.layers.recurrent.LSTMCell'> to avoid naming conflicts when loading with `tf.keras.models.load_model`. If renaming is not possible, pass the object in the `custom_objects` parameter of the load function.\n",
            "WARNING:absl:<keras.layers.recurrent.LSTMCell object at 0x7f3eb4840690> has the same name 'LSTMCell' as a built-in Keras object. Consider renaming <class 'keras.layers.recurrent.LSTMCell'> to avoid naming conflicts when loading with `tf.keras.models.load_model`. If renaming is not possible, pass the object in the `custom_objects` parameter of the load function.\n",
            "WARNING:absl:Found untraced functions such as lstm_cell_18_layer_call_fn, lstm_cell_18_layer_call_and_return_conditional_losses, lstm_cell_19_layer_call_fn, lstm_cell_19_layer_call_and_return_conditional_losses, lstm_cell_20_layer_call_fn while saving (showing 5 of 6). These functions will not be directly callable after loading.\n"
          ]
        },
        {
          "output_type": "stream",
          "name": "stdout",
          "text": [
            "INFO:tensorflow:Assets written to: model_experiments/model_lstm/assets\n"
          ]
        },
        {
          "output_type": "stream",
          "name": "stderr",
          "text": [
            "INFO:tensorflow:Assets written to: model_experiments/model_lstm/assets\n",
            "WARNING:absl:<keras.layers.recurrent.LSTMCell object at 0x7f3eb4672050> has the same name 'LSTMCell' as a built-in Keras object. Consider renaming <class 'keras.layers.recurrent.LSTMCell'> to avoid naming conflicts when loading with `tf.keras.models.load_model`. If renaming is not possible, pass the object in the `custom_objects` parameter of the load function.\n",
            "WARNING:absl:<keras.layers.recurrent.LSTMCell object at 0x7f3eb477d6d0> has the same name 'LSTMCell' as a built-in Keras object. Consider renaming <class 'keras.layers.recurrent.LSTMCell'> to avoid naming conflicts when loading with `tf.keras.models.load_model`. If renaming is not possible, pass the object in the `custom_objects` parameter of the load function.\n",
            "WARNING:absl:<keras.layers.recurrent.LSTMCell object at 0x7f3eb4840690> has the same name 'LSTMCell' as a built-in Keras object. Consider renaming <class 'keras.layers.recurrent.LSTMCell'> to avoid naming conflicts when loading with `tf.keras.models.load_model`. If renaming is not possible, pass the object in the `custom_objects` parameter of the load function.\n",
            "WARNING:absl:Found untraced functions such as lstm_cell_18_layer_call_fn, lstm_cell_18_layer_call_and_return_conditional_losses, lstm_cell_19_layer_call_fn, lstm_cell_19_layer_call_and_return_conditional_losses, lstm_cell_20_layer_call_fn while saving (showing 5 of 6). These functions will not be directly callable after loading.\n"
          ]
        },
        {
          "output_type": "stream",
          "name": "stdout",
          "text": [
            "INFO:tensorflow:Assets written to: model_experiments/model_lstm/assets\n"
          ]
        },
        {
          "output_type": "stream",
          "name": "stderr",
          "text": [
            "INFO:tensorflow:Assets written to: model_experiments/model_lstm/assets\n",
            "WARNING:absl:<keras.layers.recurrent.LSTMCell object at 0x7f3eb4672050> has the same name 'LSTMCell' as a built-in Keras object. Consider renaming <class 'keras.layers.recurrent.LSTMCell'> to avoid naming conflicts when loading with `tf.keras.models.load_model`. If renaming is not possible, pass the object in the `custom_objects` parameter of the load function.\n",
            "WARNING:absl:<keras.layers.recurrent.LSTMCell object at 0x7f3eb477d6d0> has the same name 'LSTMCell' as a built-in Keras object. Consider renaming <class 'keras.layers.recurrent.LSTMCell'> to avoid naming conflicts when loading with `tf.keras.models.load_model`. If renaming is not possible, pass the object in the `custom_objects` parameter of the load function.\n",
            "WARNING:absl:<keras.layers.recurrent.LSTMCell object at 0x7f3eb4840690> has the same name 'LSTMCell' as a built-in Keras object. Consider renaming <class 'keras.layers.recurrent.LSTMCell'> to avoid naming conflicts when loading with `tf.keras.models.load_model`. If renaming is not possible, pass the object in the `custom_objects` parameter of the load function.\n"
          ]
        },
        {
          "output_type": "stream",
          "name": "stdout",
          "text": [
            "\n",
            "Epoch 106: ReduceLROnPlateau reducing learning rate to 0.00010000000474974513.\n",
            "\n",
            "Epoch 156: ReduceLROnPlateau reducing learning rate to 1.0000000474974514e-05.\n",
            "CPU times: user 30min 24s, sys: 1min 38s, total: 32min 2s\n",
            "Wall time: 18min 23s\n"
          ]
        },
        {
          "output_type": "execute_result",
          "data": {
            "text/plain": [
              "<keras.callbacks.History at 0x7f3ea82f2410>"
            ]
          },
          "metadata": {},
          "execution_count": 73
        }
      ]
    },
    {
      "cell_type": "code",
      "source": [
        "# load in best model\n",
        "model_lstm = tf.keras.models.load_model(\"model_experiments/model_lstm\")\n",
        "\n",
        "# evaluate\n",
        "model_lstm.evaluate(test_X, test_y)"
      ],
      "metadata": {
        "colab": {
          "base_uri": "https://localhost:8080/"
        },
        "id": "Hh0droDpGYfX",
        "outputId": "9343c95d-c74e-407c-8e71-421c1e396743"
      },
      "execution_count": null,
      "outputs": [
        {
          "output_type": "stream",
          "name": "stdout",
          "text": [
            "9/9 [==============================] - 1s 39ms/step - loss: 0.3026\n"
          ]
        },
        {
          "output_type": "execute_result",
          "data": {
            "text/plain": [
              "0.3025597035884857"
            ]
          },
          "metadata": {},
          "execution_count": 74
        }
      ]
    },
    {
      "cell_type": "code",
      "source": [
        "# make predictions\n",
        "model_lstm_pred = make_preds(model_lstm, test_X)\n",
        "\n",
        "model_lstm_res = TS_eval(y_pred = model_lstm_pred, y_true = test_y)\n",
        "model_lstm_res"
      ],
      "metadata": {
        "colab": {
          "base_uri": "https://localhost:8080/"
        },
        "id": "EXH7l81iNqt3",
        "outputId": "5233fe19-bd99-4a00-ebd9-1d8eb1c9acac"
      },
      "execution_count": null,
      "outputs": [
        {
          "output_type": "execute_result",
          "data": {
            "text/plain": [
              "{'mae': 0.3025597,\n",
              " 'mape': 23.936003,\n",
              " 'mase': 3.0866334,\n",
              " 'mse': 0.15853056,\n",
              " 'rmse': 0.39815897}"
            ]
          },
          "metadata": {},
          "execution_count": 75
        }
      ]
    },
    {
      "cell_type": "markdown",
      "source": [
        "## Part 4.1 plot results to check"
      ],
      "metadata": {
        "id": "jYTzSgobOWp9"
      }
    },
    {
      "cell_type": "code",
      "source": [
        "test_y"
      ],
      "metadata": {
        "id": "tzos-6stXK8F",
        "colab": {
          "base_uri": "https://localhost:8080/"
        },
        "outputId": "1b9b75a1-9caf-4845-b0d2-457539e0ece3"
      },
      "execution_count": null,
      "outputs": [
        {
          "output_type": "execute_result",
          "data": {
            "text/plain": [
              "dt\n",
              "2021-06-27    0.494674\n",
              "2021-06-28    0.482108\n",
              "2021-06-29    0.676575\n",
              "2021-06-30    0.676575\n",
              "2021-07-01    0.528290\n",
              "                ...   \n",
              "2022-04-01    1.057970\n",
              "2022-04-02    1.046346\n",
              "2022-04-03    1.106666\n",
              "2022-04-04    1.052630\n",
              "2022-04-05    1.052944\n",
              "Name: Price, Length: 283, dtype: float64"
            ]
          },
          "metadata": {},
          "execution_count": 76
        }
      ]
    },
    {
      "cell_type": "code",
      "source": [
        "plt.figure(figsize = (10,7))\n",
        "offset = 200\n",
        "plot_ts(timesteps = test_y.index,\n",
        "        start = offset,\n",
        "        label = \"Actual Price\",\n",
        "        format = '-',\n",
        "        values = test_y)\n",
        "plot_ts(timesteps = test_y.index,\n",
        "        start = offset,\n",
        "        label = \"Predicted Price\",\n",
        "        format = '-',\n",
        "        values = model_lstm_pred)"
      ],
      "metadata": {
        "colab": {
          "base_uri": "https://localhost:8080/"
        },
        "id": "9F7x6jAVOpkP",
        "outputId": "7a204598-8ab3-410c-f7af-68730ffd4519"
      },
      "execution_count": null,
      "outputs": [
        {
          "output_type": "display_data",
          "data": {
            "text/plain": [
              "<Figure size 720x504 with 1 Axes>"
            ],
            "image/png": "[encoded data removed]"
          },
          "metadata": {
            "needs_background": "light"
          }
        }
      ]
    },
    {
      "cell_type": "code",
      "source": [],
      "metadata": {
        "id": "5h-hr1sjPrR3"
      },
      "execution_count": null,
      "outputs": []
    }
  ]
}