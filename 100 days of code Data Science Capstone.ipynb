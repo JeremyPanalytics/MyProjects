{
 "cells": [
  {
   "cell_type": "markdown",
   "metadata": {
    "id": "BHg0HZz-intQ"
   },
   "source": [
    "# Introduction"
   ]
  },
  {
   "cell_type": "markdown",
   "metadata": {
    "id": "V2RQkgAbiqJv"
   },
   "source": [
    "The National Longitudinal Survey of Youth 1997-2011 dataset is one of the most important databases available to social scientists working with US data. \n",
    "\n",
    "It allows scientists to look at the determinants of earnings as well as educational attainment and has incredible relevance for government policy. It can also shed light on politically sensitive issues like how different educational attainment and salaries are for people of different ethnicity, sex, and other factors. When we have a better understanding how these variables affect education and earnings we can also formulate more suitable government policies. \n",
    "\n",
    "<center><img src=https://i.imgur.com/cxBpQ3I.png height=400></center>\n"
   ]
  },
  {
   "cell_type": "markdown",
   "metadata": {
    "id": "YjCPWWUSirY_"
   },
   "source": [
    "### Upgrade Plotly"
   ]
  },
  {
   "cell_type": "code",
   "execution_count": 77,
   "metadata": {
    "id": "v74l3QCGirIX"
   },
   "outputs": [],
   "source": [
    "#%pip install --upgrade plotly"
   ]
  },
  {
   "cell_type": "markdown",
   "metadata": {
    "id": "br_QkHBMjC1Q"
   },
   "source": [
    "###  Import Statements\n"
   ]
  },
  {
   "cell_type": "code",
   "execution_count": 203,
   "metadata": {
    "id": "gSKZx-kwie_u"
   },
   "outputs": [],
   "source": [
    "import pandas as pd\n",
    "import numpy as np\n",
    "\n",
    "import seaborn as sns\n",
    "import plotly.express as px\n",
    "import matplotlib.pyplot as plt\n",
    "\n",
    "\n",
    "# Machine learning stuff\n",
    "from sklearn.linear_model import LinearRegression, SGDRegressor\n",
    "from sklearn.model_selection import train_test_split\n",
    "\n",
    "# Evaluating predictions\n",
    "from sklearn.metrics import mean_squared_error\n",
    "\n"
   ]
  },
  {
   "cell_type": "markdown",
   "metadata": {
    "id": "9pgsrth_izCn"
   },
   "source": [
    "## Notebook Presentation"
   ]
  },
  {
   "cell_type": "code",
   "execution_count": 79,
   "metadata": {
    "id": "Cgwu-WbBizqY"
   },
   "outputs": [],
   "source": [
    "pd.options.display.float_format = '{:,.2f}'.format"
   ]
  },
  {
   "cell_type": "markdown",
   "metadata": {
    "id": "E5bhysOOjLRr"
   },
   "source": [
    "# Load the Data\n",
    "\n"
   ]
  },
  {
   "cell_type": "code",
   "execution_count": 80,
   "metadata": {
    "id": "6VngeTQwjM-X"
   },
   "outputs": [],
   "source": [
    "df = pd.read_csv('NLSY97_subset.csv')"
   ]
  },
  {
   "cell_type": "markdown",
   "metadata": {
    "id": "_ZjIBJ5jjrj0"
   },
   "source": [
    "### Understand the Dataset\n",
    "\n",
    "Have a look at the file entitled `NLSY97_Variable_Names_and_Descriptions.csv`. \n",
    "\n",
    "---------------------------\n",
    "\n",
    "    :Key Variables:  \n",
    "      1. S           Years of schooling (highest grade completed as of 2011)\n",
    "      2. EXP         Total out-of-school work experience (years) as of the 2011 interview.\n",
    "      3. EARNINGS    Current hourly earnings in $ reported at the 2011 interview"
   ]
  },
  {
   "cell_type": "markdown",
   "metadata": {},
   "source": [
    "# RQ1: What variables predict earnings?\n",
    "# RQ1a: What variables positively predict earnings?\n",
    "# RQ1b: What variables negatively predict earnings?"
   ]
  },
  {
   "cell_type": "markdown",
   "metadata": {
    "id": "8MkSxkjVnIfW"
   },
   "source": [
    "# Preliminary Data Exploration 🔎\n",
    "\n",
    "**Challenge**\n",
    "\n",
    "* What is the shape of `df_data`? \n",
    "* How many rows and columns does it have?\n",
    "* What are the column names?\n",
    "* Are there any NaN values or duplicates?"
   ]
  },
  {
   "cell_type": "code",
   "execution_count": 81,
   "metadata": {
    "id": "V_cQguBbjwZv"
   },
   "outputs": [
    {
     "data": {
      "text/html": [
       "<div>\n",
       "<style scoped>\n",
       "    .dataframe tbody tr th:only-of-type {\n",
       "        vertical-align: middle;\n",
       "    }\n",
       "\n",
       "    .dataframe tbody tr th {\n",
       "        vertical-align: top;\n",
       "    }\n",
       "\n",
       "    .dataframe thead th {\n",
       "        text-align: right;\n",
       "    }\n",
       "</style>\n",
       "<table border=\"1\" class=\"dataframe\">\n",
       "  <thead>\n",
       "    <tr style=\"text-align: right;\">\n",
       "      <th></th>\n",
       "      <th>ID</th>\n",
       "      <th>EARNINGS</th>\n",
       "      <th>S</th>\n",
       "      <th>EXP</th>\n",
       "      <th>FEMALE</th>\n",
       "      <th>MALE</th>\n",
       "      <th>BYEAR</th>\n",
       "      <th>AGE</th>\n",
       "      <th>AGEMBTH</th>\n",
       "      <th>HHINC97</th>\n",
       "      <th>...</th>\n",
       "      <th>URBAN</th>\n",
       "      <th>REGNE</th>\n",
       "      <th>REGNC</th>\n",
       "      <th>REGW</th>\n",
       "      <th>REGS</th>\n",
       "      <th>MSA11NO</th>\n",
       "      <th>MSA11NCC</th>\n",
       "      <th>MSA11CC</th>\n",
       "      <th>MSA11NK</th>\n",
       "      <th>MSA11NIC</th>\n",
       "    </tr>\n",
       "  </thead>\n",
       "  <tbody>\n",
       "    <tr>\n",
       "      <th>0</th>\n",
       "      <td>4275</td>\n",
       "      <td>18.50</td>\n",
       "      <td>12</td>\n",
       "      <td>9.71</td>\n",
       "      <td>0</td>\n",
       "      <td>1</td>\n",
       "      <td>1984</td>\n",
       "      <td>27</td>\n",
       "      <td>24.00</td>\n",
       "      <td>64,000.00</td>\n",
       "      <td>...</td>\n",
       "      <td>1</td>\n",
       "      <td>0</td>\n",
       "      <td>0</td>\n",
       "      <td>1</td>\n",
       "      <td>0</td>\n",
       "      <td>0</td>\n",
       "      <td>0</td>\n",
       "      <td>1</td>\n",
       "      <td>0</td>\n",
       "      <td>0</td>\n",
       "    </tr>\n",
       "    <tr>\n",
       "      <th>1</th>\n",
       "      <td>4328</td>\n",
       "      <td>19.23</td>\n",
       "      <td>17</td>\n",
       "      <td>5.71</td>\n",
       "      <td>0</td>\n",
       "      <td>1</td>\n",
       "      <td>1982</td>\n",
       "      <td>29</td>\n",
       "      <td>32.00</td>\n",
       "      <td>6,000.00</td>\n",
       "      <td>...</td>\n",
       "      <td>2</td>\n",
       "      <td>0</td>\n",
       "      <td>0</td>\n",
       "      <td>1</td>\n",
       "      <td>0</td>\n",
       "      <td>0</td>\n",
       "      <td>1</td>\n",
       "      <td>0</td>\n",
       "      <td>0</td>\n",
       "      <td>0</td>\n",
       "    </tr>\n",
       "    <tr>\n",
       "      <th>2</th>\n",
       "      <td>8763</td>\n",
       "      <td>39.05</td>\n",
       "      <td>14</td>\n",
       "      <td>9.94</td>\n",
       "      <td>0</td>\n",
       "      <td>1</td>\n",
       "      <td>1981</td>\n",
       "      <td>30</td>\n",
       "      <td>23.00</td>\n",
       "      <td>88,252.00</td>\n",
       "      <td>...</td>\n",
       "      <td>1</td>\n",
       "      <td>0</td>\n",
       "      <td>0</td>\n",
       "      <td>0</td>\n",
       "      <td>1</td>\n",
       "      <td>0</td>\n",
       "      <td>0</td>\n",
       "      <td>1</td>\n",
       "      <td>0</td>\n",
       "      <td>0</td>\n",
       "    </tr>\n",
       "    <tr>\n",
       "      <th>3</th>\n",
       "      <td>8879</td>\n",
       "      <td>16.80</td>\n",
       "      <td>18</td>\n",
       "      <td>1.54</td>\n",
       "      <td>0</td>\n",
       "      <td>1</td>\n",
       "      <td>1983</td>\n",
       "      <td>28</td>\n",
       "      <td>30.00</td>\n",
       "      <td>NaN</td>\n",
       "      <td>...</td>\n",
       "      <td>1</td>\n",
       "      <td>0</td>\n",
       "      <td>1</td>\n",
       "      <td>0</td>\n",
       "      <td>0</td>\n",
       "      <td>0</td>\n",
       "      <td>1</td>\n",
       "      <td>0</td>\n",
       "      <td>0</td>\n",
       "      <td>0</td>\n",
       "    </tr>\n",
       "    <tr>\n",
       "      <th>4</th>\n",
       "      <td>1994</td>\n",
       "      <td>36.06</td>\n",
       "      <td>15</td>\n",
       "      <td>2.94</td>\n",
       "      <td>0</td>\n",
       "      <td>1</td>\n",
       "      <td>1984</td>\n",
       "      <td>27</td>\n",
       "      <td>23.00</td>\n",
       "      <td>44,188.00</td>\n",
       "      <td>...</td>\n",
       "      <td>1</td>\n",
       "      <td>0</td>\n",
       "      <td>0</td>\n",
       "      <td>0</td>\n",
       "      <td>1</td>\n",
       "      <td>0</td>\n",
       "      <td>0</td>\n",
       "      <td>1</td>\n",
       "      <td>0</td>\n",
       "      <td>0</td>\n",
       "    </tr>\n",
       "    <tr>\n",
       "      <th>...</th>\n",
       "      <td>...</td>\n",
       "      <td>...</td>\n",
       "      <td>...</td>\n",
       "      <td>...</td>\n",
       "      <td>...</td>\n",
       "      <td>...</td>\n",
       "      <td>...</td>\n",
       "      <td>...</td>\n",
       "      <td>...</td>\n",
       "      <td>...</td>\n",
       "      <td>...</td>\n",
       "      <td>...</td>\n",
       "      <td>...</td>\n",
       "      <td>...</td>\n",
       "      <td>...</td>\n",
       "      <td>...</td>\n",
       "      <td>...</td>\n",
       "      <td>...</td>\n",
       "      <td>...</td>\n",
       "      <td>...</td>\n",
       "      <td>...</td>\n",
       "    </tr>\n",
       "    <tr>\n",
       "      <th>1995</th>\n",
       "      <td>2456</td>\n",
       "      <td>14.00</td>\n",
       "      <td>8</td>\n",
       "      <td>7.87</td>\n",
       "      <td>1</td>\n",
       "      <td>0</td>\n",
       "      <td>1982</td>\n",
       "      <td>29</td>\n",
       "      <td>19.00</td>\n",
       "      <td>6,000.00</td>\n",
       "      <td>...</td>\n",
       "      <td>1</td>\n",
       "      <td>1</td>\n",
       "      <td>0</td>\n",
       "      <td>0</td>\n",
       "      <td>0</td>\n",
       "      <td>0</td>\n",
       "      <td>1</td>\n",
       "      <td>0</td>\n",
       "      <td>0</td>\n",
       "      <td>0</td>\n",
       "    </tr>\n",
       "    <tr>\n",
       "      <th>1996</th>\n",
       "      <td>1119</td>\n",
       "      <td>14.83</td>\n",
       "      <td>18</td>\n",
       "      <td>1.92</td>\n",
       "      <td>1</td>\n",
       "      <td>0</td>\n",
       "      <td>1983</td>\n",
       "      <td>28</td>\n",
       "      <td>28.00</td>\n",
       "      <td>50,000.00</td>\n",
       "      <td>...</td>\n",
       "      <td>1</td>\n",
       "      <td>1</td>\n",
       "      <td>0</td>\n",
       "      <td>0</td>\n",
       "      <td>0</td>\n",
       "      <td>0</td>\n",
       "      <td>1</td>\n",
       "      <td>0</td>\n",
       "      <td>0</td>\n",
       "      <td>0</td>\n",
       "    </tr>\n",
       "    <tr>\n",
       "      <th>1997</th>\n",
       "      <td>3561</td>\n",
       "      <td>35.88</td>\n",
       "      <td>18</td>\n",
       "      <td>2.67</td>\n",
       "      <td>1</td>\n",
       "      <td>0</td>\n",
       "      <td>1984</td>\n",
       "      <td>27</td>\n",
       "      <td>29.00</td>\n",
       "      <td>77,610.00</td>\n",
       "      <td>...</td>\n",
       "      <td>1</td>\n",
       "      <td>0</td>\n",
       "      <td>0</td>\n",
       "      <td>1</td>\n",
       "      <td>0</td>\n",
       "      <td>0</td>\n",
       "      <td>0</td>\n",
       "      <td>1</td>\n",
       "      <td>0</td>\n",
       "      <td>0</td>\n",
       "    </tr>\n",
       "    <tr>\n",
       "      <th>1998</th>\n",
       "      <td>5980</td>\n",
       "      <td>25.48</td>\n",
       "      <td>16</td>\n",
       "      <td>4.71</td>\n",
       "      <td>1</td>\n",
       "      <td>0</td>\n",
       "      <td>1982</td>\n",
       "      <td>29</td>\n",
       "      <td>23.00</td>\n",
       "      <td>69,300.00</td>\n",
       "      <td>...</td>\n",
       "      <td>0</td>\n",
       "      <td>0</td>\n",
       "      <td>0</td>\n",
       "      <td>1</td>\n",
       "      <td>0</td>\n",
       "      <td>0</td>\n",
       "      <td>1</td>\n",
       "      <td>0</td>\n",
       "      <td>0</td>\n",
       "      <td>0</td>\n",
       "    </tr>\n",
       "    <tr>\n",
       "      <th>1999</th>\n",
       "      <td>6221</td>\n",
       "      <td>13.33</td>\n",
       "      <td>14</td>\n",
       "      <td>6.48</td>\n",
       "      <td>1</td>\n",
       "      <td>0</td>\n",
       "      <td>1984</td>\n",
       "      <td>27</td>\n",
       "      <td>30.00</td>\n",
       "      <td>40,020.00</td>\n",
       "      <td>...</td>\n",
       "      <td>1</td>\n",
       "      <td>0</td>\n",
       "      <td>0</td>\n",
       "      <td>1</td>\n",
       "      <td>0</td>\n",
       "      <td>0</td>\n",
       "      <td>1</td>\n",
       "      <td>0</td>\n",
       "      <td>0</td>\n",
       "      <td>0</td>\n",
       "    </tr>\n",
       "  </tbody>\n",
       "</table>\n",
       "<p>2000 rows × 96 columns</p>\n",
       "</div>"
      ],
      "text/plain": [
       "        ID  EARNINGS   S  EXP  FEMALE  MALE  BYEAR  AGE  AGEMBTH   HHINC97  \\\n",
       "0     4275     18.50  12 9.71       0     1   1984   27    24.00 64,000.00   \n",
       "1     4328     19.23  17 5.71       0     1   1982   29    32.00  6,000.00   \n",
       "2     8763     39.05  14 9.94       0     1   1981   30    23.00 88,252.00   \n",
       "3     8879     16.80  18 1.54       0     1   1983   28    30.00       NaN   \n",
       "4     1994     36.06  15 2.94       0     1   1984   27    23.00 44,188.00   \n",
       "...    ...       ...  ..  ...     ...   ...    ...  ...      ...       ...   \n",
       "1995  2456     14.00   8 7.87       1     0   1982   29    19.00  6,000.00   \n",
       "1996  1119     14.83  18 1.92       1     0   1983   28    28.00 50,000.00   \n",
       "1997  3561     35.88  18 2.67       1     0   1984   27    29.00 77,610.00   \n",
       "1998  5980     25.48  16 4.71       1     0   1982   29    23.00 69,300.00   \n",
       "1999  6221     13.33  14 6.48       1     0   1984   27    30.00 40,020.00   \n",
       "\n",
       "      ...  URBAN  REGNE  REGNC  REGW  REGS  MSA11NO  MSA11NCC  MSA11CC  \\\n",
       "0     ...      1      0      0     1     0        0         0        1   \n",
       "1     ...      2      0      0     1     0        0         1        0   \n",
       "2     ...      1      0      0     0     1        0         0        1   \n",
       "3     ...      1      0      1     0     0        0         1        0   \n",
       "4     ...      1      0      0     0     1        0         0        1   \n",
       "...   ...    ...    ...    ...   ...   ...      ...       ...      ...   \n",
       "1995  ...      1      1      0     0     0        0         1        0   \n",
       "1996  ...      1      1      0     0     0        0         1        0   \n",
       "1997  ...      1      0      0     1     0        0         0        1   \n",
       "1998  ...      0      0      0     1     0        0         1        0   \n",
       "1999  ...      1      0      0     1     0        0         1        0   \n",
       "\n",
       "      MSA11NK  MSA11NIC  \n",
       "0           0         0  \n",
       "1           0         0  \n",
       "2           0         0  \n",
       "3           0         0  \n",
       "4           0         0  \n",
       "...       ...       ...  \n",
       "1995        0         0  \n",
       "1996        0         0  \n",
       "1997        0         0  \n",
       "1998        0         0  \n",
       "1999        0         0  \n",
       "\n",
       "[2000 rows x 96 columns]"
      ]
     },
     "execution_count": 81,
     "metadata": {},
     "output_type": "execute_result"
    }
   ],
   "source": [
    "df"
   ]
  },
  {
   "cell_type": "markdown",
   "metadata": {
    "id": "4itxqgP6nQj3"
   },
   "source": [
    "## Data Cleaning - Check for Missing Values and Duplicates\n",
    "\n",
    "Find and remove any duplicate rows."
   ]
  },
  {
   "cell_type": "code",
   "execution_count": 82,
   "metadata": {
    "id": "J3DHEFXWnS2N"
   },
   "outputs": [
    {
     "data": {
      "text/html": [
       "<div>\n",
       "<style scoped>\n",
       "    .dataframe tbody tr th:only-of-type {\n",
       "        vertical-align: middle;\n",
       "    }\n",
       "\n",
       "    .dataframe tbody tr th {\n",
       "        vertical-align: top;\n",
       "    }\n",
       "\n",
       "    .dataframe thead th {\n",
       "        text-align: right;\n",
       "    }\n",
       "</style>\n",
       "<table border=\"1\" class=\"dataframe\">\n",
       "  <thead>\n",
       "    <tr style=\"text-align: right;\">\n",
       "      <th></th>\n",
       "      <th>ID</th>\n",
       "      <th>EARNINGS</th>\n",
       "      <th>S</th>\n",
       "      <th>EXP</th>\n",
       "      <th>FEMALE</th>\n",
       "      <th>MALE</th>\n",
       "      <th>BYEAR</th>\n",
       "      <th>AGE</th>\n",
       "      <th>AGEMBTH</th>\n",
       "      <th>HHINC97</th>\n",
       "      <th>...</th>\n",
       "      <th>URBAN</th>\n",
       "      <th>REGNE</th>\n",
       "      <th>REGNC</th>\n",
       "      <th>REGW</th>\n",
       "      <th>REGS</th>\n",
       "      <th>MSA11NO</th>\n",
       "      <th>MSA11NCC</th>\n",
       "      <th>MSA11CC</th>\n",
       "      <th>MSA11NK</th>\n",
       "      <th>MSA11NIC</th>\n",
       "    </tr>\n",
       "  </thead>\n",
       "  <tbody>\n",
       "    <tr>\n",
       "      <th>1000</th>\n",
       "      <td>4693</td>\n",
       "      <td>14.50</td>\n",
       "      <td>12</td>\n",
       "      <td>7.25</td>\n",
       "      <td>0</td>\n",
       "      <td>1</td>\n",
       "      <td>1981</td>\n",
       "      <td>30</td>\n",
       "      <td>20.00</td>\n",
       "      <td>40,700.00</td>\n",
       "      <td>...</td>\n",
       "      <td>1</td>\n",
       "      <td>0</td>\n",
       "      <td>0</td>\n",
       "      <td>0</td>\n",
       "      <td>1</td>\n",
       "      <td>0</td>\n",
       "      <td>1</td>\n",
       "      <td>0</td>\n",
       "      <td>0</td>\n",
       "      <td>0</td>\n",
       "    </tr>\n",
       "    <tr>\n",
       "      <th>1004</th>\n",
       "      <td>4827</td>\n",
       "      <td>38.48</td>\n",
       "      <td>16</td>\n",
       "      <td>8.50</td>\n",
       "      <td>0</td>\n",
       "      <td>1</td>\n",
       "      <td>1981</td>\n",
       "      <td>30</td>\n",
       "      <td>34.00</td>\n",
       "      <td>27,700.00</td>\n",
       "      <td>...</td>\n",
       "      <td>0</td>\n",
       "      <td>1</td>\n",
       "      <td>0</td>\n",
       "      <td>0</td>\n",
       "      <td>0</td>\n",
       "      <td>0</td>\n",
       "      <td>1</td>\n",
       "      <td>0</td>\n",
       "      <td>0</td>\n",
       "      <td>0</td>\n",
       "    </tr>\n",
       "    <tr>\n",
       "      <th>1006</th>\n",
       "      <td>4176</td>\n",
       "      <td>4.29</td>\n",
       "      <td>16</td>\n",
       "      <td>2.04</td>\n",
       "      <td>0</td>\n",
       "      <td>1</td>\n",
       "      <td>1980</td>\n",
       "      <td>31</td>\n",
       "      <td>23.00</td>\n",
       "      <td>2,500.00</td>\n",
       "      <td>...</td>\n",
       "      <td>1</td>\n",
       "      <td>0</td>\n",
       "      <td>0</td>\n",
       "      <td>1</td>\n",
       "      <td>0</td>\n",
       "      <td>0</td>\n",
       "      <td>1</td>\n",
       "      <td>0</td>\n",
       "      <td>0</td>\n",
       "      <td>0</td>\n",
       "    </tr>\n",
       "    <tr>\n",
       "      <th>1012</th>\n",
       "      <td>3256</td>\n",
       "      <td>10.00</td>\n",
       "      <td>12</td>\n",
       "      <td>8.02</td>\n",
       "      <td>0</td>\n",
       "      <td>1</td>\n",
       "      <td>1984</td>\n",
       "      <td>27</td>\n",
       "      <td>21.00</td>\n",
       "      <td>43,000.00</td>\n",
       "      <td>...</td>\n",
       "      <td>0</td>\n",
       "      <td>0</td>\n",
       "      <td>1</td>\n",
       "      <td>0</td>\n",
       "      <td>0</td>\n",
       "      <td>0</td>\n",
       "      <td>1</td>\n",
       "      <td>0</td>\n",
       "      <td>0</td>\n",
       "      <td>0</td>\n",
       "    </tr>\n",
       "    <tr>\n",
       "      <th>1015</th>\n",
       "      <td>4600</td>\n",
       "      <td>52.00</td>\n",
       "      <td>17</td>\n",
       "      <td>9.08</td>\n",
       "      <td>0</td>\n",
       "      <td>1</td>\n",
       "      <td>1980</td>\n",
       "      <td>31</td>\n",
       "      <td>28.00</td>\n",
       "      <td>48,900.00</td>\n",
       "      <td>...</td>\n",
       "      <td>1</td>\n",
       "      <td>0</td>\n",
       "      <td>0</td>\n",
       "      <td>0</td>\n",
       "      <td>1</td>\n",
       "      <td>0</td>\n",
       "      <td>0</td>\n",
       "      <td>1</td>\n",
       "      <td>0</td>\n",
       "      <td>0</td>\n",
       "    </tr>\n",
       "    <tr>\n",
       "      <th>...</th>\n",
       "      <td>...</td>\n",
       "      <td>...</td>\n",
       "      <td>...</td>\n",
       "      <td>...</td>\n",
       "      <td>...</td>\n",
       "      <td>...</td>\n",
       "      <td>...</td>\n",
       "      <td>...</td>\n",
       "      <td>...</td>\n",
       "      <td>...</td>\n",
       "      <td>...</td>\n",
       "      <td>...</td>\n",
       "      <td>...</td>\n",
       "      <td>...</td>\n",
       "      <td>...</td>\n",
       "      <td>...</td>\n",
       "      <td>...</td>\n",
       "      <td>...</td>\n",
       "      <td>...</td>\n",
       "      <td>...</td>\n",
       "      <td>...</td>\n",
       "    </tr>\n",
       "    <tr>\n",
       "      <th>1993</th>\n",
       "      <td>2740</td>\n",
       "      <td>14.00</td>\n",
       "      <td>12</td>\n",
       "      <td>12.44</td>\n",
       "      <td>1</td>\n",
       "      <td>0</td>\n",
       "      <td>1980</td>\n",
       "      <td>31</td>\n",
       "      <td>27.00</td>\n",
       "      <td>81,800.00</td>\n",
       "      <td>...</td>\n",
       "      <td>1</td>\n",
       "      <td>0</td>\n",
       "      <td>1</td>\n",
       "      <td>0</td>\n",
       "      <td>0</td>\n",
       "      <td>0</td>\n",
       "      <td>1</td>\n",
       "      <td>0</td>\n",
       "      <td>0</td>\n",
       "      <td>0</td>\n",
       "    </tr>\n",
       "    <tr>\n",
       "      <th>1996</th>\n",
       "      <td>1119</td>\n",
       "      <td>14.83</td>\n",
       "      <td>18</td>\n",
       "      <td>1.92</td>\n",
       "      <td>1</td>\n",
       "      <td>0</td>\n",
       "      <td>1983</td>\n",
       "      <td>28</td>\n",
       "      <td>28.00</td>\n",
       "      <td>50,000.00</td>\n",
       "      <td>...</td>\n",
       "      <td>1</td>\n",
       "      <td>1</td>\n",
       "      <td>0</td>\n",
       "      <td>0</td>\n",
       "      <td>0</td>\n",
       "      <td>0</td>\n",
       "      <td>1</td>\n",
       "      <td>0</td>\n",
       "      <td>0</td>\n",
       "      <td>0</td>\n",
       "    </tr>\n",
       "    <tr>\n",
       "      <th>1997</th>\n",
       "      <td>3561</td>\n",
       "      <td>35.88</td>\n",
       "      <td>18</td>\n",
       "      <td>2.67</td>\n",
       "      <td>1</td>\n",
       "      <td>0</td>\n",
       "      <td>1984</td>\n",
       "      <td>27</td>\n",
       "      <td>29.00</td>\n",
       "      <td>77,610.00</td>\n",
       "      <td>...</td>\n",
       "      <td>1</td>\n",
       "      <td>0</td>\n",
       "      <td>0</td>\n",
       "      <td>1</td>\n",
       "      <td>0</td>\n",
       "      <td>0</td>\n",
       "      <td>0</td>\n",
       "      <td>1</td>\n",
       "      <td>0</td>\n",
       "      <td>0</td>\n",
       "    </tr>\n",
       "    <tr>\n",
       "      <th>1998</th>\n",
       "      <td>5980</td>\n",
       "      <td>25.48</td>\n",
       "      <td>16</td>\n",
       "      <td>4.71</td>\n",
       "      <td>1</td>\n",
       "      <td>0</td>\n",
       "      <td>1982</td>\n",
       "      <td>29</td>\n",
       "      <td>23.00</td>\n",
       "      <td>69,300.00</td>\n",
       "      <td>...</td>\n",
       "      <td>0</td>\n",
       "      <td>0</td>\n",
       "      <td>0</td>\n",
       "      <td>1</td>\n",
       "      <td>0</td>\n",
       "      <td>0</td>\n",
       "      <td>1</td>\n",
       "      <td>0</td>\n",
       "      <td>0</td>\n",
       "      <td>0</td>\n",
       "    </tr>\n",
       "    <tr>\n",
       "      <th>1999</th>\n",
       "      <td>6221</td>\n",
       "      <td>13.33</td>\n",
       "      <td>14</td>\n",
       "      <td>6.48</td>\n",
       "      <td>1</td>\n",
       "      <td>0</td>\n",
       "      <td>1984</td>\n",
       "      <td>27</td>\n",
       "      <td>30.00</td>\n",
       "      <td>40,020.00</td>\n",
       "      <td>...</td>\n",
       "      <td>1</td>\n",
       "      <td>0</td>\n",
       "      <td>0</td>\n",
       "      <td>1</td>\n",
       "      <td>0</td>\n",
       "      <td>0</td>\n",
       "      <td>1</td>\n",
       "      <td>0</td>\n",
       "      <td>0</td>\n",
       "      <td>0</td>\n",
       "    </tr>\n",
       "  </tbody>\n",
       "</table>\n",
       "<p>513 rows × 96 columns</p>\n",
       "</div>"
      ],
      "text/plain": [
       "        ID  EARNINGS   S   EXP  FEMALE  MALE  BYEAR  AGE  AGEMBTH   HHINC97  \\\n",
       "1000  4693     14.50  12  7.25       0     1   1981   30    20.00 40,700.00   \n",
       "1004  4827     38.48  16  8.50       0     1   1981   30    34.00 27,700.00   \n",
       "1006  4176      4.29  16  2.04       0     1   1980   31    23.00  2,500.00   \n",
       "1012  3256     10.00  12  8.02       0     1   1984   27    21.00 43,000.00   \n",
       "1015  4600     52.00  17  9.08       0     1   1980   31    28.00 48,900.00   \n",
       "...    ...       ...  ..   ...     ...   ...    ...  ...      ...       ...   \n",
       "1993  2740     14.00  12 12.44       1     0   1980   31    27.00 81,800.00   \n",
       "1996  1119     14.83  18  1.92       1     0   1983   28    28.00 50,000.00   \n",
       "1997  3561     35.88  18  2.67       1     0   1984   27    29.00 77,610.00   \n",
       "1998  5980     25.48  16  4.71       1     0   1982   29    23.00 69,300.00   \n",
       "1999  6221     13.33  14  6.48       1     0   1984   27    30.00 40,020.00   \n",
       "\n",
       "      ...  URBAN  REGNE  REGNC  REGW  REGS  MSA11NO  MSA11NCC  MSA11CC  \\\n",
       "1000  ...      1      0      0     0     1        0         1        0   \n",
       "1004  ...      0      1      0     0     0        0         1        0   \n",
       "1006  ...      1      0      0     1     0        0         1        0   \n",
       "1012  ...      0      0      1     0     0        0         1        0   \n",
       "1015  ...      1      0      0     0     1        0         0        1   \n",
       "...   ...    ...    ...    ...   ...   ...      ...       ...      ...   \n",
       "1993  ...      1      0      1     0     0        0         1        0   \n",
       "1996  ...      1      1      0     0     0        0         1        0   \n",
       "1997  ...      1      0      0     1     0        0         0        1   \n",
       "1998  ...      0      0      0     1     0        0         1        0   \n",
       "1999  ...      1      0      0     1     0        0         1        0   \n",
       "\n",
       "      MSA11NK  MSA11NIC  \n",
       "1000        0         0  \n",
       "1004        0         0  \n",
       "1006        0         0  \n",
       "1012        0         0  \n",
       "1015        0         0  \n",
       "...       ...       ...  \n",
       "1993        0         0  \n",
       "1996        0         0  \n",
       "1997        0         0  \n",
       "1998        0         0  \n",
       "1999        0         0  \n",
       "\n",
       "[513 rows x 96 columns]"
      ]
     },
     "execution_count": 82,
     "metadata": {},
     "output_type": "execute_result"
    }
   ],
   "source": [
    "df[df.duplicated().values]"
   ]
  },
  {
   "cell_type": "code",
   "execution_count": 83,
   "metadata": {},
   "outputs": [],
   "source": [
    "# Remove duplicated rows\n",
    "df = df.drop_duplicates(ignore_index=True)"
   ]
  },
  {
   "cell_type": "markdown",
   "metadata": {
    "id": "gGmBBPxZnVKC"
   },
   "source": [
    "## Descriptive Statistics"
   ]
  },
  {
   "cell_type": "code",
   "execution_count": 84,
   "metadata": {},
   "outputs": [
    {
     "name": "stdout",
     "output_type": "stream",
     "text": [
      "Ratio of remaining IDs to number of predictors: 15.652631578947368\n"
     ]
    }
   ],
   "source": [
    "print(f\"Ratio of remaining IDs to number of predictors: {len(df)/(len(df.columns)-1)}\")"
   ]
  },
  {
   "cell_type": "markdown",
   "metadata": {
    "id": "I5VP2BMVnVrt"
   },
   "source": [
    "Considering the above, will the number of predictors still work for more advanced prediction methods?"
   ]
  },
  {
   "cell_type": "code",
   "execution_count": 85,
   "metadata": {},
   "outputs": [
    {
     "data": {
      "text/html": [
       "<div>\n",
       "<style scoped>\n",
       "    .dataframe tbody tr th:only-of-type {\n",
       "        vertical-align: middle;\n",
       "    }\n",
       "\n",
       "    .dataframe tbody tr th {\n",
       "        vertical-align: top;\n",
       "    }\n",
       "\n",
       "    .dataframe thead th {\n",
       "        text-align: right;\n",
       "    }\n",
       "</style>\n",
       "<table border=\"1\" class=\"dataframe\">\n",
       "  <thead>\n",
       "    <tr style=\"text-align: right;\">\n",
       "      <th></th>\n",
       "      <th>ID</th>\n",
       "      <th>EARNINGS</th>\n",
       "      <th>S</th>\n",
       "      <th>EXP</th>\n",
       "      <th>FEMALE</th>\n",
       "      <th>MALE</th>\n",
       "      <th>BYEAR</th>\n",
       "      <th>AGE</th>\n",
       "      <th>AGEMBTH</th>\n",
       "      <th>HHINC97</th>\n",
       "      <th>...</th>\n",
       "      <th>URBAN</th>\n",
       "      <th>REGNE</th>\n",
       "      <th>REGNC</th>\n",
       "      <th>REGW</th>\n",
       "      <th>REGS</th>\n",
       "      <th>MSA11NO</th>\n",
       "      <th>MSA11NCC</th>\n",
       "      <th>MSA11CC</th>\n",
       "      <th>MSA11NK</th>\n",
       "      <th>MSA11NIC</th>\n",
       "    </tr>\n",
       "  </thead>\n",
       "  <tbody>\n",
       "    <tr>\n",
       "      <th>mean</th>\n",
       "      <td>3,547.13</td>\n",
       "      <td>18.81</td>\n",
       "      <td>14.56</td>\n",
       "      <td>6.70</td>\n",
       "      <td>0.49</td>\n",
       "      <td>0.51</td>\n",
       "      <td>1,982.07</td>\n",
       "      <td>28.93</td>\n",
       "      <td>26.32</td>\n",
       "      <td>58,310.67</td>\n",
       "      <td>...</td>\n",
       "      <td>0.78</td>\n",
       "      <td>0.16</td>\n",
       "      <td>0.27</td>\n",
       "      <td>0.34</td>\n",
       "      <td>0.23</td>\n",
       "      <td>0.05</td>\n",
       "      <td>0.54</td>\n",
       "      <td>0.41</td>\n",
       "      <td>0.00</td>\n",
       "      <td>0.00</td>\n",
       "    </tr>\n",
       "    <tr>\n",
       "      <th>std</th>\n",
       "      <td>2,009.84</td>\n",
       "      <td>12.00</td>\n",
       "      <td>2.77</td>\n",
       "      <td>2.86</td>\n",
       "      <td>0.50</td>\n",
       "      <td>0.50</td>\n",
       "      <td>1.38</td>\n",
       "      <td>1.38</td>\n",
       "      <td>5.08</td>\n",
       "      <td>43,868.05</td>\n",
       "      <td>...</td>\n",
       "      <td>0.43</td>\n",
       "      <td>0.36</td>\n",
       "      <td>0.44</td>\n",
       "      <td>0.47</td>\n",
       "      <td>0.42</td>\n",
       "      <td>0.21</td>\n",
       "      <td>0.50</td>\n",
       "      <td>0.49</td>\n",
       "      <td>0.04</td>\n",
       "      <td>0.00</td>\n",
       "    </tr>\n",
       "    <tr>\n",
       "      <th>min</th>\n",
       "      <td>1.00</td>\n",
       "      <td>2.00</td>\n",
       "      <td>6.00</td>\n",
       "      <td>0.00</td>\n",
       "      <td>0.00</td>\n",
       "      <td>0.00</td>\n",
       "      <td>1,980.00</td>\n",
       "      <td>27.00</td>\n",
       "      <td>12.00</td>\n",
       "      <td>0.00</td>\n",
       "      <td>...</td>\n",
       "      <td>0.00</td>\n",
       "      <td>0.00</td>\n",
       "      <td>0.00</td>\n",
       "      <td>0.00</td>\n",
       "      <td>0.00</td>\n",
       "      <td>0.00</td>\n",
       "      <td>0.00</td>\n",
       "      <td>0.00</td>\n",
       "      <td>0.00</td>\n",
       "      <td>0.00</td>\n",
       "    </tr>\n",
       "    <tr>\n",
       "      <th>25%</th>\n",
       "      <td>1,888.00</td>\n",
       "      <td>11.41</td>\n",
       "      <td>12.00</td>\n",
       "      <td>4.65</td>\n",
       "      <td>0.00</td>\n",
       "      <td>0.00</td>\n",
       "      <td>1,981.00</td>\n",
       "      <td>28.00</td>\n",
       "      <td>23.00</td>\n",
       "      <td>32,000.00</td>\n",
       "      <td>...</td>\n",
       "      <td>1.00</td>\n",
       "      <td>0.00</td>\n",
       "      <td>0.00</td>\n",
       "      <td>0.00</td>\n",
       "      <td>0.00</td>\n",
       "      <td>0.00</td>\n",
       "      <td>0.00</td>\n",
       "      <td>0.00</td>\n",
       "      <td>0.00</td>\n",
       "      <td>0.00</td>\n",
       "    </tr>\n",
       "    <tr>\n",
       "      <th>50%</th>\n",
       "      <td>3,474.00</td>\n",
       "      <td>15.75</td>\n",
       "      <td>15.00</td>\n",
       "      <td>6.63</td>\n",
       "      <td>0.00</td>\n",
       "      <td>1.00</td>\n",
       "      <td>1,982.00</td>\n",
       "      <td>29.00</td>\n",
       "      <td>26.00</td>\n",
       "      <td>50,500.00</td>\n",
       "      <td>...</td>\n",
       "      <td>1.00</td>\n",
       "      <td>0.00</td>\n",
       "      <td>0.00</td>\n",
       "      <td>0.00</td>\n",
       "      <td>0.00</td>\n",
       "      <td>0.00</td>\n",
       "      <td>1.00</td>\n",
       "      <td>0.00</td>\n",
       "      <td>0.00</td>\n",
       "      <td>0.00</td>\n",
       "    </tr>\n",
       "    <tr>\n",
       "      <th>75%</th>\n",
       "      <td>5,160.50</td>\n",
       "      <td>22.60</td>\n",
       "      <td>16.00</td>\n",
       "      <td>8.71</td>\n",
       "      <td>1.00</td>\n",
       "      <td>1.00</td>\n",
       "      <td>1,983.00</td>\n",
       "      <td>30.00</td>\n",
       "      <td>30.00</td>\n",
       "      <td>72,000.00</td>\n",
       "      <td>...</td>\n",
       "      <td>1.00</td>\n",
       "      <td>0.00</td>\n",
       "      <td>1.00</td>\n",
       "      <td>1.00</td>\n",
       "      <td>0.00</td>\n",
       "      <td>0.00</td>\n",
       "      <td>1.00</td>\n",
       "      <td>1.00</td>\n",
       "      <td>0.00</td>\n",
       "      <td>0.00</td>\n",
       "    </tr>\n",
       "    <tr>\n",
       "      <th>max</th>\n",
       "      <td>8,980.00</td>\n",
       "      <td>132.89</td>\n",
       "      <td>20.00</td>\n",
       "      <td>14.73</td>\n",
       "      <td>1.00</td>\n",
       "      <td>1.00</td>\n",
       "      <td>1,984.00</td>\n",
       "      <td>31.00</td>\n",
       "      <td>45.00</td>\n",
       "      <td>246,474.00</td>\n",
       "      <td>...</td>\n",
       "      <td>2.00</td>\n",
       "      <td>1.00</td>\n",
       "      <td>1.00</td>\n",
       "      <td>1.00</td>\n",
       "      <td>1.00</td>\n",
       "      <td>1.00</td>\n",
       "      <td>1.00</td>\n",
       "      <td>1.00</td>\n",
       "      <td>1.00</td>\n",
       "      <td>0.00</td>\n",
       "    </tr>\n",
       "  </tbody>\n",
       "</table>\n",
       "<p>7 rows × 96 columns</p>\n",
       "</div>"
      ],
      "text/plain": [
       "           ID  EARNINGS     S   EXP  FEMALE  MALE    BYEAR   AGE  AGEMBTH  \\\n",
       "mean 3,547.13     18.81 14.56  6.70    0.49  0.51 1,982.07 28.93    26.32   \n",
       "std  2,009.84     12.00  2.77  2.86    0.50  0.50     1.38  1.38     5.08   \n",
       "min      1.00      2.00  6.00  0.00    0.00  0.00 1,980.00 27.00    12.00   \n",
       "25%  1,888.00     11.41 12.00  4.65    0.00  0.00 1,981.00 28.00    23.00   \n",
       "50%  3,474.00     15.75 15.00  6.63    0.00  1.00 1,982.00 29.00    26.00   \n",
       "75%  5,160.50     22.60 16.00  8.71    1.00  1.00 1,983.00 30.00    30.00   \n",
       "max  8,980.00    132.89 20.00 14.73    1.00  1.00 1,984.00 31.00    45.00   \n",
       "\n",
       "        HHINC97  ...  URBAN  REGNE  REGNC  REGW  REGS  MSA11NO  MSA11NCC  \\\n",
       "mean  58,310.67  ...   0.78   0.16   0.27  0.34  0.23     0.05      0.54   \n",
       "std   43,868.05  ...   0.43   0.36   0.44  0.47  0.42     0.21      0.50   \n",
       "min        0.00  ...   0.00   0.00   0.00  0.00  0.00     0.00      0.00   \n",
       "25%   32,000.00  ...   1.00   0.00   0.00  0.00  0.00     0.00      0.00   \n",
       "50%   50,500.00  ...   1.00   0.00   0.00  0.00  0.00     0.00      1.00   \n",
       "75%   72,000.00  ...   1.00   0.00   1.00  1.00  0.00     0.00      1.00   \n",
       "max  246,474.00  ...   2.00   1.00   1.00  1.00  1.00     1.00      1.00   \n",
       "\n",
       "      MSA11CC  MSA11NK  MSA11NIC  \n",
       "mean     0.41     0.00      0.00  \n",
       "std      0.49     0.04      0.00  \n",
       "min      0.00     0.00      0.00  \n",
       "25%      0.00     0.00      0.00  \n",
       "50%      0.00     0.00      0.00  \n",
       "75%      1.00     0.00      0.00  \n",
       "max      1.00     1.00      0.00  \n",
       "\n",
       "[7 rows x 96 columns]"
      ]
     },
     "execution_count": 85,
     "metadata": {},
     "output_type": "execute_result"
    }
   ],
   "source": [
    "df.describe()[1:]"
   ]
  },
  {
   "cell_type": "code",
   "execution_count": 86,
   "metadata": {},
   "outputs": [
    {
     "name": "stdout",
     "output_type": "stream",
     "text": [
      "<class 'pandas.core.frame.DataFrame'>\n",
      "RangeIndex: 1487 entries, 0 to 1486\n",
      "Data columns (total 96 columns):\n",
      " #   Column    Non-Null Count  Dtype  \n",
      "---  ------    --------------  -----  \n",
      " 0   ID        1487 non-null   int64  \n",
      " 1   EARNINGS  1487 non-null   float64\n",
      " 2   S         1487 non-null   int64  \n",
      " 3   EXP       1487 non-null   float64\n",
      " 4   FEMALE    1487 non-null   int64  \n",
      " 5   MALE      1487 non-null   int64  \n",
      " 6   BYEAR     1487 non-null   int64  \n",
      " 7   AGE       1487 non-null   int64  \n",
      " 8   AGEMBTH   1453 non-null   float64\n",
      " 9   HHINC97   1205 non-null   float64\n",
      " 10  POVRAT97  1203 non-null   float64\n",
      " 11  HHBMBF    1487 non-null   int64  \n",
      " 12  HHBMOF    1487 non-null   int64  \n",
      " 13  HHOMBF    1487 non-null   int64  \n",
      " 14  HHBMONLY  1487 non-null   int64  \n",
      " 15  HHBFONLY  1487 non-null   int64  \n",
      " 16  HHOTHER   1487 non-null   int64  \n",
      " 17  MSA97NO   1487 non-null   int64  \n",
      " 18  MSA97NCC  1487 non-null   int64  \n",
      " 19  MSA97CC   1487 non-null   int64  \n",
      " 20  MSA97NK   1487 non-null   int64  \n",
      " 21  ETHBLACK  1487 non-null   int64  \n",
      " 22  ETHHISP   1487 non-null   int64  \n",
      " 23  ETHWHITE  1487 non-null   int64  \n",
      " 24  EDUCPROF  1487 non-null   int64  \n",
      " 25  EDUCPHD   1487 non-null   int64  \n",
      " 26  EDUCMAST  1487 non-null   int64  \n",
      " 27  EDUCBA    1487 non-null   int64  \n",
      " 28  EDUCAA    1487 non-null   int64  \n",
      " 29  EDUCHSD   1487 non-null   int64  \n",
      " 30  EDUCGED   1487 non-null   int64  \n",
      " 31  EDUCDO    1487 non-null   int64  \n",
      " 32  PRMONM    851 non-null    float64\n",
      " 33  PRMONF    698 non-null    float64\n",
      " 34  PRMSTYUN  1100 non-null   float64\n",
      " 35  PRMSTYPE  1100 non-null   float64\n",
      " 36  PRMSTYAN  1100 non-null   float64\n",
      " 37  PRMSTYAE  1100 non-null   float64\n",
      " 38  PRFSTYUN  904 non-null    float64\n",
      " 39  PRFSTYPE  904 non-null    float64\n",
      " 40  PRFSTYAN  904 non-null    float64\n",
      " 41  PRFSTYAE  904 non-null    float64\n",
      " 42  SINGLE    1487 non-null   int64  \n",
      " 43  MARRIED   1487 non-null   int64  \n",
      " 44  COHABIT   1487 non-null   int64  \n",
      " 45  OTHSING   1487 non-null   int64  \n",
      " 46  FAITHN    1487 non-null   int64  \n",
      " 47  FAITHP    1487 non-null   int64  \n",
      " 48  FAITHC    1487 non-null   int64  \n",
      " 49  FAITHJ    1487 non-null   int64  \n",
      " 50  FAITHO    1487 non-null   int64  \n",
      " 51  FAITHM    1487 non-null   int64  \n",
      " 52  ASVABAR   1487 non-null   float64\n",
      " 53  ASVABWK   1487 non-null   float64\n",
      " 54  ASVABPC   1487 non-null   float64\n",
      " 55  ASVABMK   1487 non-null   float64\n",
      " 56  ASVABNO   1487 non-null   float64\n",
      " 57  ASVABCS   1487 non-null   float64\n",
      " 58  ASVABC    1487 non-null   float64\n",
      " 59  ASVABC4   1487 non-null   float64\n",
      " 60  VERBAL    1487 non-null   float64\n",
      " 61  ASVABMV   1487 non-null   int64  \n",
      " 62  HEIGHT    1487 non-null   int64  \n",
      " 63  WEIGHT04  1487 non-null   int64  \n",
      " 64  WEIGHT11  1487 non-null   int64  \n",
      " 65  SF        1487 non-null   int64  \n",
      " 66  SM        1487 non-null   int64  \n",
      " 67  SFR       1197 non-null   float64\n",
      " 68  SMR       1430 non-null   float64\n",
      " 69  SIBLINGS  1487 non-null   int64  \n",
      " 70  REG97NE   1487 non-null   int64  \n",
      " 71  REG97NC   1487 non-null   int64  \n",
      " 72  REG97S    1487 non-null   int64  \n",
      " 73  REG97W    1487 non-null   int64  \n",
      " 74  RS97RURL  1487 non-null   int64  \n",
      " 75  RS97URBN  1487 non-null   int64  \n",
      " 76  RS97UNKN  1487 non-null   int64  \n",
      " 77  JOBS      1449 non-null   float64\n",
      " 78  HOURS     1487 non-null   int64  \n",
      " 79  TENURE    1487 non-null   float64\n",
      " 80  CATGOV    1487 non-null   int64  \n",
      " 81  CATPRI    1487 non-null   int64  \n",
      " 82  CATNPO    1487 non-null   int64  \n",
      " 83  CATMIS    1487 non-null   int64  \n",
      " 84  CATSE     1487 non-null   int64  \n",
      " 85  COLLBARG  1487 non-null   int64  \n",
      " 86  URBAN     1487 non-null   int64  \n",
      " 87  REGNE     1487 non-null   int64  \n",
      " 88  REGNC     1487 non-null   int64  \n",
      " 89  REGW      1487 non-null   int64  \n",
      " 90  REGS      1487 non-null   int64  \n",
      " 91  MSA11NO   1487 non-null   int64  \n",
      " 92  MSA11NCC  1487 non-null   int64  \n",
      " 93  MSA11CC   1487 non-null   int64  \n",
      " 94  MSA11NK   1487 non-null   int64  \n",
      " 95  MSA11NIC  1487 non-null   int64  \n",
      "dtypes: float64(28), int64(68)\n",
      "memory usage: 1.1 MB\n"
     ]
    }
   ],
   "source": [
    "df.info()"
   ]
  },
  {
   "cell_type": "code",
   "execution_count": 87,
   "metadata": {
    "scrolled": true
   },
   "outputs": [
    {
     "data": {
      "text/plain": [
       "Index(['ID', 'EARNINGS', 'S', 'EXP', 'FEMALE', 'MALE', 'BYEAR', 'AGE',\n",
       "       'AGEMBTH', 'HHINC97', 'POVRAT97', 'HHBMBF', 'HHBMOF', 'HHOMBF',\n",
       "       'HHBMONLY', 'HHBFONLY', 'HHOTHER', 'MSA97NO', 'MSA97NCC', 'MSA97CC',\n",
       "       'MSA97NK', 'ETHBLACK', 'ETHHISP', 'ETHWHITE', 'EDUCPROF', 'EDUCPHD',\n",
       "       'EDUCMAST', 'EDUCBA', 'EDUCAA', 'EDUCHSD', 'EDUCGED', 'EDUCDO',\n",
       "       'PRMONM', 'PRMONF', 'PRMSTYUN', 'PRMSTYPE', 'PRMSTYAN', 'PRMSTYAE',\n",
       "       'PRFSTYUN', 'PRFSTYPE', 'PRFSTYAN', 'PRFSTYAE', 'SINGLE', 'MARRIED',\n",
       "       'COHABIT', 'OTHSING', 'FAITHN', 'FAITHP', 'FAITHC', 'FAITHJ', 'FAITHO',\n",
       "       'FAITHM', 'ASVABAR', 'ASVABWK', 'ASVABPC', 'ASVABMK', 'ASVABNO',\n",
       "       'ASVABCS', 'ASVABC', 'ASVABC4', 'VERBAL', 'ASVABMV', 'HEIGHT',\n",
       "       'WEIGHT04', 'WEIGHT11', 'SF', 'SM', 'SFR', 'SMR', 'SIBLINGS', 'REG97NE',\n",
       "       'REG97NC', 'REG97S', 'REG97W', 'RS97RURL', 'RS97URBN', 'RS97UNKN',\n",
       "       'JOBS', 'HOURS', 'TENURE', 'CATGOV', 'CATPRI', 'CATNPO', 'CATMIS',\n",
       "       'CATSE', 'COLLBARG', 'URBAN', 'REGNE', 'REGNC', 'REGW', 'REGS',\n",
       "       'MSA11NO', 'MSA11NCC', 'MSA11CC', 'MSA11NK', 'MSA11NIC'],\n",
       "      dtype='object')"
      ]
     },
     "execution_count": 87,
     "metadata": {},
     "output_type": "execute_result"
    }
   ],
   "source": [
    "df.columns"
   ]
  },
  {
   "cell_type": "markdown",
   "metadata": {},
   "source": [
    "## Considering there were 97 features, I had to narrow down what 1997(birth) - 2004 (elementary) predictors would likely predict 2011 earnings. "
   ]
  },
  {
   "cell_type": "code",
   "execution_count": 88,
   "metadata": {
    "id": "hFZJjbsKncPM"
   },
   "outputs": [],
   "source": [
    "numerical_feat =[\n",
    "    \"ID\", # key for matching\n",
    "    'EARNINGS', # outcome\n",
    "    'S', # years of schooling\n",
    "    'EXP', # out of school work experience\n",
    "    'BYEAR', # Year of birth\n",
    "    'AGE', # Age at 2011 (will likely correlate with BYEAR)\n",
    "    'HHINC97', # Gross household income\n",
    "    'POVRAT97', # Ratio of Poverty level\n",
    "    \n",
    "    # Parental Monitoring (scale of 0 low, to 16 high)\n",
    "    'PRMONM', 'PRMONF',\n",
    "    \n",
    "    # ASVAB battery scores\n",
    "    'ASVABAR', 'ASVABWK', 'ASVABPC', 'ASVABMK', 'ASVABNO',\n",
    "    'ASVABCS', 'ASVABC', 'ASVABC4', 'VERBAL', 'ASVABMV',\n",
    "    \n",
    "    # height and weight at 2004\n",
    "    'HEIGHT', 'WEIGHT04',\n",
    "    \n",
    "    # Family background\n",
    "    'SF', 'SM', 'SFR', 'SMR', 'SIBLINGS',\n",
    "]\n",
    "\n",
    "categorical_feat = [\n",
    "    \"ID\", # key for matching\n",
    "    'FEMALE', \n",
    "    'MALE',\n",
    "    # Household structure 1997\n",
    "    'HHBMBF', 'HHBMOF', 'HHOMBF',\n",
    "    'HHBMONLY', 'HHBFONLY', 'HHOTHER',\n",
    "    \n",
    "    # Household location 1997\n",
    "    'MSA97NO', 'MSA97NCC', 'MSA97CC',\n",
    "    'MSA97NK', 'REG97NE', 'REG97NC',\n",
    "    'REG97S', 'REG97W', 'RS97RURL', \n",
    "    'RS97URBN', 'RS97UNKN',\n",
    "    \n",
    "    # Ethnicity\n",
    "    'ETHBLACK', 'ETHHISP', 'ETHWHITE',\n",
    "\n",
    "    # Highest educational qualification\n",
    "    'EDUCPROF', 'EDUCPHD',\n",
    "    'EDUCMAST', 'EDUCBA', \n",
    "    'EDUCAA', 'EDUCHSD', \n",
    "    'EDUCGED', 'EDUCDO',\n",
    "    \n",
    "    # Faith:\n",
    "    'FAITHN', 'FAITHP', 'FAITHC', 'FAITHJ', 'FAITHO','FAITHM',\n",
    "    \n",
    "     # Parenting style (0 or 1)\n",
    "    'PRMSTYUN', 'PRMSTYPE', 'PRMSTYAN', 'PRMSTYAE',\n",
    "    'PRFSTYUN', 'PRFSTYPE', 'PRFSTYAN', 'PRFSTYAE',\n",
    "    \n",
    "\n",
    "]\n",
    "\n",
    "not_included =[\n",
    "    # marital status at 2011\n",
    "    'SINGLE', 'MARRIED',\n",
    "    'COHABIT', 'OTHSING',\n",
    "    \n",
    "    # weight at 2011\n",
    "    'WEIGHT11'\n",
    "    \n",
    "    # work related vars at 2011\n",
    "    'JOBS', 'HOURS', 'TENURE', 'COLLBARG',\n",
    "    \n",
    "    # Category of employment at 2011\n",
    "    'CATGOV', 'CATPRI', 'CATNPO', 'CATMIS','CATSE',\n",
    "    \n",
    "    # Living in 2011\n",
    "    'URBAN', 'REGNE', 'REGNC', 'REGW', 'REGS',\n",
    "    'MSA11NO', 'MSA11NCC', 'MSA11CC', 'MSA11NK', 'MSA11NIC'\n",
    "]"
   ]
  },
  {
   "cell_type": "markdown",
   "metadata": {
    "id": "ZO-86NXbnWSH"
   },
   "source": [
    "## Visualise the Features"
   ]
  },
  {
   "cell_type": "code",
   "execution_count": 89,
   "metadata": {},
   "outputs": [
    {
     "data": {
      "text/html": [
       "<div>\n",
       "<style scoped>\n",
       "    .dataframe tbody tr th:only-of-type {\n",
       "        vertical-align: middle;\n",
       "    }\n",
       "\n",
       "    .dataframe tbody tr th {\n",
       "        vertical-align: top;\n",
       "    }\n",
       "\n",
       "    .dataframe thead th {\n",
       "        text-align: right;\n",
       "    }\n",
       "</style>\n",
       "<table border=\"1\" class=\"dataframe\">\n",
       "  <thead>\n",
       "    <tr style=\"text-align: right;\">\n",
       "      <th></th>\n",
       "      <th>ID</th>\n",
       "      <th>EARNINGS</th>\n",
       "      <th>S</th>\n",
       "      <th>EXP</th>\n",
       "      <th>BYEAR</th>\n",
       "      <th>AGE</th>\n",
       "      <th>HHINC97</th>\n",
       "      <th>POVRAT97</th>\n",
       "      <th>PRMONM</th>\n",
       "      <th>PRMONF</th>\n",
       "      <th>...</th>\n",
       "      <th>ASVABC4</th>\n",
       "      <th>VERBAL</th>\n",
       "      <th>ASVABMV</th>\n",
       "      <th>HEIGHT</th>\n",
       "      <th>WEIGHT04</th>\n",
       "      <th>SF</th>\n",
       "      <th>SM</th>\n",
       "      <th>SFR</th>\n",
       "      <th>SMR</th>\n",
       "      <th>SIBLINGS</th>\n",
       "    </tr>\n",
       "  </thead>\n",
       "  <tbody>\n",
       "    <tr>\n",
       "      <th>0</th>\n",
       "      <td>4275</td>\n",
       "      <td>18.50</td>\n",
       "      <td>12</td>\n",
       "      <td>9.71</td>\n",
       "      <td>1984</td>\n",
       "      <td>27</td>\n",
       "      <td>64,000.00</td>\n",
       "      <td>402.00</td>\n",
       "      <td>14.00</td>\n",
       "      <td>14.00</td>\n",
       "      <td>...</td>\n",
       "      <td>-0.32</td>\n",
       "      <td>-0.53</td>\n",
       "      <td>29818</td>\n",
       "      <td>70</td>\n",
       "      <td>155</td>\n",
       "      <td>12</td>\n",
       "      <td>12</td>\n",
       "      <td>12.00</td>\n",
       "      <td>12.00</td>\n",
       "      <td>1</td>\n",
       "    </tr>\n",
       "    <tr>\n",
       "      <th>1</th>\n",
       "      <td>4328</td>\n",
       "      <td>19.23</td>\n",
       "      <td>17</td>\n",
       "      <td>5.71</td>\n",
       "      <td>1982</td>\n",
       "      <td>29</td>\n",
       "      <td>6,000.00</td>\n",
       "      <td>38.00</td>\n",
       "      <td>12.00</td>\n",
       "      <td>12.00</td>\n",
       "      <td>...</td>\n",
       "      <td>-0.14</td>\n",
       "      <td>-0.21</td>\n",
       "      <td>46246</td>\n",
       "      <td>74</td>\n",
       "      <td>200</td>\n",
       "      <td>16</td>\n",
       "      <td>12</td>\n",
       "      <td>16.00</td>\n",
       "      <td>12.00</td>\n",
       "      <td>3</td>\n",
       "    </tr>\n",
       "    <tr>\n",
       "      <th>2</th>\n",
       "      <td>8763</td>\n",
       "      <td>39.05</td>\n",
       "      <td>14</td>\n",
       "      <td>9.94</td>\n",
       "      <td>1981</td>\n",
       "      <td>30</td>\n",
       "      <td>88,252.00</td>\n",
       "      <td>555.00</td>\n",
       "      <td>NaN</td>\n",
       "      <td>NaN</td>\n",
       "      <td>...</td>\n",
       "      <td>0.48</td>\n",
       "      <td>0.54</td>\n",
       "      <td>66480</td>\n",
       "      <td>72</td>\n",
       "      <td>168</td>\n",
       "      <td>16</td>\n",
       "      <td>6</td>\n",
       "      <td>NaN</td>\n",
       "      <td>6.00</td>\n",
       "      <td>1</td>\n",
       "    </tr>\n",
       "    <tr>\n",
       "      <th>3</th>\n",
       "      <td>8879</td>\n",
       "      <td>16.80</td>\n",
       "      <td>18</td>\n",
       "      <td>1.54</td>\n",
       "      <td>1983</td>\n",
       "      <td>28</td>\n",
       "      <td>NaN</td>\n",
       "      <td>NaN</td>\n",
       "      <td>6.00</td>\n",
       "      <td>4.00</td>\n",
       "      <td>...</td>\n",
       "      <td>0.16</td>\n",
       "      <td>-0.05</td>\n",
       "      <td>51240</td>\n",
       "      <td>73</td>\n",
       "      <td>153</td>\n",
       "      <td>14</td>\n",
       "      <td>14</td>\n",
       "      <td>14.00</td>\n",
       "      <td>14.00</td>\n",
       "      <td>2</td>\n",
       "    </tr>\n",
       "    <tr>\n",
       "      <th>4</th>\n",
       "      <td>1994</td>\n",
       "      <td>36.06</td>\n",
       "      <td>15</td>\n",
       "      <td>2.94</td>\n",
       "      <td>1984</td>\n",
       "      <td>27</td>\n",
       "      <td>44,188.00</td>\n",
       "      <td>278.00</td>\n",
       "      <td>11.00</td>\n",
       "      <td>8.00</td>\n",
       "      <td>...</td>\n",
       "      <td>1.07</td>\n",
       "      <td>0.59</td>\n",
       "      <td>89773</td>\n",
       "      <td>71</td>\n",
       "      <td>145</td>\n",
       "      <td>14</td>\n",
       "      <td>16</td>\n",
       "      <td>14.00</td>\n",
       "      <td>16.00</td>\n",
       "      <td>1</td>\n",
       "    </tr>\n",
       "    <tr>\n",
       "      <th>...</th>\n",
       "      <td>...</td>\n",
       "      <td>...</td>\n",
       "      <td>...</td>\n",
       "      <td>...</td>\n",
       "      <td>...</td>\n",
       "      <td>...</td>\n",
       "      <td>...</td>\n",
       "      <td>...</td>\n",
       "      <td>...</td>\n",
       "      <td>...</td>\n",
       "      <td>...</td>\n",
       "      <td>...</td>\n",
       "      <td>...</td>\n",
       "      <td>...</td>\n",
       "      <td>...</td>\n",
       "      <td>...</td>\n",
       "      <td>...</td>\n",
       "      <td>...</td>\n",
       "      <td>...</td>\n",
       "      <td>...</td>\n",
       "      <td>...</td>\n",
       "    </tr>\n",
       "    <tr>\n",
       "      <th>1482</th>\n",
       "      <td>2400</td>\n",
       "      <td>9.00</td>\n",
       "      <td>12</td>\n",
       "      <td>10.83</td>\n",
       "      <td>1982</td>\n",
       "      <td>29</td>\n",
       "      <td>73,100.00</td>\n",
       "      <td>390.00</td>\n",
       "      <td>11.00</td>\n",
       "      <td>4.00</td>\n",
       "      <td>...</td>\n",
       "      <td>-0.81</td>\n",
       "      <td>-1.09</td>\n",
       "      <td>22110</td>\n",
       "      <td>69</td>\n",
       "      <td>190</td>\n",
       "      <td>16</td>\n",
       "      <td>12</td>\n",
       "      <td>16.00</td>\n",
       "      <td>12.00</td>\n",
       "      <td>5</td>\n",
       "    </tr>\n",
       "    <tr>\n",
       "      <th>1483</th>\n",
       "      <td>3018</td>\n",
       "      <td>8.00</td>\n",
       "      <td>12</td>\n",
       "      <td>9.37</td>\n",
       "      <td>1982</td>\n",
       "      <td>29</td>\n",
       "      <td>66,300.00</td>\n",
       "      <td>354.00</td>\n",
       "      <td>16.00</td>\n",
       "      <td>10.00</td>\n",
       "      <td>...</td>\n",
       "      <td>-1.78</td>\n",
       "      <td>-1.35</td>\n",
       "      <td>7706</td>\n",
       "      <td>67</td>\n",
       "      <td>125</td>\n",
       "      <td>13</td>\n",
       "      <td>14</td>\n",
       "      <td>13.00</td>\n",
       "      <td>14.00</td>\n",
       "      <td>2</td>\n",
       "    </tr>\n",
       "    <tr>\n",
       "      <th>1484</th>\n",
       "      <td>4550</td>\n",
       "      <td>8.57</td>\n",
       "      <td>17</td>\n",
       "      <td>6.29</td>\n",
       "      <td>1984</td>\n",
       "      <td>27</td>\n",
       "      <td>76,300.00</td>\n",
       "      <td>364.00</td>\n",
       "      <td>11.00</td>\n",
       "      <td>NaN</td>\n",
       "      <td>...</td>\n",
       "      <td>0.73</td>\n",
       "      <td>0.83</td>\n",
       "      <td>75186</td>\n",
       "      <td>62</td>\n",
       "      <td>173</td>\n",
       "      <td>14</td>\n",
       "      <td>18</td>\n",
       "      <td>16.00</td>\n",
       "      <td>18.00</td>\n",
       "      <td>4</td>\n",
       "    </tr>\n",
       "    <tr>\n",
       "      <th>1485</th>\n",
       "      <td>3779</td>\n",
       "      <td>9.33</td>\n",
       "      <td>12</td>\n",
       "      <td>9.12</td>\n",
       "      <td>1984</td>\n",
       "      <td>27</td>\n",
       "      <td>NaN</td>\n",
       "      <td>NaN</td>\n",
       "      <td>12.00</td>\n",
       "      <td>4.00</td>\n",
       "      <td>...</td>\n",
       "      <td>-0.84</td>\n",
       "      <td>-0.32</td>\n",
       "      <td>25700</td>\n",
       "      <td>64</td>\n",
       "      <td>158</td>\n",
       "      <td>12</td>\n",
       "      <td>8</td>\n",
       "      <td>NaN</td>\n",
       "      <td>8.00</td>\n",
       "      <td>1</td>\n",
       "    </tr>\n",
       "    <tr>\n",
       "      <th>1486</th>\n",
       "      <td>2456</td>\n",
       "      <td>14.00</td>\n",
       "      <td>8</td>\n",
       "      <td>7.87</td>\n",
       "      <td>1982</td>\n",
       "      <td>29</td>\n",
       "      <td>6,000.00</td>\n",
       "      <td>38.00</td>\n",
       "      <td>0.00</td>\n",
       "      <td>NaN</td>\n",
       "      <td>...</td>\n",
       "      <td>0.03</td>\n",
       "      <td>0.25</td>\n",
       "      <td>53969</td>\n",
       "      <td>62</td>\n",
       "      <td>140</td>\n",
       "      <td>12</td>\n",
       "      <td>12</td>\n",
       "      <td>NaN</td>\n",
       "      <td>12.00</td>\n",
       "      <td>4</td>\n",
       "    </tr>\n",
       "  </tbody>\n",
       "</table>\n",
       "<p>1487 rows × 27 columns</p>\n",
       "</div>"
      ],
      "text/plain": [
       "        ID  EARNINGS   S   EXP  BYEAR  AGE   HHINC97  POVRAT97  PRMONM  \\\n",
       "0     4275     18.50  12  9.71   1984   27 64,000.00    402.00   14.00   \n",
       "1     4328     19.23  17  5.71   1982   29  6,000.00     38.00   12.00   \n",
       "2     8763     39.05  14  9.94   1981   30 88,252.00    555.00     NaN   \n",
       "3     8879     16.80  18  1.54   1983   28       NaN       NaN    6.00   \n",
       "4     1994     36.06  15  2.94   1984   27 44,188.00    278.00   11.00   \n",
       "...    ...       ...  ..   ...    ...  ...       ...       ...     ...   \n",
       "1482  2400      9.00  12 10.83   1982   29 73,100.00    390.00   11.00   \n",
       "1483  3018      8.00  12  9.37   1982   29 66,300.00    354.00   16.00   \n",
       "1484  4550      8.57  17  6.29   1984   27 76,300.00    364.00   11.00   \n",
       "1485  3779      9.33  12  9.12   1984   27       NaN       NaN   12.00   \n",
       "1486  2456     14.00   8  7.87   1982   29  6,000.00     38.00    0.00   \n",
       "\n",
       "      PRMONF  ...  ASVABC4  VERBAL  ASVABMV  HEIGHT  WEIGHT04  SF  SM   SFR  \\\n",
       "0      14.00  ...    -0.32   -0.53    29818      70       155  12  12 12.00   \n",
       "1      12.00  ...    -0.14   -0.21    46246      74       200  16  12 16.00   \n",
       "2        NaN  ...     0.48    0.54    66480      72       168  16   6   NaN   \n",
       "3       4.00  ...     0.16   -0.05    51240      73       153  14  14 14.00   \n",
       "4       8.00  ...     1.07    0.59    89773      71       145  14  16 14.00   \n",
       "...      ...  ...      ...     ...      ...     ...       ...  ..  ..   ...   \n",
       "1482    4.00  ...    -0.81   -1.09    22110      69       190  16  12 16.00   \n",
       "1483   10.00  ...    -1.78   -1.35     7706      67       125  13  14 13.00   \n",
       "1484     NaN  ...     0.73    0.83    75186      62       173  14  18 16.00   \n",
       "1485    4.00  ...    -0.84   -0.32    25700      64       158  12   8   NaN   \n",
       "1486     NaN  ...     0.03    0.25    53969      62       140  12  12   NaN   \n",
       "\n",
       "       SMR  SIBLINGS  \n",
       "0    12.00         1  \n",
       "1    12.00         3  \n",
       "2     6.00         1  \n",
       "3    14.00         2  \n",
       "4    16.00         1  \n",
       "...    ...       ...  \n",
       "1482 12.00         5  \n",
       "1483 14.00         2  \n",
       "1484 18.00         4  \n",
       "1485  8.00         1  \n",
       "1486 12.00         4  \n",
       "\n",
       "[1487 rows x 27 columns]"
      ]
     },
     "execution_count": 89,
     "metadata": {},
     "output_type": "execute_result"
    }
   ],
   "source": [
    "num_df = df[numerical_feat]\n",
    "num_df"
   ]
  },
  {
   "cell_type": "code",
   "execution_count": 231,
   "metadata": {},
   "outputs": [
    {
     "name": "stdout",
     "output_type": "stream",
     "text": [
      "Couldn't find program: 'False'\n"
     ]
    }
   ],
   "source": [
    "%%script False\n",
    "for i in range(1, len(num_df.columns)):\n",
    "    fig = px.histogram(num_df[numerical_feat[i]], title = f\"{numerical_feat[i]}\")\n",
    "    fig.show()"
   ]
  },
  {
   "cell_type": "markdown",
   "metadata": {},
   "source": [
    "## My Analysis of graphs"
   ]
  },
  {
   "cell_type": "markdown",
   "metadata": {},
   "source": [
    "I will replace NAs with the mean/median after the next section"
   ]
  },
  {
   "cell_type": "markdown",
   "metadata": {},
   "source": [
    "## Now to look at the cateogical features"
   ]
  },
  {
   "cell_type": "code",
   "execution_count": 91,
   "metadata": {},
   "outputs": [
    {
     "data": {
      "text/html": [
       "<div>\n",
       "<style scoped>\n",
       "    .dataframe tbody tr th:only-of-type {\n",
       "        vertical-align: middle;\n",
       "    }\n",
       "\n",
       "    .dataframe tbody tr th {\n",
       "        vertical-align: top;\n",
       "    }\n",
       "\n",
       "    .dataframe thead th {\n",
       "        text-align: right;\n",
       "    }\n",
       "</style>\n",
       "<table border=\"1\" class=\"dataframe\">\n",
       "  <thead>\n",
       "    <tr style=\"text-align: right;\">\n",
       "      <th></th>\n",
       "      <th>ID</th>\n",
       "      <th>FEMALE</th>\n",
       "      <th>MALE</th>\n",
       "      <th>HHBMBF</th>\n",
       "      <th>HHBMOF</th>\n",
       "      <th>HHOMBF</th>\n",
       "      <th>HHBMONLY</th>\n",
       "      <th>HHBFONLY</th>\n",
       "      <th>HHOTHER</th>\n",
       "      <th>MSA97NO</th>\n",
       "      <th>...</th>\n",
       "      <th>FAITHO</th>\n",
       "      <th>FAITHM</th>\n",
       "      <th>PRMSTYUN</th>\n",
       "      <th>PRMSTYPE</th>\n",
       "      <th>PRMSTYAN</th>\n",
       "      <th>PRMSTYAE</th>\n",
       "      <th>PRFSTYUN</th>\n",
       "      <th>PRFSTYPE</th>\n",
       "      <th>PRFSTYAN</th>\n",
       "      <th>PRFSTYAE</th>\n",
       "    </tr>\n",
       "  </thead>\n",
       "  <tbody>\n",
       "    <tr>\n",
       "      <th>0</th>\n",
       "      <td>4275</td>\n",
       "      <td>0</td>\n",
       "      <td>1</td>\n",
       "      <td>1</td>\n",
       "      <td>0</td>\n",
       "      <td>0</td>\n",
       "      <td>0</td>\n",
       "      <td>0</td>\n",
       "      <td>0</td>\n",
       "      <td>0</td>\n",
       "      <td>...</td>\n",
       "      <td>0</td>\n",
       "      <td>0</td>\n",
       "      <td>0.00</td>\n",
       "      <td>0.00</td>\n",
       "      <td>0.00</td>\n",
       "      <td>1.00</td>\n",
       "      <td>0.00</td>\n",
       "      <td>0.00</td>\n",
       "      <td>0.00</td>\n",
       "      <td>1.00</td>\n",
       "    </tr>\n",
       "    <tr>\n",
       "      <th>1</th>\n",
       "      <td>4328</td>\n",
       "      <td>0</td>\n",
       "      <td>1</td>\n",
       "      <td>1</td>\n",
       "      <td>0</td>\n",
       "      <td>0</td>\n",
       "      <td>0</td>\n",
       "      <td>0</td>\n",
       "      <td>0</td>\n",
       "      <td>0</td>\n",
       "      <td>...</td>\n",
       "      <td>0</td>\n",
       "      <td>0</td>\n",
       "      <td>0.00</td>\n",
       "      <td>0.00</td>\n",
       "      <td>0.00</td>\n",
       "      <td>1.00</td>\n",
       "      <td>0.00</td>\n",
       "      <td>0.00</td>\n",
       "      <td>0.00</td>\n",
       "      <td>1.00</td>\n",
       "    </tr>\n",
       "    <tr>\n",
       "      <th>2</th>\n",
       "      <td>8763</td>\n",
       "      <td>0</td>\n",
       "      <td>1</td>\n",
       "      <td>0</td>\n",
       "      <td>0</td>\n",
       "      <td>0</td>\n",
       "      <td>1</td>\n",
       "      <td>0</td>\n",
       "      <td>0</td>\n",
       "      <td>0</td>\n",
       "      <td>...</td>\n",
       "      <td>0</td>\n",
       "      <td>0</td>\n",
       "      <td>NaN</td>\n",
       "      <td>NaN</td>\n",
       "      <td>NaN</td>\n",
       "      <td>NaN</td>\n",
       "      <td>NaN</td>\n",
       "      <td>NaN</td>\n",
       "      <td>NaN</td>\n",
       "      <td>NaN</td>\n",
       "    </tr>\n",
       "  </tbody>\n",
       "</table>\n",
       "<p>3 rows × 45 columns</p>\n",
       "</div>"
      ],
      "text/plain": [
       "     ID  FEMALE  MALE  HHBMBF  HHBMOF  HHOMBF  HHBMONLY  HHBFONLY  HHOTHER  \\\n",
       "0  4275       0     1       1       0       0         0         0        0   \n",
       "1  4328       0     1       1       0       0         0         0        0   \n",
       "2  8763       0     1       0       0       0         1         0        0   \n",
       "\n",
       "   MSA97NO  ...  FAITHO  FAITHM  PRMSTYUN  PRMSTYPE  PRMSTYAN  PRMSTYAE  \\\n",
       "0        0  ...       0       0      0.00      0.00      0.00      1.00   \n",
       "1        0  ...       0       0      0.00      0.00      0.00      1.00   \n",
       "2        0  ...       0       0       NaN       NaN       NaN       NaN   \n",
       "\n",
       "   PRFSTYUN  PRFSTYPE  PRFSTYAN  PRFSTYAE  \n",
       "0      0.00      0.00      0.00      1.00  \n",
       "1      0.00      0.00      0.00      1.00  \n",
       "2       NaN       NaN       NaN       NaN  \n",
       "\n",
       "[3 rows x 45 columns]"
      ]
     },
     "execution_count": 91,
     "metadata": {},
     "output_type": "execute_result"
    }
   ],
   "source": [
    "cat_df = df[categorical_feat]\n",
    "cat_df[:3]"
   ]
  },
  {
   "cell_type": "code",
   "execution_count": 92,
   "metadata": {},
   "outputs": [
    {
     "data": {
      "text/plain": [
       "Index(['PRMSTYUN', 'PRMSTYPE', 'PRMSTYAN', 'PRMSTYAE', 'PRFSTYUN', 'PRFSTYPE',\n",
       "       'PRFSTYAN', 'PRFSTYAE'],\n",
       "      dtype='object')"
      ]
     },
     "execution_count": 92,
     "metadata": {},
     "output_type": "execute_result"
    }
   ],
   "source": [
    "# select only rows with presence of NAs\n",
    "cat_df.isna().sum()[cat_df.isna().sum()>0]\n",
    "missing_cat = cat_df.isna().sum()[cat_df.isna().sum()>0].index\n",
    "missing_cat"
   ]
  },
  {
   "cell_type": "markdown",
   "metadata": {},
   "source": [
    "easy to clean. On inspection, NA values are typically 0"
   ]
  },
  {
   "cell_type": "code",
   "execution_count": 93,
   "metadata": {},
   "outputs": [],
   "source": [
    "# fill NAs with 0\n",
    "cat_df = cat_df.fillna(0)"
   ]
  },
  {
   "cell_type": "markdown",
   "metadata": {},
   "source": [
    "## Handing missing data from numerical features"
   ]
  },
  {
   "cell_type": "code",
   "execution_count": 94,
   "metadata": {},
   "outputs": [
    {
     "data": {
      "text/html": [
       "<div>\n",
       "<style scoped>\n",
       "    .dataframe tbody tr th:only-of-type {\n",
       "        vertical-align: middle;\n",
       "    }\n",
       "\n",
       "    .dataframe tbody tr th {\n",
       "        vertical-align: top;\n",
       "    }\n",
       "\n",
       "    .dataframe thead th {\n",
       "        text-align: right;\n",
       "    }\n",
       "</style>\n",
       "<table border=\"1\" class=\"dataframe\">\n",
       "  <thead>\n",
       "    <tr style=\"text-align: right;\">\n",
       "      <th></th>\n",
       "      <th>HHINC97</th>\n",
       "      <th>POVRAT97</th>\n",
       "      <th>PRMONM</th>\n",
       "      <th>PRMONF</th>\n",
       "      <th>SFR</th>\n",
       "      <th>SMR</th>\n",
       "    </tr>\n",
       "  </thead>\n",
       "  <tbody>\n",
       "    <tr>\n",
       "      <th>0</th>\n",
       "      <td>64,000.00</td>\n",
       "      <td>402.00</td>\n",
       "      <td>14.00</td>\n",
       "      <td>14.00</td>\n",
       "      <td>12.00</td>\n",
       "      <td>12.00</td>\n",
       "    </tr>\n",
       "    <tr>\n",
       "      <th>1</th>\n",
       "      <td>6,000.00</td>\n",
       "      <td>38.00</td>\n",
       "      <td>12.00</td>\n",
       "      <td>12.00</td>\n",
       "      <td>16.00</td>\n",
       "      <td>12.00</td>\n",
       "    </tr>\n",
       "    <tr>\n",
       "      <th>2</th>\n",
       "      <td>88,252.00</td>\n",
       "      <td>555.00</td>\n",
       "      <td>NaN</td>\n",
       "      <td>NaN</td>\n",
       "      <td>NaN</td>\n",
       "      <td>6.00</td>\n",
       "    </tr>\n",
       "  </tbody>\n",
       "</table>\n",
       "</div>"
      ],
      "text/plain": [
       "    HHINC97  POVRAT97  PRMONM  PRMONF   SFR   SMR\n",
       "0 64,000.00    402.00   14.00   14.00 12.00 12.00\n",
       "1  6,000.00     38.00   12.00   12.00 16.00 12.00\n",
       "2 88,252.00    555.00     NaN     NaN   NaN  6.00"
      ]
     },
     "execution_count": 94,
     "metadata": {},
     "output_type": "execute_result"
    }
   ],
   "source": [
    "# select columns with NAs\n",
    "num_df.isna().sum()[num_df.isna().sum()>0]\n",
    "missing_num = num_df.isna().sum()[num_df.isna().sum()>0].index\n",
    "missing_num\n",
    "\n",
    "# see columns with data\n",
    "num_df[missing_num][:3]"
   ]
  },
  {
   "cell_type": "markdown",
   "metadata": {},
   "source": [
    "### Columns with Missing numerical values\n",
    "- HHINC97: Gross household income, $, in year prior to 1997 interview\n",
    "- POVRAT97: Ratio of household income to poverty level, 1997\n",
    "- PRMONM: Monitoring by mother\n",
    "- PRMONF: Monitoring by father\n",
    "- SFR: Years of schooling of residential Father\n",
    "- SMR: Years of schooling of residential Mother\n",
    "\n",
    "I need to see the range of each to determine the necessary actions."
   ]
  },
  {
   "cell_type": "code",
   "execution_count": 95,
   "metadata": {},
   "outputs": [
    {
     "data": {
      "text/html": [
       "<div>\n",
       "<style scoped>\n",
       "    .dataframe tbody tr th:only-of-type {\n",
       "        vertical-align: middle;\n",
       "    }\n",
       "\n",
       "    .dataframe tbody tr th {\n",
       "        vertical-align: top;\n",
       "    }\n",
       "\n",
       "    .dataframe thead th {\n",
       "        text-align: right;\n",
       "    }\n",
       "</style>\n",
       "<table border=\"1\" class=\"dataframe\">\n",
       "  <thead>\n",
       "    <tr style=\"text-align: right;\">\n",
       "      <th></th>\n",
       "      <th>HHINC97</th>\n",
       "      <th>POVRAT97</th>\n",
       "      <th>PRMONM</th>\n",
       "      <th>PRMONF</th>\n",
       "      <th>SFR</th>\n",
       "      <th>SMR</th>\n",
       "    </tr>\n",
       "  </thead>\n",
       "  <tbody>\n",
       "    <tr>\n",
       "      <th>count</th>\n",
       "      <td>1,205.00</td>\n",
       "      <td>1,203.00</td>\n",
       "      <td>851.00</td>\n",
       "      <td>698.00</td>\n",
       "      <td>1,197.00</td>\n",
       "      <td>1,430.00</td>\n",
       "    </tr>\n",
       "    <tr>\n",
       "      <th>mean</th>\n",
       "      <td>58,310.67</td>\n",
       "      <td>362.26</td>\n",
       "      <td>9.80</td>\n",
       "      <td>7.48</td>\n",
       "      <td>13.60</td>\n",
       "      <td>13.43</td>\n",
       "    </tr>\n",
       "    <tr>\n",
       "      <th>std</th>\n",
       "      <td>43,868.05</td>\n",
       "      <td>294.23</td>\n",
       "      <td>3.05</td>\n",
       "      <td>3.70</td>\n",
       "      <td>2.95</td>\n",
       "      <td>2.66</td>\n",
       "    </tr>\n",
       "    <tr>\n",
       "      <th>min</th>\n",
       "      <td>0.00</td>\n",
       "      <td>0.00</td>\n",
       "      <td>0.00</td>\n",
       "      <td>0.00</td>\n",
       "      <td>3.00</td>\n",
       "      <td>1.00</td>\n",
       "    </tr>\n",
       "    <tr>\n",
       "      <th>25%</th>\n",
       "      <td>32,000.00</td>\n",
       "      <td>190.50</td>\n",
       "      <td>8.00</td>\n",
       "      <td>5.00</td>\n",
       "      <td>12.00</td>\n",
       "      <td>12.00</td>\n",
       "    </tr>\n",
       "    <tr>\n",
       "      <th>50%</th>\n",
       "      <td>50,500.00</td>\n",
       "      <td>302.00</td>\n",
       "      <td>10.00</td>\n",
       "      <td>8.00</td>\n",
       "      <td>13.00</td>\n",
       "      <td>13.00</td>\n",
       "    </tr>\n",
       "    <tr>\n",
       "      <th>75%</th>\n",
       "      <td>72,000.00</td>\n",
       "      <td>441.00</td>\n",
       "      <td>12.00</td>\n",
       "      <td>10.00</td>\n",
       "      <td>16.00</td>\n",
       "      <td>16.00</td>\n",
       "    </tr>\n",
       "    <tr>\n",
       "      <th>max</th>\n",
       "      <td>246,474.00</td>\n",
       "      <td>1,627.00</td>\n",
       "      <td>16.00</td>\n",
       "      <td>16.00</td>\n",
       "      <td>20.00</td>\n",
       "      <td>20.00</td>\n",
       "    </tr>\n",
       "  </tbody>\n",
       "</table>\n",
       "</div>"
      ],
      "text/plain": [
       "         HHINC97  POVRAT97  PRMONM  PRMONF      SFR      SMR\n",
       "count   1,205.00  1,203.00  851.00  698.00 1,197.00 1,430.00\n",
       "mean   58,310.67    362.26    9.80    7.48    13.60    13.43\n",
       "std    43,868.05    294.23    3.05    3.70     2.95     2.66\n",
       "min         0.00      0.00    0.00    0.00     3.00     1.00\n",
       "25%    32,000.00    190.50    8.00    5.00    12.00    12.00\n",
       "50%    50,500.00    302.00   10.00    8.00    13.00    13.00\n",
       "75%    72,000.00    441.00   12.00   10.00    16.00    16.00\n",
       "max   246,474.00  1,627.00   16.00   16.00    20.00    20.00"
      ]
     },
     "execution_count": 95,
     "metadata": {},
     "output_type": "execute_result"
    }
   ],
   "source": [
    "num_df[missing_num].describe()"
   ]
  },
  {
   "cell_type": "markdown",
   "metadata": {},
   "source": [
    "### Actions required: Imputation\n",
    "- HHINC97: mean values\n",
    "- POVRAT97: mean values\n",
    "- PRMONM: median values\n",
    "- PRMONF: median values\n",
    "- SFR: median values\n",
    "- SMR: median values"
   ]
  },
  {
   "cell_type": "code",
   "execution_count": 96,
   "metadata": {},
   "outputs": [
    {
     "name": "stderr",
     "output_type": "stream",
     "text": [
      "C:\\Users\\panjd\\AppData\\Local\\Temp\\ipykernel_1584\\817727946.py:2: SettingWithCopyWarning:\n",
      "\n",
      "\n",
      "A value is trying to be set on a copy of a slice from a DataFrame.\n",
      "Try using .loc[row_indexer,col_indexer] = value instead\n",
      "\n",
      "See the caveats in the documentation: https://pandas.pydata.org/pandas-docs/stable/user_guide/indexing.html#returning-a-view-versus-a-copy\n",
      "\n",
      "C:\\Users\\panjd\\AppData\\Local\\Temp\\ipykernel_1584\\817727946.py:5: SettingWithCopyWarning:\n",
      "\n",
      "\n",
      "A value is trying to be set on a copy of a slice from a DataFrame.\n",
      "Try using .loc[row_indexer,col_indexer] = value instead\n",
      "\n",
      "See the caveats in the documentation: https://pandas.pydata.org/pandas-docs/stable/user_guide/indexing.html#returning-a-view-versus-a-copy\n",
      "\n",
      "C:\\Users\\panjd\\AppData\\Local\\Temp\\ipykernel_1584\\817727946.py:11: SettingWithCopyWarning:\n",
      "\n",
      "\n",
      "A value is trying to be set on a copy of a slice from a DataFrame.\n",
      "Try using .loc[row_indexer,col_indexer] = value instead\n",
      "\n",
      "See the caveats in the documentation: https://pandas.pydata.org/pandas-docs/stable/user_guide/indexing.html#returning-a-view-versus-a-copy\n",
      "\n"
     ]
    }
   ],
   "source": [
    "# HHINC97 mean imputation\n",
    "num_df['HHINC97'] = num_df['HHINC97'].fillna(num_df['HHINC97'].mean())\n",
    "\n",
    "# POVRAT97 mean imputation\n",
    "num_df['POVRAT97'] = num_df['POVRAT97'].fillna(num_df['POVRAT97'].mean())\n",
    "\n",
    "# lets code the next one...\n",
    "features = [\"PRMONM\",\"PRMONF\",\"SFR\",\"SMR\"]\n",
    "\n",
    "for i in features:\n",
    "    num_df[i] = num_df[i].fillna(num_df[i].median())"
   ]
  },
  {
   "cell_type": "code",
   "execution_count": 74,
   "metadata": {},
   "outputs": [
    {
     "data": {
      "text/plain": [
       "HHINC97     0\n",
       "POVRAT97    0\n",
       "PRMONM      0\n",
       "PRMONF      0\n",
       "SFR         0\n",
       "SMR         0\n",
       "dtype: int64"
      ]
     },
     "execution_count": 74,
     "metadata": {},
     "output_type": "execute_result"
    }
   ],
   "source": [
    "num_df[missing_num].isna().sum()"
   ]
  },
  {
   "cell_type": "markdown",
   "metadata": {},
   "source": [
    "### NA filled, we can merge the data\n",
    "At this point in time, I can do one more step to do standardising of the values.\n",
    "\n",
    "But maybe for my next submission?"
   ]
  },
  {
   "cell_type": "markdown",
   "metadata": {},
   "source": [
    "## Merging the data"
   ]
  },
  {
   "cell_type": "code",
   "execution_count": 109,
   "metadata": {},
   "outputs": [],
   "source": [
    "df_new = num_df.merge(cat_df, on=\"ID\")"
   ]
  },
  {
   "cell_type": "code",
   "execution_count": 114,
   "metadata": {
    "collapsed": true
   },
   "outputs": [
    {
     "ename": "KeyError",
     "evalue": "\"['ID'] not found in axis\"",
     "output_type": "error",
     "traceback": [
      "\u001b[1;31m---------------------------------------------------------------------------\u001b[0m",
      "\u001b[1;31mKeyError\u001b[0m                                  Traceback (most recent call last)",
      "Input \u001b[1;32mIn [114]\u001b[0m, in \u001b[0;36m<cell line: 1>\u001b[1;34m()\u001b[0m\n\u001b[1;32m----> 1\u001b[0m df_new \u001b[38;5;241m=\u001b[39m \u001b[43mdf_new\u001b[49m\u001b[38;5;241;43m.\u001b[39;49m\u001b[43mdrop\u001b[49m\u001b[43m(\u001b[49m\u001b[38;5;124;43m\"\u001b[39;49m\u001b[38;5;124;43mID\u001b[39;49m\u001b[38;5;124;43m\"\u001b[39;49m\u001b[43m,\u001b[49m\u001b[43m \u001b[49m\u001b[43maxis\u001b[49m\u001b[43m \u001b[49m\u001b[38;5;241;43m=\u001b[39;49m\u001b[43m \u001b[49m\u001b[38;5;241;43m1\u001b[39;49m\u001b[43m)\u001b[49m\n\u001b[0;32m      2\u001b[0m df_new\n",
      "File \u001b[1;32m~\\anaconda3\\lib\\site-packages\\pandas\\util\\_decorators.py:311\u001b[0m, in \u001b[0;36mdeprecate_nonkeyword_arguments.<locals>.decorate.<locals>.wrapper\u001b[1;34m(*args, **kwargs)\u001b[0m\n\u001b[0;32m    305\u001b[0m \u001b[38;5;28;01mif\u001b[39;00m \u001b[38;5;28mlen\u001b[39m(args) \u001b[38;5;241m>\u001b[39m num_allow_args:\n\u001b[0;32m    306\u001b[0m     warnings\u001b[38;5;241m.\u001b[39mwarn(\n\u001b[0;32m    307\u001b[0m         msg\u001b[38;5;241m.\u001b[39mformat(arguments\u001b[38;5;241m=\u001b[39marguments),\n\u001b[0;32m    308\u001b[0m         \u001b[38;5;167;01mFutureWarning\u001b[39;00m,\n\u001b[0;32m    309\u001b[0m         stacklevel\u001b[38;5;241m=\u001b[39mstacklevel,\n\u001b[0;32m    310\u001b[0m     )\n\u001b[1;32m--> 311\u001b[0m \u001b[38;5;28;01mreturn\u001b[39;00m func(\u001b[38;5;241m*\u001b[39margs, \u001b[38;5;241m*\u001b[39m\u001b[38;5;241m*\u001b[39mkwargs)\n",
      "File \u001b[1;32m~\\anaconda3\\lib\\site-packages\\pandas\\core\\frame.py:4954\u001b[0m, in \u001b[0;36mDataFrame.drop\u001b[1;34m(self, labels, axis, index, columns, level, inplace, errors)\u001b[0m\n\u001b[0;32m   4806\u001b[0m \u001b[38;5;129m@deprecate_nonkeyword_arguments\u001b[39m(version\u001b[38;5;241m=\u001b[39m\u001b[38;5;28;01mNone\u001b[39;00m, allowed_args\u001b[38;5;241m=\u001b[39m[\u001b[38;5;124m\"\u001b[39m\u001b[38;5;124mself\u001b[39m\u001b[38;5;124m\"\u001b[39m, \u001b[38;5;124m\"\u001b[39m\u001b[38;5;124mlabels\u001b[39m\u001b[38;5;124m\"\u001b[39m])\n\u001b[0;32m   4807\u001b[0m \u001b[38;5;28;01mdef\u001b[39;00m \u001b[38;5;21mdrop\u001b[39m(\n\u001b[0;32m   4808\u001b[0m     \u001b[38;5;28mself\u001b[39m,\n\u001b[1;32m   (...)\u001b[0m\n\u001b[0;32m   4815\u001b[0m     errors: \u001b[38;5;28mstr\u001b[39m \u001b[38;5;241m=\u001b[39m \u001b[38;5;124m\"\u001b[39m\u001b[38;5;124mraise\u001b[39m\u001b[38;5;124m\"\u001b[39m,\n\u001b[0;32m   4816\u001b[0m ):\n\u001b[0;32m   4817\u001b[0m     \u001b[38;5;124;03m\"\"\"\u001b[39;00m\n\u001b[0;32m   4818\u001b[0m \u001b[38;5;124;03m    Drop specified labels from rows or columns.\u001b[39;00m\n\u001b[0;32m   4819\u001b[0m \n\u001b[1;32m   (...)\u001b[0m\n\u001b[0;32m   4952\u001b[0m \u001b[38;5;124;03m            weight  1.0     0.8\u001b[39;00m\n\u001b[0;32m   4953\u001b[0m \u001b[38;5;124;03m    \"\"\"\u001b[39;00m\n\u001b[1;32m-> 4954\u001b[0m     \u001b[38;5;28;01mreturn\u001b[39;00m \u001b[38;5;28;43msuper\u001b[39;49m\u001b[43m(\u001b[49m\u001b[43m)\u001b[49m\u001b[38;5;241;43m.\u001b[39;49m\u001b[43mdrop\u001b[49m\u001b[43m(\u001b[49m\n\u001b[0;32m   4955\u001b[0m \u001b[43m        \u001b[49m\u001b[43mlabels\u001b[49m\u001b[38;5;241;43m=\u001b[39;49m\u001b[43mlabels\u001b[49m\u001b[43m,\u001b[49m\n\u001b[0;32m   4956\u001b[0m \u001b[43m        \u001b[49m\u001b[43maxis\u001b[49m\u001b[38;5;241;43m=\u001b[39;49m\u001b[43maxis\u001b[49m\u001b[43m,\u001b[49m\n\u001b[0;32m   4957\u001b[0m \u001b[43m        \u001b[49m\u001b[43mindex\u001b[49m\u001b[38;5;241;43m=\u001b[39;49m\u001b[43mindex\u001b[49m\u001b[43m,\u001b[49m\n\u001b[0;32m   4958\u001b[0m \u001b[43m        \u001b[49m\u001b[43mcolumns\u001b[49m\u001b[38;5;241;43m=\u001b[39;49m\u001b[43mcolumns\u001b[49m\u001b[43m,\u001b[49m\n\u001b[0;32m   4959\u001b[0m \u001b[43m        \u001b[49m\u001b[43mlevel\u001b[49m\u001b[38;5;241;43m=\u001b[39;49m\u001b[43mlevel\u001b[49m\u001b[43m,\u001b[49m\n\u001b[0;32m   4960\u001b[0m \u001b[43m        \u001b[49m\u001b[43minplace\u001b[49m\u001b[38;5;241;43m=\u001b[39;49m\u001b[43minplace\u001b[49m\u001b[43m,\u001b[49m\n\u001b[0;32m   4961\u001b[0m \u001b[43m        \u001b[49m\u001b[43merrors\u001b[49m\u001b[38;5;241;43m=\u001b[39;49m\u001b[43merrors\u001b[49m\u001b[43m,\u001b[49m\n\u001b[0;32m   4962\u001b[0m \u001b[43m    \u001b[49m\u001b[43m)\u001b[49m\n",
      "File \u001b[1;32m~\\anaconda3\\lib\\site-packages\\pandas\\core\\generic.py:4267\u001b[0m, in \u001b[0;36mNDFrame.drop\u001b[1;34m(self, labels, axis, index, columns, level, inplace, errors)\u001b[0m\n\u001b[0;32m   4265\u001b[0m \u001b[38;5;28;01mfor\u001b[39;00m axis, labels \u001b[38;5;129;01min\u001b[39;00m axes\u001b[38;5;241m.\u001b[39mitems():\n\u001b[0;32m   4266\u001b[0m     \u001b[38;5;28;01mif\u001b[39;00m labels \u001b[38;5;129;01mis\u001b[39;00m \u001b[38;5;129;01mnot\u001b[39;00m \u001b[38;5;28;01mNone\u001b[39;00m:\n\u001b[1;32m-> 4267\u001b[0m         obj \u001b[38;5;241m=\u001b[39m \u001b[43mobj\u001b[49m\u001b[38;5;241;43m.\u001b[39;49m\u001b[43m_drop_axis\u001b[49m\u001b[43m(\u001b[49m\u001b[43mlabels\u001b[49m\u001b[43m,\u001b[49m\u001b[43m \u001b[49m\u001b[43maxis\u001b[49m\u001b[43m,\u001b[49m\u001b[43m \u001b[49m\u001b[43mlevel\u001b[49m\u001b[38;5;241;43m=\u001b[39;49m\u001b[43mlevel\u001b[49m\u001b[43m,\u001b[49m\u001b[43m \u001b[49m\u001b[43merrors\u001b[49m\u001b[38;5;241;43m=\u001b[39;49m\u001b[43merrors\u001b[49m\u001b[43m)\u001b[49m\n\u001b[0;32m   4269\u001b[0m \u001b[38;5;28;01mif\u001b[39;00m inplace:\n\u001b[0;32m   4270\u001b[0m     \u001b[38;5;28mself\u001b[39m\u001b[38;5;241m.\u001b[39m_update_inplace(obj)\n",
      "File \u001b[1;32m~\\anaconda3\\lib\\site-packages\\pandas\\core\\generic.py:4311\u001b[0m, in \u001b[0;36mNDFrame._drop_axis\u001b[1;34m(self, labels, axis, level, errors, consolidate, only_slice)\u001b[0m\n\u001b[0;32m   4309\u001b[0m         new_axis \u001b[38;5;241m=\u001b[39m axis\u001b[38;5;241m.\u001b[39mdrop(labels, level\u001b[38;5;241m=\u001b[39mlevel, errors\u001b[38;5;241m=\u001b[39merrors)\n\u001b[0;32m   4310\u001b[0m     \u001b[38;5;28;01melse\u001b[39;00m:\n\u001b[1;32m-> 4311\u001b[0m         new_axis \u001b[38;5;241m=\u001b[39m \u001b[43maxis\u001b[49m\u001b[38;5;241;43m.\u001b[39;49m\u001b[43mdrop\u001b[49m\u001b[43m(\u001b[49m\u001b[43mlabels\u001b[49m\u001b[43m,\u001b[49m\u001b[43m \u001b[49m\u001b[43merrors\u001b[49m\u001b[38;5;241;43m=\u001b[39;49m\u001b[43merrors\u001b[49m\u001b[43m)\u001b[49m\n\u001b[0;32m   4312\u001b[0m     indexer \u001b[38;5;241m=\u001b[39m axis\u001b[38;5;241m.\u001b[39mget_indexer(new_axis)\n\u001b[0;32m   4314\u001b[0m \u001b[38;5;66;03m# Case for non-unique axis\u001b[39;00m\n\u001b[0;32m   4315\u001b[0m \u001b[38;5;28;01melse\u001b[39;00m:\n",
      "File \u001b[1;32m~\\anaconda3\\lib\\site-packages\\pandas\\core\\indexes\\base.py:6644\u001b[0m, in \u001b[0;36mIndex.drop\u001b[1;34m(self, labels, errors)\u001b[0m\n\u001b[0;32m   6642\u001b[0m \u001b[38;5;28;01mif\u001b[39;00m mask\u001b[38;5;241m.\u001b[39many():\n\u001b[0;32m   6643\u001b[0m     \u001b[38;5;28;01mif\u001b[39;00m errors \u001b[38;5;241m!=\u001b[39m \u001b[38;5;124m\"\u001b[39m\u001b[38;5;124mignore\u001b[39m\u001b[38;5;124m\"\u001b[39m:\n\u001b[1;32m-> 6644\u001b[0m         \u001b[38;5;28;01mraise\u001b[39;00m \u001b[38;5;167;01mKeyError\u001b[39;00m(\u001b[38;5;124mf\u001b[39m\u001b[38;5;124m\"\u001b[39m\u001b[38;5;132;01m{\u001b[39;00m\u001b[38;5;28mlist\u001b[39m(labels[mask])\u001b[38;5;132;01m}\u001b[39;00m\u001b[38;5;124m not found in axis\u001b[39m\u001b[38;5;124m\"\u001b[39m)\n\u001b[0;32m   6645\u001b[0m     indexer \u001b[38;5;241m=\u001b[39m indexer[\u001b[38;5;241m~\u001b[39mmask]\n\u001b[0;32m   6646\u001b[0m \u001b[38;5;28;01mreturn\u001b[39;00m \u001b[38;5;28mself\u001b[39m\u001b[38;5;241m.\u001b[39mdelete(indexer)\n",
      "\u001b[1;31mKeyError\u001b[0m: \"['ID'] not found in axis\""
     ]
    }
   ],
   "source": [
    "df_new = df_new.drop(\"ID\", axis = 1)\n"
   ]
  },
  {
   "cell_type": "code",
   "execution_count": 116,
   "metadata": {},
   "outputs": [
    {
     "data": {
      "text/html": [
       "<div>\n",
       "<style scoped>\n",
       "    .dataframe tbody tr th:only-of-type {\n",
       "        vertical-align: middle;\n",
       "    }\n",
       "\n",
       "    .dataframe tbody tr th {\n",
       "        vertical-align: top;\n",
       "    }\n",
       "\n",
       "    .dataframe thead th {\n",
       "        text-align: right;\n",
       "    }\n",
       "</style>\n",
       "<table border=\"1\" class=\"dataframe\">\n",
       "  <thead>\n",
       "    <tr style=\"text-align: right;\">\n",
       "      <th></th>\n",
       "      <th>EARNINGS</th>\n",
       "      <th>S</th>\n",
       "      <th>EXP</th>\n",
       "      <th>BYEAR</th>\n",
       "      <th>AGE</th>\n",
       "      <th>HHINC97</th>\n",
       "      <th>POVRAT97</th>\n",
       "      <th>PRMONM</th>\n",
       "      <th>PRMONF</th>\n",
       "      <th>ASVABAR</th>\n",
       "      <th>...</th>\n",
       "      <th>FAITHO</th>\n",
       "      <th>FAITHM</th>\n",
       "      <th>PRMSTYUN</th>\n",
       "      <th>PRMSTYPE</th>\n",
       "      <th>PRMSTYAN</th>\n",
       "      <th>PRMSTYAE</th>\n",
       "      <th>PRFSTYUN</th>\n",
       "      <th>PRFSTYPE</th>\n",
       "      <th>PRFSTYAN</th>\n",
       "      <th>PRFSTYAE</th>\n",
       "    </tr>\n",
       "  </thead>\n",
       "  <tbody>\n",
       "    <tr>\n",
       "      <th>0</th>\n",
       "      <td>18.50</td>\n",
       "      <td>12</td>\n",
       "      <td>9.71</td>\n",
       "      <td>1984</td>\n",
       "      <td>27</td>\n",
       "      <td>64,000.00</td>\n",
       "      <td>402.00</td>\n",
       "      <td>14.00</td>\n",
       "      <td>14.00</td>\n",
       "      <td>0.12</td>\n",
       "      <td>...</td>\n",
       "      <td>0</td>\n",
       "      <td>0</td>\n",
       "      <td>0.00</td>\n",
       "      <td>0.00</td>\n",
       "      <td>0.00</td>\n",
       "      <td>1.00</td>\n",
       "      <td>0.00</td>\n",
       "      <td>0.00</td>\n",
       "      <td>0.00</td>\n",
       "      <td>1.00</td>\n",
       "    </tr>\n",
       "    <tr>\n",
       "      <th>1</th>\n",
       "      <td>19.23</td>\n",
       "      <td>17</td>\n",
       "      <td>5.71</td>\n",
       "      <td>1982</td>\n",
       "      <td>29</td>\n",
       "      <td>6,000.00</td>\n",
       "      <td>38.00</td>\n",
       "      <td>12.00</td>\n",
       "      <td>12.00</td>\n",
       "      <td>0.45</td>\n",
       "      <td>...</td>\n",
       "      <td>0</td>\n",
       "      <td>0</td>\n",
       "      <td>0.00</td>\n",
       "      <td>0.00</td>\n",
       "      <td>0.00</td>\n",
       "      <td>1.00</td>\n",
       "      <td>0.00</td>\n",
       "      <td>0.00</td>\n",
       "      <td>0.00</td>\n",
       "      <td>1.00</td>\n",
       "    </tr>\n",
       "    <tr>\n",
       "      <th>2</th>\n",
       "      <td>39.05</td>\n",
       "      <td>14</td>\n",
       "      <td>9.94</td>\n",
       "      <td>1981</td>\n",
       "      <td>30</td>\n",
       "      <td>88,252.00</td>\n",
       "      <td>555.00</td>\n",
       "      <td>10.00</td>\n",
       "      <td>8.00</td>\n",
       "      <td>0.42</td>\n",
       "      <td>...</td>\n",
       "      <td>0</td>\n",
       "      <td>0</td>\n",
       "      <td>0.00</td>\n",
       "      <td>0.00</td>\n",
       "      <td>0.00</td>\n",
       "      <td>0.00</td>\n",
       "      <td>0.00</td>\n",
       "      <td>0.00</td>\n",
       "      <td>0.00</td>\n",
       "      <td>0.00</td>\n",
       "    </tr>\n",
       "  </tbody>\n",
       "</table>\n",
       "<p>3 rows × 70 columns</p>\n",
       "</div>"
      ],
      "text/plain": [
       "   EARNINGS   S  EXP  BYEAR  AGE   HHINC97  POVRAT97  PRMONM  PRMONF  ASVABAR  \\\n",
       "0     18.50  12 9.71   1984   27 64,000.00    402.00   14.00   14.00     0.12   \n",
       "1     19.23  17 5.71   1982   29  6,000.00     38.00   12.00   12.00     0.45   \n",
       "2     39.05  14 9.94   1981   30 88,252.00    555.00   10.00    8.00     0.42   \n",
       "\n",
       "   ...  FAITHO  FAITHM  PRMSTYUN  PRMSTYPE  PRMSTYAN  PRMSTYAE  PRFSTYUN  \\\n",
       "0  ...       0       0      0.00      0.00      0.00      1.00      0.00   \n",
       "1  ...       0       0      0.00      0.00      0.00      1.00      0.00   \n",
       "2  ...       0       0      0.00      0.00      0.00      0.00      0.00   \n",
       "\n",
       "   PRFSTYPE  PRFSTYAN  PRFSTYAE  \n",
       "0      0.00      0.00      1.00  \n",
       "1      0.00      0.00      1.00  \n",
       "2      0.00      0.00      0.00  \n",
       "\n",
       "[3 rows x 70 columns]"
      ]
     },
     "execution_count": 116,
     "metadata": {},
     "output_type": "execute_result"
    }
   ],
   "source": [
    "df_new[:3]"
   ]
  },
  {
   "cell_type": "markdown",
   "metadata": {},
   "source": [
    "I learnt from previous projects to check after merging..."
   ]
  },
  {
   "cell_type": "markdown",
   "metadata": {
    "id": "9i4zHYG4nhDL"
   },
   "source": [
    "# Split Training & Test Dataset\n",
    "\n",
    "We *can't* use all the entries in our dataset to train our model. Keep 30% of the data for later as a testing dataset (out-of-sample data).  "
   ]
  },
  {
   "cell_type": "code",
   "execution_count": 117,
   "metadata": {},
   "outputs": [],
   "source": [
    "earnings = df_new[\"EARNINGS\"]\n",
    "df_new = df_new.drop(\"EARNINGS\", axis=1)"
   ]
  },
  {
   "cell_type": "code",
   "execution_count": 118,
   "metadata": {
    "id": "M_OfRSyunkA1"
   },
   "outputs": [],
   "source": [
    "X_train, X_test, y_train, y_test = train_test_split(df_new, earnings,\n",
    "                                                    test_size = .3, \n",
    "                                                    random_state = 1047)"
   ]
  },
  {
   "cell_type": "markdown",
   "metadata": {},
   "source": [
    "### Checking the outputs to see if they are okay"
   ]
  },
  {
   "cell_type": "code",
   "execution_count": 119,
   "metadata": {},
   "outputs": [
    {
     "data": {
      "text/plain": [
       "(1040, 447, 1040, 447)"
      ]
     },
     "execution_count": 119,
     "metadata": {},
     "output_type": "execute_result"
    }
   ],
   "source": [
    "len(X_train), len(X_test), len(y_train), len(y_test)"
   ]
  },
  {
   "cell_type": "markdown",
   "metadata": {
    "id": "EM99NOH0noFS"
   },
   "source": [
    "# Simple Linear Regression\n",
    "\n",
    "Only use the years of schooling to predict earnings. Use sklearn to run the regression on the training dataset. How high is the r-squared for the regression on the training data? "
   ]
  },
  {
   "cell_type": "code",
   "execution_count": 133,
   "metadata": {},
   "outputs": [],
   "source": [
    "S = pd.DataFrame(X_train[\"S\"])\n"
   ]
  },
  {
   "cell_type": "code",
   "execution_count": 134,
   "metadata": {
    "id": "J_MViuoNnvHf"
   },
   "outputs": [
    {
     "name": "stdout",
     "output_type": "stream",
     "text": [
      "CPU times: total: 0 ns\n",
      "Wall time: 2.08 ms\n"
     ]
    },
    {
     "data": {
      "text/plain": [
       "LinearRegression()"
      ]
     },
     "execution_count": 134,
     "metadata": {},
     "output_type": "execute_result"
    }
   ],
   "source": [
    "%%time\n",
    "LR = LinearRegression()\n",
    "LR.fit(S, y_train)"
   ]
  },
  {
   "cell_type": "markdown",
   "metadata": {
    "id": "s2TeWKs7oJSa"
   },
   "source": [
    "### Evaluate the Coefficients of the Model\n",
    "\n",
    "Here we do a sense check on our regression coefficients. The first thing to look for is if the coefficients have the expected sign (positive or negative). \n",
    "\n",
    "Interpret the regression. How many extra dollars can one expect to earn for an additional year of schooling?"
   ]
  },
  {
   "cell_type": "code",
   "execution_count": 135,
   "metadata": {
    "id": "QmhzZAmAoW4t"
   },
   "outputs": [
    {
     "name": "stdout",
     "output_type": "stream",
     "text": [
      "For every one year of schooling, earnings increase by $1.29 per hour.\n"
     ]
    }
   ],
   "source": [
    "print(f\"For every one year of schooling, earnings increase by ${LR.coef_[0]:.2f} per hour.\")"
   ]
  },
  {
   "cell_type": "markdown",
   "metadata": {
    "id": "WIyMPXXYobx8"
   },
   "source": [
    "### Analyse the Estimated Values & Regression Residuals\n",
    "\n",
    "How good our regression is also depends on the residuals - the difference between the model's predictions ( 𝑦̂ 𝑖 ) and the true values ( 𝑦𝑖 ) inside y_train. Do you see any patterns in the distribution of the residuals?"
   ]
  },
  {
   "cell_type": "code",
   "execution_count": 155,
   "metadata": {},
   "outputs": [],
   "source": [
    "S_score = LR.score(S, y_train)"
   ]
  },
  {
   "cell_type": "code",
   "execution_count": 156,
   "metadata": {
    "id": "m_diDXSXotm6"
   },
   "outputs": [
    {
     "name": "stdout",
     "output_type": "stream",
     "text": [
      "The number of years in education only accounts for 8.33% of variance attributed to earnings.\n"
     ]
    }
   ],
   "source": [
    "print(f\"The number of years in education only accounts for {S_score*100:.2f}% of variance attributed to earnings.\")"
   ]
  },
  {
   "cell_type": "markdown",
   "metadata": {
    "id": "zNBuJ1iBnvpl"
   },
   "source": [
    "# Multivariable Regression\n",
    "\n",
    "Now use both years of schooling and the years work experience to predict earnings. How high is the r-squared for the regression on the training data? "
   ]
  },
  {
   "cell_type": "code",
   "execution_count": 164,
   "metadata": {
    "id": "Ihq-C4looCSM"
   },
   "outputs": [],
   "source": [
    "LR1 = LinearRegression()\n",
    "LR1.fit(X_train[[\"S\", \"EXP\"]], y_train)\n",
    "LR1_score = LR1.score(X_train[[\"S\", \"EXP\"]], y_train)"
   ]
  },
  {
   "cell_type": "code",
   "execution_count": 165,
   "metadata": {},
   "outputs": [
    {
     "data": {
      "text/plain": [
       "0.12469467150035185"
      ]
     },
     "execution_count": 165,
     "metadata": {},
     "output_type": "execute_result"
    }
   ],
   "source": [
    "LR1_score"
   ]
  },
  {
   "cell_type": "code",
   "execution_count": 166,
   "metadata": {},
   "outputs": [
    {
     "data": {
      "text/plain": [
       "array([1.93609408, 1.08040541])"
      ]
     },
     "execution_count": 166,
     "metadata": {},
     "output_type": "execute_result"
    }
   ],
   "source": [
    "LR1.coef_"
   ]
  },
  {
   "cell_type": "code",
   "execution_count": 167,
   "metadata": {
    "id": "dRhB7Iwboyfq"
   },
   "outputs": [
    {
     "name": "stdout",
     "output_type": "stream",
     "text": [
      "The number of years in education and experience accounts for 12.47% of variance attributed to earnings.\n"
     ]
    }
   ],
   "source": [
    "print(f\"The number of years in education and experience accounts for {LR1_score*100:.2f}% of variance attributed to earnings.\")"
   ]
  },
  {
   "cell_type": "markdown",
   "metadata": {
    "id": "nHDtunM0oyuk"
   },
   "source": [
    "### Evaluate the Coefficients of the Model"
   ]
  },
  {
   "cell_type": "code",
   "execution_count": 168,
   "metadata": {
    "id": "5vasqInIoydB"
   },
   "outputs": [
    {
     "name": "stdout",
     "output_type": "stream",
     "text": [
      "For every number of years in education, earnings increase by $1.94 per hour.\n",
      "For every number of years with work experience, earnings increase by $1.08 per hour.\n"
     ]
    }
   ],
   "source": [
    "print(f\"For every number of years in education, earnings increase by ${LR1.coef_[0]:.2f} per hour.\" )\n",
    "print(f\"For every number of years with work experience, earnings increase by ${LR1.coef_[1]:.2f} per hour.\" )"
   ]
  },
  {
   "cell_type": "markdown",
   "metadata": {},
   "source": [
    "Note: there could be an interaction effect, where more years of work increase the effect of education on earnings.  "
   ]
  },
  {
   "cell_type": "markdown",
   "metadata": {
    "id": "YWNeoqPLpjVb"
   },
   "source": [
    "# Use Your Model to Make a Prediction\n",
    "\n",
    "How much can someone with a bachelors degree (12 + 4) years of schooling and 5 years work experience expect to earn in 2011?"
   ]
  },
  {
   "cell_type": "code",
   "execution_count": 177,
   "metadata": {
    "id": "Mof-14lCpv60"
   },
   "outputs": [],
   "source": [
    "test_pred = pd.DataFrame({\"S\":16, \"EXP\":5}, index=[1])\n",
    "score = LR1.predict(test_pred)"
   ]
  },
  {
   "cell_type": "code",
   "execution_count": 182,
   "metadata": {
    "id": "3htX8_SBpvyb"
   },
   "outputs": [
    {
     "name": "stdout",
     "output_type": "stream",
     "text": [
      "A person with 16 years of schooling and 5 years of work experience is likely to earn $19.94 per hour in 2011.\n"
     ]
    }
   ],
   "source": [
    "print(f\"A person with 16 years of schooling and 5 years of work experience is likely to earn ${score[0]:.2f} per hour in 2011.\")"
   ]
  },
  {
   "cell_type": "markdown",
   "metadata": {
    "id": "TIYI-eQepDSQ"
   },
   "source": [
    "# Experiment and Investigate Further\n",
    "\n",
    "Which other features could you consider adding to further improve the regression to better predict earnings? "
   ]
  },
  {
   "cell_type": "markdown",
   "metadata": {},
   "source": [
    "## Creating a scoring metric"
   ]
  },
  {
   "cell_type": "code",
   "execution_count": 188,
   "metadata": {},
   "outputs": [],
   "source": [
    "def RMSE(y_pred, y_true):\n",
    "    score = mean_squared_error(y_pred,y_true)\n",
    "    score = np.sqrt(score)\n",
    "    \n",
    "    return score"
   ]
  },
  {
   "cell_type": "markdown",
   "metadata": {
    "id": "sd07-pKopJgo"
   },
   "source": [
    "## BASELINE MODEL WITH ALL FEATURES"
   ]
  },
  {
   "cell_type": "code",
   "execution_count": 185,
   "metadata": {
    "id": "Fohe2-Rdp1MO"
   },
   "outputs": [
    {
     "name": "stdout",
     "output_type": "stream",
     "text": [
      "CPU times: total: 0 ns\n",
      "Wall time: 2.23 ms\n"
     ]
    },
    {
     "data": {
      "text/plain": [
       "LinearRegression()"
      ]
     },
     "execution_count": 185,
     "metadata": {},
     "output_type": "execute_result"
    }
   ],
   "source": [
    "%%time\n",
    "LR2 = LinearRegression()\n",
    "LR2.fit(X_train, y_train)\n",
    "y_pred = LR2.predict(X_test)"
   ]
  },
  {
   "cell_type": "code",
   "execution_count": 194,
   "metadata": {},
   "outputs": [
    {
     "data": {
      "text/plain": [
       "10.561814458929755"
      ]
     },
     "execution_count": 194,
     "metadata": {},
     "output_type": "execute_result"
    }
   ],
   "source": [
    "LR2_score = RMSE(y_pred, y_test)\n",
    "LR2_score"
   ]
  },
  {
   "cell_type": "code",
   "execution_count": 195,
   "metadata": {},
   "outputs": [
    {
     "name": "stdout",
     "output_type": "stream",
     "text": [
      "The root mean square error score for including ALL variables is 10.5618. That's quite high!\n"
     ]
    }
   ],
   "source": [
    "print(f\"The root mean square error score for including ALL variables is {LR2_score:.4f}. That's quite high!\")"
   ]
  },
  {
   "cell_type": "code",
   "execution_count": 200,
   "metadata": {},
   "outputs": [],
   "source": [
    "# comparing with only 2 predictors\n",
    "\n",
    "y_pred_2 = LR1.predict(X_test[[\"S\", \"EXP\"]])\n",
    "LR1_score = RMSE(y_pred_2, y_test)"
   ]
  },
  {
   "cell_type": "code",
   "execution_count": 202,
   "metadata": {
    "scrolled": true
   },
   "outputs": [
    {
     "name": "stdout",
     "output_type": "stream",
     "text": [
      "The root mean square error score for including ALL variables is 10.5634 (lower is better). That difference is negligible.\n"
     ]
    }
   ],
   "source": [
    "print(f\"The root mean square error score for including ALL variables is {LR1_score:.4f} (lower is better). That difference is negligible.\")"
   ]
  },
  {
   "cell_type": "markdown",
   "metadata": {},
   "source": [
    "<h1> <span style='background:yellow'> There are many ways to reduce the RMSE </span> </h1>\n",
    "\n",
    "<ol>\n",
    "<li> Use a different model. There are many algorithms to predict continuous variables. \n",
    "    > The one I will demonstrate is \n",
    "<li> Feature selection (not all features contribute to the prediction)"
   ]
  }
 ],
 "metadata": {
  "colab": {
   "name": "Determinants of Earnings (start).ipynb",
   "provenance": [],
   "toc_visible": true
  },
  "kernelspec": {
   "display_name": "Python 3 (ipykernel)",
   "language": "python",
   "name": "python3"
  },
  "language_info": {
   "codemirror_mode": {
    "name": "ipython",
    "version": 3
   },
   "file_extension": ".py",
   "mimetype": "text/x-python",
   "name": "python",
   "nbconvert_exporter": "python",
   "pygments_lexer": "ipython3",
   "version": "3.9.12"
  }
 },
 "nbformat": 4,
 "nbformat_minor": 1
}
