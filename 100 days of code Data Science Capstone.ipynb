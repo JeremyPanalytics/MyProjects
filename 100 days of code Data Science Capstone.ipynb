{
 "cells": [
  {
   "cell_type": "markdown",
   "metadata": {
    "id": "BHg0HZz-intQ"
   },
   "source": [
    "# Introduction"
   ]
  },
  {
   "cell_type": "markdown",
   "metadata": {
    "id": "V2RQkgAbiqJv"
   },
   "source": [
    "The National Longitudinal Survey of Youth 1997-2011 dataset is one of the most important databases available to social scientists working with US data. \n",
    "\n",
    "It allows scientists to look at the determinants of earnings as well as educational attainment and has incredible relevance for government policy. It can also shed light on politically sensitive issues like how different educational attainment and salaries are for people of different ethnicity, sex, and other factors. When we have a better understanding how these variables affect education and earnings we can also formulate more suitable government policies. \n",
    "\n",
    "<center><img src=https://i.imgur.com/cxBpQ3I.png height=400></center>\n"
   ]
  },
  {
   "cell_type": "markdown",
   "metadata": {
    "id": "YjCPWWUSirY_"
   },
   "source": [
    "### Upgrade Plotly"
   ]
  },
  {
   "cell_type": "code",
   "execution_count": null,
   "metadata": {
    "id": "v74l3QCGirIX"
   },
   "outputs": [],
   "source": [
    "#%pip install --upgrade plotly"
   ]
  },
  {
   "cell_type": "markdown",
   "metadata": {
    "id": "br_QkHBMjC1Q"
   },
   "source": [
    "###  Import Statements\n"
   ]
  },
  {
   "cell_type": "code",
   "execution_count": null,
   "metadata": {
    "id": "gSKZx-kwie_u"
   },
   "outputs": [],
   "source": [
    "import pandas as pd\n",
    "import numpy as np\n",
    "\n",
    "import seaborn as sns\n",
    "import plotly.express as px\n",
    "import matplotlib.pyplot as plt\n",
    "\n",
    "\n",
    "# Machine learning stuff\n",
    "from sklearn.linear_model import LinearRegression, SGDRegressor\n",
    "from sklearn.model_selection import train_test_split\n",
    "\n",
    "# Evaluating predictions\n",
    "from sklearn.metrics import mean_squared_error\n",
    "\n"
   ]
  },
  {
   "cell_type": "markdown",
   "metadata": {
    "id": "9pgsrth_izCn"
   },
   "source": [
    "## Notebook Presentation"
   ]
  },
  {
   "cell_type": "code",
   "execution_count": null,
   "metadata": {
    "id": "Cgwu-WbBizqY"
   },
   "outputs": [],
   "source": [
    "pd.options.display.float_format = '{:,.2f}'.format"
   ]
  },
  {
   "cell_type": "markdown",
   "metadata": {
    "id": "E5bhysOOjLRr"
   },
   "source": [
    "# Load the Data\n",
    "\n"
   ]
  },
  {
   "cell_type": "code",
   "execution_count": null,
   "metadata": {
    "id": "6VngeTQwjM-X"
   },
   "outputs": [],
   "source": [
    "df = pd.read_csv('NLSY97_subset.csv')"
   ]
  },
  {
   "cell_type": "markdown",
   "metadata": {
    "id": "_ZjIBJ5jjrj0"
   },
   "source": [
    "### Understand the Dataset\n",
    "\n",
    "Have a look at the file entitled `NLSY97_Variable_Names_and_Descriptions.csv`. \n",
    "\n",
    "---------------------------\n",
    "\n",
    "    :Key Variables:  \n",
    "      1. S           Years of schooling (highest grade completed as of 2011)\n",
    "      2. EXP         Total out-of-school work experience (years) as of the 2011 interview.\n",
    "      3. EARNINGS    Current hourly earnings in $ reported at the 2011 interview"
   ]
  },
  {
   "cell_type": "markdown",
   "metadata": {},
   "source": [
    "# RQ1: What variables predict earnings?\n",
    "# RQ1a: What variables positively predict earnings?\n",
    "# RQ1b: What variables negatively predict earnings?"
   ]
  },
  {
   "cell_type": "markdown",
   "metadata": {
    "id": "8MkSxkjVnIfW"
   },
   "source": [
    "# Preliminary Data Exploration 🔎\n",
    "\n",
    "**Challenge**\n",
    "\n",
    "* What is the shape of `df_data`? \n",
    "* How many rows and columns does it have?\n",
    "* What are the column names?\n",
    "* Are there any NaN values or duplicates?"
   ]
  },
  {
   "cell_type": "code",
   "execution_count": null,
   "metadata": {
    "id": "V_cQguBbjwZv"
   },
   "outputs": [],
   "source": [
    "df"
   ]
  },
  {
   "cell_type": "markdown",
   "metadata": {
    "id": "4itxqgP6nQj3"
   },
   "source": [
    "## Data Cleaning - Check for Missing Values and Duplicates\n",
    "\n",
    "Find and remove any duplicate rows."
   ]
  },
  {
   "cell_type": "code",
   "execution_count": null,
   "metadata": {
    "id": "J3DHEFXWnS2N"
   },
   "outputs": [],
   "source": [
    "df[df.duplicated().values]"
   ]
  },
  {
   "cell_type": "code",
   "execution_count": null,
   "metadata": {},
   "outputs": [],
   "source": [
    "# Remove duplicated rows\n",
    "df = df.drop_duplicates(ignore_index=True)"
   ]
  },
  {
   "cell_type": "markdown",
   "metadata": {
    "id": "gGmBBPxZnVKC"
   },
   "source": [
    "## Descriptive Statistics"
   ]
  },
  {
   "cell_type": "code",
   "execution_count": null,
   "metadata": {},
   "outputs": [],
   "source": [
    "print(f\"Ratio of remaining IDs to number of predictors: {len(df)/(len(df.columns)-1)}\")"
   ]
  },
  {
   "cell_type": "markdown",
   "metadata": {
    "id": "I5VP2BMVnVrt"
   },
   "source": [
    "Considering the above, will the number of predictors still work for more advanced prediction methods?"
   ]
  },
  {
   "cell_type": "code",
   "execution_count": null,
   "metadata": {},
   "outputs": [],
   "source": [
    "df.describe()[1:]"
   ]
  },
  {
   "cell_type": "code",
   "execution_count": null,
   "metadata": {},
   "outputs": [],
   "source": [
    "df.info()"
   ]
  },
  {
   "cell_type": "code",
   "execution_count": null,
   "metadata": {
    "scrolled": true
   },
   "outputs": [],
   "source": [
    "df.columns"
   ]
  },
  {
   "cell_type": "markdown",
   "metadata": {},
   "source": [
    "## Considering there were 97 features, I had to narrow down what 1997(birth) - 2004 (elementary) predictors would likely predict 2011 earnings. "
   ]
  },
  {
   "cell_type": "code",
   "execution_count": null,
   "metadata": {
    "id": "hFZJjbsKncPM"
   },
   "outputs": [],
   "source": [
    "numerical_feat =[\n",
    "    \"ID\", # key for matching\n",
    "    'EARNINGS', # outcome\n",
    "    'S', # years of schooling\n",
    "    'EXP', # out of school work experience\n",
    "    'BYEAR', # Year of birth\n",
    "    'AGE', # Age at 2011 (will likely correlate with BYEAR)\n",
    "    'HHINC97', # Gross household income\n",
    "    'POVRAT97', # Ratio of Poverty level\n",
    "    \n",
    "    # Parental Monitoring (scale of 0 low, to 16 high)\n",
    "    'PRMONM', 'PRMONF',\n",
    "    \n",
    "    # ASVAB battery scores\n",
    "    'ASVABAR', 'ASVABWK', 'ASVABPC', 'ASVABMK', 'ASVABNO',\n",
    "    'ASVABCS', 'ASVABC', 'ASVABC4', 'VERBAL', 'ASVABMV',\n",
    "    \n",
    "    # height and weight at 2004\n",
    "    'HEIGHT', 'WEIGHT04',\n",
    "    \n",
    "    # Family background\n",
    "    'SF', 'SM', 'SFR', 'SMR', 'SIBLINGS',\n",
    "]\n",
    "\n",
    "categorical_feat = [\n",
    "    \"ID\", # key for matching\n",
    "    'FEMALE', \n",
    "    'MALE',\n",
    "    # Household structure 1997\n",
    "    'HHBMBF', 'HHBMOF', 'HHOMBF',\n",
    "    'HHBMONLY', 'HHBFONLY', 'HHOTHER',\n",
    "    \n",
    "    # Household location 1997\n",
    "    'MSA97NO', 'MSA97NCC', 'MSA97CC',\n",
    "    'MSA97NK', 'REG97NE', 'REG97NC',\n",
    "    'REG97S', 'REG97W', 'RS97RURL', \n",
    "    'RS97URBN', 'RS97UNKN',\n",
    "    \n",
    "    # Ethnicity\n",
    "    'ETHBLACK', 'ETHHISP', 'ETHWHITE',\n",
    "\n",
    "    # Highest educational qualification\n",
    "    'EDUCPROF', 'EDUCPHD',\n",
    "    'EDUCMAST', 'EDUCBA', \n",
    "    'EDUCAA', 'EDUCHSD', \n",
    "    'EDUCGED', 'EDUCDO',\n",
    "    \n",
    "    # Faith:\n",
    "    'FAITHN', 'FAITHP', 'FAITHC', 'FAITHJ', 'FAITHO','FAITHM',\n",
    "    \n",
    "     # Parenting style (0 or 1)\n",
    "    'PRMSTYUN', 'PRMSTYPE', 'PRMSTYAN', 'PRMSTYAE',\n",
    "    'PRFSTYUN', 'PRFSTYPE', 'PRFSTYAN', 'PRFSTYAE',\n",
    "    \n",
    "\n",
    "]\n",
    "\n",
    "not_included =[\n",
    "    # marital status at 2011\n",
    "    'SINGLE', 'MARRIED',\n",
    "    'COHABIT', 'OTHSING',\n",
    "    \n",
    "    # weight at 2011\n",
    "    'WEIGHT11'\n",
    "    \n",
    "    # work related vars at 2011\n",
    "    'JOBS', 'HOURS', 'TENURE', 'COLLBARG',\n",
    "    \n",
    "    # Category of employment at 2011\n",
    "    'CATGOV', 'CATPRI', 'CATNPO', 'CATMIS','CATSE',\n",
    "    \n",
    "    # Living in 2011\n",
    "    'URBAN', 'REGNE', 'REGNC', 'REGW', 'REGS',\n",
    "    'MSA11NO', 'MSA11NCC', 'MSA11CC', 'MSA11NK', 'MSA11NIC'\n",
    "]"
   ]
  },
  {
   "cell_type": "markdown",
   "metadata": {
    "id": "ZO-86NXbnWSH"
   },
   "source": [
    "## Visualise the Features"
   ]
  },
  {
   "cell_type": "code",
   "execution_count": null,
   "metadata": {},
   "outputs": [],
   "source": [
    "num_df = df[numerical_feat]\n",
    "num_df"
   ]
  },
  {
   "cell_type": "code",
   "execution_count": null,
   "metadata": {},
   "outputs": [],
   "source": [
    "%%script False\n",
    "for i in range(1, len(num_df.columns)):\n",
    "    fig = px.histogram(num_df[numerical_feat[i]], title = f\"{numerical_feat[i]}\")\n",
    "    fig.show()"
   ]
  },
  {
   "cell_type": "markdown",
   "metadata": {},
   "source": [
    "## My Analysis of graphs"
   ]
  },
  {
   "cell_type": "markdown",
   "metadata": {},
   "source": [
    "I will replace NAs with the mean/median after the next section"
   ]
  },
  {
   "cell_type": "markdown",
   "metadata": {},
   "source": [
    "## Now to look at the cateogical features"
   ]
  },
  {
   "cell_type": "code",
   "execution_count": null,
   "metadata": {},
   "outputs": [],
   "source": [
    "cat_df = df[categorical_feat]\n",
    "cat_df[:3]"
   ]
  },
  {
   "cell_type": "code",
   "execution_count": null,
   "metadata": {},
   "outputs": [],
   "source": [
    "# select only rows with presence of NAs\n",
    "cat_df.isna().sum()[cat_df.isna().sum()>0]\n",
    "missing_cat = cat_df.isna().sum()[cat_df.isna().sum()>0].index\n",
    "missing_cat"
   ]
  },
  {
   "cell_type": "markdown",
   "metadata": {},
   "source": [
    "easy to clean. On inspection, NA values are typically 0"
   ]
  },
  {
   "cell_type": "code",
   "execution_count": null,
   "metadata": {},
   "outputs": [],
   "source": [
    "# fill NAs with 0\n",
    "cat_df = cat_df.fillna(0)"
   ]
  },
  {
   "cell_type": "markdown",
   "metadata": {},
   "source": [
    "## Handing missing data from numerical features"
   ]
  },
  {
   "cell_type": "code",
   "execution_count": null,
   "metadata": {},
   "outputs": [],
   "source": [
    "# select columns with NAs\n",
    "num_df.isna().sum()[num_df.isna().sum()>0]\n",
    "missing_num = num_df.isna().sum()[num_df.isna().sum()>0].index\n",
    "missing_num\n",
    "\n",
    "# see columns with data\n",
    "num_df[missing_num][:3]"
   ]
  },
  {
   "cell_type": "markdown",
   "metadata": {},
   "source": [
    "### Columns with Missing numerical values\n",
    "- HHINC97: Gross household income, $, in year prior to 1997 interview\n",
    "- POVRAT97: Ratio of household income to poverty level, 1997\n",
    "- PRMONM: Monitoring by mother\n",
    "- PRMONF: Monitoring by father\n",
    "- SFR: Years of schooling of residential Father\n",
    "- SMR: Years of schooling of residential Mother\n",
    "\n",
    "I need to see the range of each to determine the necessary actions."
   ]
  },
  {
   "cell_type": "code",
   "execution_count": null,
   "metadata": {},
   "outputs": [],
   "source": [
    "num_df[missing_num].describe()"
   ]
  },
  {
   "cell_type": "markdown",
   "metadata": {},
   "source": [
    "### Actions required: Imputation\n",
    "- HHINC97: mean values\n",
    "- POVRAT97: mean values\n",
    "- PRMONM: median values\n",
    "- PRMONF: median values\n",
    "- SFR: median values\n",
    "- SMR: median values"
   ]
  },
  {
   "cell_type": "code",
   "execution_count": null,
   "metadata": {},
   "outputs": [],
   "source": [
    "# HHINC97 mean imputation\n",
    "num_df['HHINC97'] = num_df['HHINC97'].fillna(num_df['HHINC97'].mean())\n",
    "\n",
    "# POVRAT97 mean imputation\n",
    "num_df['POVRAT97'] = num_df['POVRAT97'].fillna(num_df['POVRAT97'].mean())\n",
    "\n",
    "# lets code the next one...\n",
    "features = [\"PRMONM\",\"PRMONF\",\"SFR\",\"SMR\"]\n",
    "\n",
    "for i in features:\n",
    "    num_df[i] = num_df[i].fillna(num_df[i].median())"
   ]
  },
  {
   "cell_type": "code",
   "execution_count": null,
   "metadata": {},
   "outputs": [],
   "source": [
    "num_df[missing_num].isna().sum()"
   ]
  },
  {
   "cell_type": "markdown",
   "metadata": {},
   "source": [
    "### NA filled, we can merge the data\n",
    "At this point in time, I can do one more step to do standardising of the values.\n",
    "\n",
    "But maybe for my next submission?"
   ]
  },
  {
   "cell_type": "markdown",
   "metadata": {},
   "source": [
    "## Merging the data"
   ]
  },
  {
   "cell_type": "code",
   "execution_count": null,
   "metadata": {},
   "outputs": [],
   "source": [
    "df_new = num_df.merge(cat_df, on=\"ID\")"
   ]
  },
  {
   "cell_type": "code",
   "execution_count": null,
   "metadata": {},
   "outputs": [],
   "source": [
    "df_new = df_new.drop(\"ID\", axis = 1)\n"
   ]
  },
  {
   "cell_type": "code",
   "execution_count": null,
   "metadata": {},
   "outputs": [],
   "source": [
    "df_new[:3]"
   ]
  },
  {
   "cell_type": "markdown",
   "metadata": {},
   "source": [
    "I learnt from previous projects to check after merging..."
   ]
  },
  {
   "cell_type": "markdown",
   "metadata": {
    "id": "9i4zHYG4nhDL"
   },
   "source": [
    "# Split Training & Test Dataset\n",
    "\n",
    "We *can't* use all the entries in our dataset to train our model. Keep 30% of the data for later as a testing dataset (out-of-sample data).  "
   ]
  },
  {
   "cell_type": "code",
   "execution_count": null,
   "metadata": {},
   "outputs": [],
   "source": [
    "earnings = df_new[\"EARNINGS\"]\n",
    "df_new = df_new.drop(\"EARNINGS\", axis=1)"
   ]
  },
  {
   "cell_type": "code",
   "execution_count": null,
   "metadata": {
    "id": "M_OfRSyunkA1"
   },
   "outputs": [],
   "source": [
    "X_train, X_test, y_train, y_test = train_test_split(df_new, earnings,\n",
    "                                                    test_size = .3, \n",
    "                                                    random_state = 1047)"
   ]
  },
  {
   "cell_type": "markdown",
   "metadata": {},
   "source": [
    "### Checking the outputs to see if they are okay"
   ]
  },
  {
   "cell_type": "code",
   "execution_count": null,
   "metadata": {},
   "outputs": [],
   "source": [
    "len(X_train), len(X_test), len(y_train), len(y_test)"
   ]
  },
  {
   "cell_type": "markdown",
   "metadata": {
    "id": "EM99NOH0noFS"
   },
   "source": [
    "# Simple Linear Regression\n",
    "\n",
    "Only use the years of schooling to predict earnings. Use sklearn to run the regression on the training dataset. How high is the r-squared for the regression on the training data? "
   ]
  },
  {
   "cell_type": "code",
   "execution_count": null,
   "metadata": {},
   "outputs": [],
   "source": [
    "S = pd.DataFrame(X_train[\"S\"])\n"
   ]
  },
  {
   "cell_type": "code",
   "execution_count": null,
   "metadata": {
    "id": "J_MViuoNnvHf"
   },
   "outputs": [],
   "source": [
    "%%time\n",
    "LR = LinearRegression()\n",
    "LR.fit(S, y_train)"
   ]
  },
  {
   "cell_type": "markdown",
   "metadata": {
    "id": "s2TeWKs7oJSa"
   },
   "source": [
    "### Evaluate the Coefficients of the Model\n",
    "\n",
    "Here we do a sense check on our regression coefficients. The first thing to look for is if the coefficients have the expected sign (positive or negative). \n",
    "\n",
    "Interpret the regression. How many extra dollars can one expect to earn for an additional year of schooling?"
   ]
  },
  {
   "cell_type": "code",
   "execution_count": null,
   "metadata": {
    "id": "QmhzZAmAoW4t"
   },
   "outputs": [],
   "source": [
    "print(f\"For every one year of schooling, earnings increase by ${LR.coef_[0]:.2f} per hour.\")"
   ]
  },
  {
   "cell_type": "markdown",
   "metadata": {
    "id": "WIyMPXXYobx8"
   },
   "source": [
    "### Analyse the Estimated Values & Regression Residuals\n",
    "\n",
    "How good our regression is also depends on the residuals - the difference between the model's predictions ( 𝑦̂ 𝑖 ) and the true values ( 𝑦𝑖 ) inside y_train. Do you see any patterns in the distribution of the residuals?"
   ]
  },
  {
   "cell_type": "code",
   "execution_count": null,
   "metadata": {},
   "outputs": [],
   "source": [
    "S_score = LR.score(S, y_train)"
   ]
  },
  {
   "cell_type": "code",
   "execution_count": null,
   "metadata": {
    "id": "m_diDXSXotm6"
   },
   "outputs": [],
   "source": [
    "print(f\"The number of years in education only accounts for {S_score*100:.2f}% of variance attributed to earnings.\")"
   ]
  },
  {
   "cell_type": "markdown",
   "metadata": {
    "id": "zNBuJ1iBnvpl"
   },
   "source": [
    "# Multivariable Regression\n",
    "\n",
    "Now use both years of schooling and the years work experience to predict earnings. How high is the r-squared for the regression on the training data? "
   ]
  },
  {
   "cell_type": "code",
   "execution_count": null,
   "metadata": {
    "id": "Ihq-C4looCSM"
   },
   "outputs": [],
   "source": [
    "LR1 = LinearRegression()\n",
    "LR1.fit(X_train[[\"S\", \"EXP\"]], y_train)\n",
    "LR1_score = LR1.score(X_train[[\"S\", \"EXP\"]], y_train)"
   ]
  },
  {
   "cell_type": "code",
   "execution_count": null,
   "metadata": {},
   "outputs": [],
   "source": [
    "LR1_score"
   ]
  },
  {
   "cell_type": "code",
   "execution_count": null,
   "metadata": {},
   "outputs": [],
   "source": [
    "LR1.coef_"
   ]
  },
  {
   "cell_type": "code",
   "execution_count": null,
   "metadata": {
    "id": "dRhB7Iwboyfq"
   },
   "outputs": [],
   "source": [
    "print(f\"The number of years in education and experience accounts for {LR1_score*100:.2f}% of variance attributed to earnings.\")"
   ]
  },
  {
   "cell_type": "markdown",
   "metadata": {
    "id": "nHDtunM0oyuk"
   },
   "source": [
    "### Evaluate the Coefficients of the Model"
   ]
  },
  {
   "cell_type": "code",
   "execution_count": null,
   "metadata": {
    "id": "5vasqInIoydB"
   },
   "outputs": [],
   "source": [
    "print(f\"For every number of years in education, earnings increase by ${LR1.coef_[0]:.2f} per hour.\" )\n",
    "print(f\"For every number of years with work experience, earnings increase by ${LR1.coef_[1]:.2f} per hour.\" )"
   ]
  },
  {
   "cell_type": "markdown",
   "metadata": {},
   "source": [
    "Note: there could be an interaction effect, where more years of work increase the effect of education on earnings.  "
   ]
  },
  {
   "cell_type": "markdown",
   "metadata": {
    "id": "YWNeoqPLpjVb"
   },
   "source": [
    "# Use Your Model to Make a Prediction\n",
    "\n",
    "How much can someone with a bachelors degree (12 + 4) years of schooling and 5 years work experience expect to earn in 2011?"
   ]
  },
  {
   "cell_type": "code",
   "execution_count": null,
   "metadata": {
    "id": "Mof-14lCpv60"
   },
   "outputs": [],
   "source": [
    "test_pred = pd.DataFrame({\"S\":16, \"EXP\":5}, index=[1])\n",
    "score = LR1.predict(test_pred)"
   ]
  },
  {
   "cell_type": "code",
   "execution_count": null,
   "metadata": {
    "id": "3htX8_SBpvyb"
   },
   "outputs": [],
   "source": [
    "print(f\"A person with 16 years of schooling and 5 years of work experience is likely to earn ${score[0]:.2f} per hour in 2011.\")"
   ]
  },
  {
   "cell_type": "markdown",
   "metadata": {
    "id": "TIYI-eQepDSQ"
   },
   "source": [
    "# Experiment and Investigate Further\n",
    "\n",
    "Which other features could you consider adding to further improve the regression to better predict earnings? "
   ]
  },
  {
   "cell_type": "markdown",
   "metadata": {},
   "source": [
    "## Creating a scoring metric"
   ]
  },
  {
   "cell_type": "code",
   "execution_count": null,
   "metadata": {},
   "outputs": [],
   "source": [
    "def RMSE(y_pred, y_true):\n",
    "    score = mean_squared_error(y_pred,y_true)\n",
    "    score = np.sqrt(score)\n",
    "    \n",
    "    return score"
   ]
  },
  {
   "cell_type": "markdown",
   "metadata": {
    "id": "sd07-pKopJgo"
   },
   "source": [
    "## BASELINE MODEL WITH ALL FEATURES"
   ]
  },
  {
   "cell_type": "code",
   "execution_count": null,
   "metadata": {
    "id": "Fohe2-Rdp1MO"
   },
   "outputs": [],
   "source": [
    "%%time\n",
    "LR2 = LinearRegression()\n",
    "LR2.fit(X_train, y_train)\n",
    "y_pred = LR2.predict(X_test)"
   ]
  },
  {
   "cell_type": "code",
   "execution_count": null,
   "metadata": {},
   "outputs": [],
   "source": [
    "LR2_score = RMSE(y_pred, y_test)\n",
    "LR2_score"
   ]
  },
  {
   "cell_type": "code",
   "execution_count": null,
   "metadata": {},
   "outputs": [],
   "source": [
    "print(f\"The root mean square error score for including ALL variables is {LR2_score:.4f}. That's quite high!\")"
   ]
  },
  {
   "cell_type": "code",
   "execution_count": null,
   "metadata": {},
   "outputs": [],
   "source": [
    "# comparing with only 2 predictors\n",
    "\n",
    "y_pred_2 = LR1.predict(X_test[[\"S\", \"EXP\"]])\n",
    "LR1_score = RMSE(y_pred_2, y_test)"
   ]
  },
  {
   "cell_type": "code",
   "execution_count": null,
   "metadata": {
    "scrolled": true
   },
   "outputs": [],
   "source": [
    "print(f\"The root mean square error score for including ALL variables is {LR1_score:.4f} (lower is better). That difference is negligible.\")"
   ]
  },
  {
   "cell_type": "markdown",
   "metadata": {},
   "source": [
    "<h1> <span style='background:yellow'> There are many ways to reduce the RMSE </span> </h1>\n",
    "\n",
    "<ol>\n",
    "<li> Feature selection (not all features contribute to the prediction)\n",
    "<li> Scaling and standardisation (IMPT!)\n",
    "<li> Use a different model. There are many algorithms to predict continuous variables. \n",
    "\n",
    "    \n",
    "- SGD Regressor (scaling required)"
   ]
  },
  {
   "cell_type": "code",
   "execution_count": null,
   "metadata": {},
   "outputs": [],
   "source": []
  }
 ],
 "metadata": {
  "colab": {
   "name": "Determinants of Earnings (start).ipynb",
   "provenance": [],
   "toc_visible": true
  },
  "kernelspec": {
   "display_name": "Python 3 (ipykernel)",
   "language": "python",
   "name": "python3"
  },
  "language_info": {
   "codemirror_mode": {
    "name": "ipython",
    "version": 3
   },
   "file_extension": ".py",
   "mimetype": "text/x-python",
   "name": "python",
   "nbconvert_exporter": "python",
   "pygments_lexer": "ipython3",
   "version": "3.9.12"
  }
 },
 "nbformat": 4,
 "nbformat_minor": 1
}
